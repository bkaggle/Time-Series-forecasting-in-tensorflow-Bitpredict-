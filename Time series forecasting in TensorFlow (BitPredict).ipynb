{
 "cells": [
  {
   "cell_type": "code",
   "execution_count": 1,
   "id": "98a13ff4",
   "metadata": {},
   "outputs": [],
   "source": [
    "import opendatasets as od"
   ]
  },
  {
   "cell_type": "code",
   "execution_count": 2,
   "id": "396354dc",
   "metadata": {},
   "outputs": [
    {
     "name": "stdout",
     "output_type": "stream",
     "text": [
      "Using downloaded and verified file: .\\BTC_USD_2013-10-01_2021-05-18-CoinDesk.csv\n"
     ]
    }
   ],
   "source": [
    "od.download('https://raw.githubusercontent.com/mrdbourke/tensorflow-deep-learning/main/extras/BTC_USD_2013-10-01_2021-05-18-CoinDesk.csv')"
   ]
  },
  {
   "cell_type": "code",
   "execution_count": 3,
   "id": "9293891b",
   "metadata": {},
   "outputs": [],
   "source": [
    "import pandas as pd"
   ]
  },
  {
   "cell_type": "code",
   "execution_count": 4,
   "id": "3e6b9e69",
   "metadata": {},
   "outputs": [
    {
     "data": {
      "text/html": [
       "<div>\n",
       "<style scoped>\n",
       "    .dataframe tbody tr th:only-of-type {\n",
       "        vertical-align: middle;\n",
       "    }\n",
       "\n",
       "    .dataframe tbody tr th {\n",
       "        vertical-align: top;\n",
       "    }\n",
       "\n",
       "    .dataframe thead th {\n",
       "        text-align: right;\n",
       "    }\n",
       "</style>\n",
       "<table border=\"1\" class=\"dataframe\">\n",
       "  <thead>\n",
       "    <tr style=\"text-align: right;\">\n",
       "      <th></th>\n",
       "      <th>Currency</th>\n",
       "      <th>Closing Price (USD)</th>\n",
       "      <th>24h Open (USD)</th>\n",
       "      <th>24h High (USD)</th>\n",
       "      <th>24h Low (USD)</th>\n",
       "    </tr>\n",
       "    <tr>\n",
       "      <th>Date</th>\n",
       "      <th></th>\n",
       "      <th></th>\n",
       "      <th></th>\n",
       "      <th></th>\n",
       "      <th></th>\n",
       "    </tr>\n",
       "  </thead>\n",
       "  <tbody>\n",
       "    <tr>\n",
       "      <th>2013-10-01</th>\n",
       "      <td>BTC</td>\n",
       "      <td>123.654990</td>\n",
       "      <td>124.304660</td>\n",
       "      <td>124.751660</td>\n",
       "      <td>122.563490</td>\n",
       "    </tr>\n",
       "    <tr>\n",
       "      <th>2013-10-02</th>\n",
       "      <td>BTC</td>\n",
       "      <td>125.455000</td>\n",
       "      <td>123.654990</td>\n",
       "      <td>125.758500</td>\n",
       "      <td>123.633830</td>\n",
       "    </tr>\n",
       "    <tr>\n",
       "      <th>2013-10-03</th>\n",
       "      <td>BTC</td>\n",
       "      <td>108.584830</td>\n",
       "      <td>125.455000</td>\n",
       "      <td>125.665660</td>\n",
       "      <td>83.328330</td>\n",
       "    </tr>\n",
       "    <tr>\n",
       "      <th>2013-10-04</th>\n",
       "      <td>BTC</td>\n",
       "      <td>118.674660</td>\n",
       "      <td>108.584830</td>\n",
       "      <td>118.675000</td>\n",
       "      <td>107.058160</td>\n",
       "    </tr>\n",
       "    <tr>\n",
       "      <th>2013-10-05</th>\n",
       "      <td>BTC</td>\n",
       "      <td>121.338660</td>\n",
       "      <td>118.674660</td>\n",
       "      <td>121.936330</td>\n",
       "      <td>118.005660</td>\n",
       "    </tr>\n",
       "    <tr>\n",
       "      <th>...</th>\n",
       "      <td>...</td>\n",
       "      <td>...</td>\n",
       "      <td>...</td>\n",
       "      <td>...</td>\n",
       "      <td>...</td>\n",
       "    </tr>\n",
       "    <tr>\n",
       "      <th>2021-05-14</th>\n",
       "      <td>BTC</td>\n",
       "      <td>49764.132082</td>\n",
       "      <td>49596.778891</td>\n",
       "      <td>51448.798576</td>\n",
       "      <td>46294.720180</td>\n",
       "    </tr>\n",
       "    <tr>\n",
       "      <th>2021-05-15</th>\n",
       "      <td>BTC</td>\n",
       "      <td>50032.693137</td>\n",
       "      <td>49717.354353</td>\n",
       "      <td>51578.312545</td>\n",
       "      <td>48944.346536</td>\n",
       "    </tr>\n",
       "    <tr>\n",
       "      <th>2021-05-16</th>\n",
       "      <td>BTC</td>\n",
       "      <td>47885.625255</td>\n",
       "      <td>49926.035067</td>\n",
       "      <td>50690.802950</td>\n",
       "      <td>47005.102292</td>\n",
       "    </tr>\n",
       "    <tr>\n",
       "      <th>2021-05-17</th>\n",
       "      <td>BTC</td>\n",
       "      <td>45604.615754</td>\n",
       "      <td>46805.537852</td>\n",
       "      <td>49670.414174</td>\n",
       "      <td>43868.638969</td>\n",
       "    </tr>\n",
       "    <tr>\n",
       "      <th>2021-05-18</th>\n",
       "      <td>BTC</td>\n",
       "      <td>43144.471291</td>\n",
       "      <td>46439.336570</td>\n",
       "      <td>46622.853437</td>\n",
       "      <td>42102.346430</td>\n",
       "    </tr>\n",
       "  </tbody>\n",
       "</table>\n",
       "<p>2787 rows × 5 columns</p>\n",
       "</div>"
      ],
      "text/plain": [
       "           Currency  Closing Price (USD)  24h Open (USD)  24h High (USD)  \\\n",
       "Date                                                                       \n",
       "2013-10-01      BTC           123.654990      124.304660      124.751660   \n",
       "2013-10-02      BTC           125.455000      123.654990      125.758500   \n",
       "2013-10-03      BTC           108.584830      125.455000      125.665660   \n",
       "2013-10-04      BTC           118.674660      108.584830      118.675000   \n",
       "2013-10-05      BTC           121.338660      118.674660      121.936330   \n",
       "...             ...                  ...             ...             ...   \n",
       "2021-05-14      BTC         49764.132082    49596.778891    51448.798576   \n",
       "2021-05-15      BTC         50032.693137    49717.354353    51578.312545   \n",
       "2021-05-16      BTC         47885.625255    49926.035067    50690.802950   \n",
       "2021-05-17      BTC         45604.615754    46805.537852    49670.414174   \n",
       "2021-05-18      BTC         43144.471291    46439.336570    46622.853437   \n",
       "\n",
       "            24h Low (USD)  \n",
       "Date                       \n",
       "2013-10-01     122.563490  \n",
       "2013-10-02     123.633830  \n",
       "2013-10-03      83.328330  \n",
       "2013-10-04     107.058160  \n",
       "2013-10-05     118.005660  \n",
       "...                   ...  \n",
       "2021-05-14   46294.720180  \n",
       "2021-05-15   48944.346536  \n",
       "2021-05-16   47005.102292  \n",
       "2021-05-17   43868.638969  \n",
       "2021-05-18   42102.346430  \n",
       "\n",
       "[2787 rows x 5 columns]"
      ]
     },
     "execution_count": 4,
     "metadata": {},
     "output_type": "execute_result"
    }
   ],
   "source": [
    "df=pd.read_csv('.\\BTC_USD_2013-10-01_2021-05-18-CoinDesk.csv',parse_dates=True,index_col='Date')\n",
    "df"
   ]
  },
  {
   "cell_type": "code",
   "execution_count": 5,
   "id": "65c1bd7e",
   "metadata": {},
   "outputs": [
    {
     "name": "stdout",
     "output_type": "stream",
     "text": [
      "<class 'pandas.core.frame.DataFrame'>\n",
      "DatetimeIndex: 2787 entries, 2013-10-01 to 2021-05-18\n",
      "Data columns (total 5 columns):\n",
      " #   Column               Non-Null Count  Dtype  \n",
      "---  ------               --------------  -----  \n",
      " 0   Currency             2787 non-null   object \n",
      " 1   Closing Price (USD)  2787 non-null   float64\n",
      " 2   24h Open (USD)       2787 non-null   float64\n",
      " 3   24h High (USD)       2787 non-null   float64\n",
      " 4   24h Low (USD)        2787 non-null   float64\n",
      "dtypes: float64(4), object(1)\n",
      "memory usage: 130.6+ KB\n"
     ]
    }
   ],
   "source": [
    "df.info()"
   ]
  },
  {
   "cell_type": "code",
   "execution_count": 6,
   "id": "e2a55a87",
   "metadata": {},
   "outputs": [
    {
     "data": {
      "text/plain": [
       "2787"
      ]
     },
     "execution_count": 6,
     "metadata": {},
     "output_type": "execute_result"
    }
   ],
   "source": [
    "len(df)"
   ]
  },
  {
   "cell_type": "code",
   "execution_count": 7,
   "id": "0e03b2e5",
   "metadata": {},
   "outputs": [],
   "source": [
    "bitcoin_prices=pd.DataFrame(df['Closing Price (USD)']).rename(columns={'Closing Price (USD)':'Price'})"
   ]
  },
  {
   "cell_type": "code",
   "execution_count": 8,
   "id": "9fa31e27",
   "metadata": {},
   "outputs": [
    {
     "data": {
      "text/html": [
       "<div>\n",
       "<style scoped>\n",
       "    .dataframe tbody tr th:only-of-type {\n",
       "        vertical-align: middle;\n",
       "    }\n",
       "\n",
       "    .dataframe tbody tr th {\n",
       "        vertical-align: top;\n",
       "    }\n",
       "\n",
       "    .dataframe thead th {\n",
       "        text-align: right;\n",
       "    }\n",
       "</style>\n",
       "<table border=\"1\" class=\"dataframe\">\n",
       "  <thead>\n",
       "    <tr style=\"text-align: right;\">\n",
       "      <th></th>\n",
       "      <th>Price</th>\n",
       "    </tr>\n",
       "    <tr>\n",
       "      <th>Date</th>\n",
       "      <th></th>\n",
       "    </tr>\n",
       "  </thead>\n",
       "  <tbody>\n",
       "    <tr>\n",
       "      <th>2013-10-01</th>\n",
       "      <td>123.654990</td>\n",
       "    </tr>\n",
       "    <tr>\n",
       "      <th>2013-10-02</th>\n",
       "      <td>125.455000</td>\n",
       "    </tr>\n",
       "    <tr>\n",
       "      <th>2013-10-03</th>\n",
       "      <td>108.584830</td>\n",
       "    </tr>\n",
       "    <tr>\n",
       "      <th>2013-10-04</th>\n",
       "      <td>118.674660</td>\n",
       "    </tr>\n",
       "    <tr>\n",
       "      <th>2013-10-05</th>\n",
       "      <td>121.338660</td>\n",
       "    </tr>\n",
       "    <tr>\n",
       "      <th>...</th>\n",
       "      <td>...</td>\n",
       "    </tr>\n",
       "    <tr>\n",
       "      <th>2021-05-14</th>\n",
       "      <td>49764.132082</td>\n",
       "    </tr>\n",
       "    <tr>\n",
       "      <th>2021-05-15</th>\n",
       "      <td>50032.693137</td>\n",
       "    </tr>\n",
       "    <tr>\n",
       "      <th>2021-05-16</th>\n",
       "      <td>47885.625255</td>\n",
       "    </tr>\n",
       "    <tr>\n",
       "      <th>2021-05-17</th>\n",
       "      <td>45604.615754</td>\n",
       "    </tr>\n",
       "    <tr>\n",
       "      <th>2021-05-18</th>\n",
       "      <td>43144.471291</td>\n",
       "    </tr>\n",
       "  </tbody>\n",
       "</table>\n",
       "<p>2787 rows × 1 columns</p>\n",
       "</div>"
      ],
      "text/plain": [
       "                   Price\n",
       "Date                    \n",
       "2013-10-01    123.654990\n",
       "2013-10-02    125.455000\n",
       "2013-10-03    108.584830\n",
       "2013-10-04    118.674660\n",
       "2013-10-05    121.338660\n",
       "...                  ...\n",
       "2021-05-14  49764.132082\n",
       "2021-05-15  50032.693137\n",
       "2021-05-16  47885.625255\n",
       "2021-05-17  45604.615754\n",
       "2021-05-18  43144.471291\n",
       "\n",
       "[2787 rows x 1 columns]"
      ]
     },
     "execution_count": 8,
     "metadata": {},
     "output_type": "execute_result"
    }
   ],
   "source": [
    "bitcoin_prices"
   ]
  },
  {
   "cell_type": "code",
   "execution_count": 9,
   "id": "05251f97",
   "metadata": {},
   "outputs": [],
   "source": [
    "import matplotlib.pyplot as plt"
   ]
  },
  {
   "cell_type": "code",
   "execution_count": 10,
   "id": "f00152d7",
   "metadata": {},
   "outputs": [
    {
     "data": {
      "text/plain": [
       "Text(0.5, 1.0, 'Bitcoin Price from 2013 to 2021')"
      ]
     },
     "execution_count": 10,
     "metadata": {},
     "output_type": "execute_result"
    },
    {
     "data": {
      "image/png": "[encoded data removed]",
      "text/plain": [
       "<Figure size 864x432 with 1 Axes>"
      ]
     },
     "metadata": {
      "needs_background": "light"
     },
     "output_type": "display_data"
    }
   ],
   "source": [
    "bitcoin_prices.plot(figsize=(12,6))\n",
    "plt.ylabel('BTC Price')\n",
    "plt.title('Bitcoin Price from 2013 to 2021')"
   ]
  },
  {
   "cell_type": "markdown",
   "id": "7e93481e",
   "metadata": {},
   "source": [
    "## Create Train and  Test"
   ]
  },
  {
   "cell_type": "markdown",
   "id": "d595e6f2",
   "metadata": {},
   "source": [
    "The wrong way"
   ]
  },
  {
   "cell_type": "code",
   "execution_count": 11,
   "id": "8ad95214",
   "metadata": {},
   "outputs": [
    {
     "data": {
      "text/plain": [
       "(array(['2013-10-01T00:00:00.000000000', '2013-10-02T00:00:00.000000000',\n",
       "        '2013-10-03T00:00:00.000000000', '2013-10-04T00:00:00.000000000',\n",
       "        '2013-10-05T00:00:00.000000000', '2013-10-06T00:00:00.000000000',\n",
       "        '2013-10-07T00:00:00.000000000', '2013-10-08T00:00:00.000000000',\n",
       "        '2013-10-09T00:00:00.000000000', '2013-10-10T00:00:00.000000000'],\n",
       "       dtype='datetime64[ns]'),\n",
       " array([123.65499, 125.455  , 108.58483, 118.67466, 121.33866, 120.65533,\n",
       "        121.795  , 123.033  , 124.049  , 125.96116]))"
      ]
     },
     "execution_count": 11,
     "metadata": {},
     "output_type": "execute_result"
    }
   ],
   "source": [
    "# Get bitcoin date array \n",
    "timesteps = bitcoin_prices.index.to_numpy()\n",
    "prices = bitcoin_prices[\"Price\"].to_numpy()\n",
    "\n",
    "timesteps[:10], prices[:10]"
   ]
  },
  {
   "cell_type": "code",
   "execution_count": 12,
   "id": "af7eb508",
   "metadata": {},
   "outputs": [],
   "source": [
    "from sklearn.model_selection import train_test_split"
   ]
  },
  {
   "cell_type": "code",
   "execution_count": 13,
   "id": "2db98071",
   "metadata": {},
   "outputs": [
    {
     "data": {
      "text/plain": [
       "((2229,), (558,), (2229,), (558,))"
      ]
     },
     "execution_count": 13,
     "metadata": {},
     "output_type": "execute_result"
    }
   ],
   "source": [
    "X_train,X_test,y_train,y_test=train_test_split(timesteps,prices,test_size=0.2,random_state=42)\n",
    "X_train.shape,X_test.shape,y_train.shape,y_test.shape"
   ]
  },
  {
   "cell_type": "code",
   "execution_count": 14,
   "id": "84c19591",
   "metadata": {},
   "outputs": [
    {
     "data": {
      "image/png": "[encoded data removed]",
      "text/plain": [
       "<Figure size 720x504 with 1 Axes>"
      ]
     },
     "metadata": {
      "needs_background": "light"
     },
     "output_type": "display_data"
    }
   ],
   "source": [
    "# Let's visualize the wrong data\n",
    "plt.figure(figsize=(10,7))\n",
    "plt.scatter(X_train,y_train)\n",
    "plt.scatter(X_test,y_test)\n",
    "plt.legend(['Train data','Test data'])\n",
    "plt.show()"
   ]
  },
  {
   "cell_type": "markdown",
   "id": "8dc99168",
   "metadata": {},
   "source": [
    "This kind of random split is okay for datasets without a time component (such as images or passages of text for classification problems) but for time series, we've got to take the time factor into account.\n",
    "\n",
    "To fix this, we've got to split our data in a way that reflects what we're actually trying to do.\n",
    "\n",
    "We need to split our historical Bitcoin data to have a dataset that reflects the past (train set) and a dataset that reflects the future (test set)."
   ]
  },
  {
   "cell_type": "markdown",
   "id": "7498670a",
   "metadata": {},
   "source": [
    "The right way"
   ]
  },
  {
   "cell_type": "code",
   "execution_count": 15,
   "id": "3c7f7d8b",
   "metadata": {},
   "outputs": [],
   "source": [
    "# Create train and test splits the right way for time series data\n",
    "size=int(0.8*len(prices)) # 80% train, 20% test\n",
    "\n",
    "# Create train data splits (everything before the split)\n",
    "X_train,y_train=timesteps[:size],prices[:size]\n",
    "X_test,y_test=timesteps[size:],prices[size:]"
   ]
  },
  {
   "cell_type": "code",
   "execution_count": 16,
   "id": "1d1f0e71",
   "metadata": {},
   "outputs": [
    {
     "data": {
      "image/png": "[encoded data removed]",
      "text/plain": [
       "<Figure size 720x504 with 1 Axes>"
      ]
     },
     "metadata": {
      "needs_background": "light"
     },
     "output_type": "display_data"
    }
   ],
   "source": [
    "# Let's visualize the right data\n",
    "plt.figure(figsize=(10,7))\n",
    "plt.scatter(X_train,y_train)\n",
    "plt.scatter(X_test,y_test)\n",
    "plt.legend(['Train data','Test data'])\n",
    "plt.show()"
   ]
  },
  {
   "cell_type": "markdown",
   "id": "a88bf27d",
   "metadata": {},
   "source": [
    "## Create a plotting function"
   ]
  },
  {
   "cell_type": "code",
   "execution_count": 17,
   "id": "fc82ab96",
   "metadata": {},
   "outputs": [],
   "source": [
    "# Create a function to plot time series data\n",
    "def plot_time_series(X, y, format='.', start=0, end=None,label=None):\n",
    "    \n",
    "    plt.plot(X[start:end], y[start:end], format,label=label)\n",
    "    plt.xlabel(\"Time\")\n",
    "    plt.ylabel(\"BTC Price\")\n",
    "    if label:\n",
    "        plt.legend(fontsize=14) # make label bigger\n",
    "    plt.grid(True)\n"
   ]
  },
  {
   "cell_type": "code",
   "execution_count": 18,
   "id": "00c50320",
   "metadata": {},
   "outputs": [
    {
     "data": {
      "image/png": "[encoded data removed]",
      "text/plain": [
       "<Figure size 720x504 with 1 Axes>"
      ]
     },
     "metadata": {
      "needs_background": "light"
     },
     "output_type": "display_data"
    }
   ],
   "source": [
    "# Try out our plotting function\n",
    "plt.figure(figsize=(10, 7))\n",
    "plot_time_series(X=X_train, y=y_train,label='Train data')\n",
    "plot_time_series(X=X_test, y=y_test,label='Test data')\n"
   ]
  },
  {
   "cell_type": "markdown",
   "id": "2eef8461",
   "metadata": {},
   "source": [
    "## Model 0: Naïve forecast (baseline)"
   ]
  },
  {
   "cell_type": "markdown",
   "id": "8de201ae",
   "metadata": {},
   "source": [
    "As usual, let's start with a baseline.\n",
    "\n",
    "One of the most common baseline models for time series forecasting, the naïve model (also called the naïve forecast), requires no training at all.\n",
    "\n",
    "That's because all the naïve model does is use the previous timestep value to predict the next timestep value.\n",
    "\n",
    "yft=y(t-1)"
   ]
  },
  {
   "cell_type": "code",
   "execution_count": 19,
   "id": "b40af8e7",
   "metadata": {},
   "outputs": [
    {
     "data": {
      "text/plain": [
       "(array([9226.48582088, 8794.35864452, 8798.04205463, 9081.18687849,\n",
       "        8711.53433917, 8760.89271814, 8749.52059102, 8656.97092235,\n",
       "        8500.64355816, 8469.2608989 ]),\n",
       " array([57107.12067189, 58788.20967893, 58102.19142623, 55715.54665129,\n",
       "        56573.5554719 , 52147.82118698, 49764.1320816 , 50032.69313676,\n",
       "        47885.62525472, 45604.61575361]))"
      ]
     },
     "execution_count": 19,
     "metadata": {},
     "output_type": "execute_result"
    }
   ],
   "source": [
    "naive_forecast=y_test[:-1] # Naïve forecast equals every value excluding the last value\n",
    "naive_forecast[:10], naive_forecast[-10:] # View frist 10 and last 10"
   ]
  },
  {
   "cell_type": "code",
   "execution_count": 20,
   "id": "31b5a22b",
   "metadata": {},
   "outputs": [
    {
     "data": {
      "image/png": "[encoded data removed]",
      "text/plain": [
       "<Figure size 864x432 with 1 Axes>"
      ]
     },
     "metadata": {
      "needs_background": "light"
     },
     "output_type": "display_data"
    }
   ],
   "source": [
    "# Plot naive forecast\n",
    "plt.figure(figsize=(12,6))\n",
    "plot_time_series(X=X_train,y=y_train,label='Train data')\n",
    "plot_time_series(X=X_test,y=y_test,label='Test data')\n",
    "plot_time_series(X=X_test[1:],y=naive_forecast,format='-',label='Naive forecast')"
   ]
  },
  {
   "cell_type": "markdown",
   "id": "f01a5989",
   "metadata": {},
   "source": [
    "The naive forecast looks like it's following the data well.\n",
    "\n",
    "Let's zoom in to take a better look.\n",
    "\n",
    "We can do so by creating an offset value and passing it to the start parameter of our plot_time_series() function."
   ]
  },
  {
   "cell_type": "code",
   "execution_count": 21,
   "id": "63cbfb6e",
   "metadata": {},
   "outputs": [
    {
     "data": {
      "image/png": "[encoded data removed]",
      "text/plain": [
       "<Figure size 864x432 with 1 Axes>"
      ]
     },
     "metadata": {
      "needs_background": "light"
     },
     "output_type": "display_data"
    }
   ],
   "source": [
    "plt.figure(figsize=(12,6))\n",
    "offset=300\n",
    "plot_time_series(X=X_test,y=y_test,start=offset,label='Test data')\n",
    "plot_time_series(X=X_test[1:],y=naive_forecast,format='-',start=offset,label='Naive forecast')"
   ]
  },
  {
   "cell_type": "markdown",
   "id": "9981324b",
   "metadata": {},
   "source": [
    "## Evaluating a time series model"
   ]
  },
  {
   "cell_type": "markdown",
   "id": "823c0134",
   "metadata": {},
   "source": [
    "Time series forecasting often involves predicting a number (in our case, the price of Bitcoin).\n",
    "\n",
    "And what kind of problem is predicting a number?\n",
    "\n",
    "Ten points if you said regression.\n",
    "\n",
    "With this known, we can use regression evaluation metrics to evaluate our time series forecasts.\n",
    "\n",
    "The main thing we will be evaluating is: how do our model's predictions (y_pred) compare against the actual values (y_true or ground truth values)?"
   ]
  },
  {
   "cell_type": "markdown",
   "id": "d47d5d36",
   "metadata": {},
   "source": [
    "For all of the following metrics, lower is better (for example an MAE of 0 is better than an MAE 100)."
   ]
  },
  {
   "cell_type": "code",
   "execution_count": 22,
   "id": "ff874435",
   "metadata": {},
   "outputs": [],
   "source": [
    "# Let's get TensorFlow! \n",
    "import tensorflow as tf\n",
    "from tensorflow.keras import layers"
   ]
  },
  {
   "cell_type": "markdown",
   "id": "b801d809",
   "metadata": {},
   "source": [
    "We are going to calculate 5 evaluation metrics\n",
    "* mae\n",
    "* mse\n",
    "* rmse\n",
    "* mape\n",
    "* mase\n",
    "\n",
    "Tensorflow doesn't have ready made MASE but we can calculate usin MEAN_ABSOLUTE_ERROR"
   ]
  },
  {
   "cell_type": "code",
   "execution_count": 23,
   "id": "0ec49e48",
   "metadata": {},
   "outputs": [],
   "source": [
    "def mean_absolute_squared_error(y_true,y_pred):\n",
    "    mae=tf.reduce_mean(tf.abs(y_true-y_pred))\n",
    "\n",
    "    # mae for naive forecast\n",
    "    mae_forecast=tf.reduce_mean(tf.abs(y_true[1:]-y_true[:-1]))\n",
    "\n",
    "    return mae/mae_forecast"
   ]
  },
  {
   "cell_type": "code",
   "execution_count": 24,
   "id": "ea78bc6c",
   "metadata": {},
   "outputs": [],
   "source": [
    "def make_results(y_true,y_pred):\n",
    "    \n",
    "    mae=tf.keras.metrics.mean_absolute_error(y_true,y_pred)\n",
    "    mse=tf.keras.metrics.mean_squared_error(y_true,y_pred)\n",
    "    rmse=tf.sqrt(mse)\n",
    "    mape=tf.keras.metrics.mean_absolute_percentage_error(y_true,y_pred)\n",
    "    mase=mean_absolute_squared_error(y_true,y_pred)\n",
    "    \n",
    "    return {'mae':mae.numpy(),\n",
    "            'mse':mse.numpy(),\n",
    "            'rmse':rmse.numpy(),\n",
    "            'mape':mape.numpy(),\n",
    "            'mase':mase.numpy()}"
   ]
  },
  {
   "cell_type": "code",
   "execution_count": 25,
   "id": "6306e4e0",
   "metadata": {},
   "outputs": [
    {
     "data": {
      "text/plain": [
       "{'mae': 567.9802273457542,\n",
       " 'mse': 1147547.125023896,\n",
       " 'rmse': 1071.2362601330744,\n",
       " 'mape': 2.516524929982267,\n",
       " 'mase': 0.9995699939182626}"
      ]
     },
     "execution_count": 25,
     "metadata": {},
     "output_type": "execute_result"
    }
   ],
   "source": [
    "naive_results=make_results(y_true=y_test[1:],y_pred=naive_forecast)\n",
    "naive_results"
   ]
  },
  {
   "cell_type": "code",
   "execution_count": 26,
   "id": "2eae1696",
   "metadata": {},
   "outputs": [
    {
     "data": {
      "text/plain": [
       "20056.632963737226"
      ]
     },
     "execution_count": 26,
     "metadata": {},
     "output_type": "execute_result"
    }
   ],
   "source": [
    "# Find average price of Bitcoin in test dataset\n",
    "tf.reduce_mean(y_test).numpy()"
   ]
  },
  {
   "cell_type": "markdown",
   "id": "8265609f",
   "metadata": {},
   "source": [
    "Okay, looking at these two values is starting to give us an idea of how our model is performing:\n",
    "\n",
    "* The average price of Bitcoin in the test dataset is: $20,056 (note: average may not be the best measure here, since the highest price is over 3x this value and the lowest price is over 4x lower)\n",
    "\n",
    "* Each prediction in naive forecast is on average off by: $567"
   ]
  },
  {
   "cell_type": "markdown",
   "id": "28b8890a",
   "metadata": {},
   "source": [
    "## Other kinds of time series forecasting models which can be used for baselines and actual forecasts"
   ]
  },
  {
   "cell_type": "markdown",
   "id": "e91c563e",
   "metadata": {},
   "source": [
    "## Format Data Part 2: Windowing dataset"
   ]
  },
  {
   "cell_type": "markdown",
   "id": "6fbd99f3",
   "metadata": {},
   "source": [
    "Windowing is a method to turn a time series dataset into supervised learning problem.\n",
    "\n",
    "In other words, we want to use windows of the past to predict the future."
   ]
  },
  {
   "cell_type": "markdown",
   "id": "5028c11f",
   "metadata": {},
   "source": [
    "For example for a univariate time series, windowing for one week (window=7) to predict the next single value (horizon=1) might look like:"
   ]
  },
  {
   "cell_type": "code",
   "execution_count": 27,
   "id": "c89c49da",
   "metadata": {},
   "outputs": [],
   "source": [
    "HORIZON = 1 # predict 1 step at a time\n",
    "WINDOW_SIZE = 7 # use a week worth of timesteps to predict the horizon"
   ]
  },
  {
   "cell_type": "code",
   "execution_count": 28,
   "id": "e7a0d5d2",
   "metadata": {},
   "outputs": [],
   "source": [
    "def predict_one_day(x,horizon=1):\n",
    "    return x[:,:-horizon],x[:,-horizon:]"
   ]
  },
  {
   "cell_type": "code",
   "execution_count": 29,
   "id": "fb05e6d8",
   "metadata": {},
   "outputs": [],
   "source": [
    "test_window,window_label=predict_one_day(x=(tf.expand_dims(tf.range(9)+1,axis=0)),horizon=1)"
   ]
  },
  {
   "cell_type": "code",
   "execution_count": 30,
   "id": "e049059a",
   "metadata": {},
   "outputs": [
    {
     "name": "stdout",
     "output_type": "stream",
     "text": [
      "Test window : [1 2 3 4 5 6 7 8] ->Label : 9\n"
     ]
    }
   ],
   "source": [
    "print('Test window : {}'.format(tf.squeeze(test_window).numpy()),'->Label : {}'.format(tf.squeeze(window_label).numpy()))\n"
   ]
  },
  {
   "cell_type": "code",
   "execution_count": 31,
   "id": "98f54277",
   "metadata": {},
   "outputs": [
    {
     "data": {
      "text/plain": [
       "2787"
      ]
     },
     "execution_count": 31,
     "metadata": {},
     "output_type": "execute_result"
    }
   ],
   "source": [
    "len(prices)"
   ]
  },
  {
   "cell_type": "code",
   "execution_count": 32,
   "id": "5cd06900",
   "metadata": {},
   "outputs": [],
   "source": [
    "import numpy as np"
   ]
  },
  {
   "cell_type": "code",
   "execution_count": 33,
   "id": "ccb98c0a",
   "metadata": {},
   "outputs": [],
   "source": [
    "# Create function to view NumPy arrays as windows \n",
    "def make_windows(x,window_size=7,horizon=1):\n",
    "    # 1. Create a window of specific window_size (add the horizon on the end for later labelling)\n",
    "    window_step=np.expand_dims(np.arange(window_size+horizon),axis=0)\n",
    "    # 2. Create a 2D array of multiple window steps (minus 1 to account for 0 indexing)\n",
    "    window_indexes=window_step + np.expand_dims(np.arange(len(x)-(window_size+horizon-1)),axis=0).T\n",
    "    # 3. Index on the target array (time series) with 2D array of multiple window steps\n",
    "    windowed_array = x[window_indexes]\n",
    "    # 4. Get the labelled windows\n",
    "    windows, labels = predict_one_day(windowed_array, horizon=horizon)\n",
    "    return windows,labels\n"
   ]
  },
  {
   "cell_type": "code",
   "execution_count": 34,
   "id": "3abd216b",
   "metadata": {},
   "outputs": [
    {
     "data": {
      "text/plain": [
       "(2780, 8)"
      ]
     },
     "execution_count": 34,
     "metadata": {},
     "output_type": "execute_result"
    }
   ],
   "source": [
    "window_step=np.expand_dims(np.arange(7+1),axis=0)\n",
    "window_indexes=window_step + np.expand_dims(np.arange(len(prices)-(7+1-1)),axis=0).T\n",
    "window_indexes.shape"
   ]
  },
  {
   "cell_type": "code",
   "execution_count": 35,
   "id": "c11b29ca",
   "metadata": {},
   "outputs": [
    {
     "data": {
      "text/plain": [
       "(2780, 8)"
      ]
     },
     "execution_count": 35,
     "metadata": {},
     "output_type": "execute_result"
    }
   ],
   "source": [
    "windowed_array = prices[window_indexes]\n",
    "windowed_array.shape"
   ]
  },
  {
   "cell_type": "code",
   "execution_count": 36,
   "id": "edba1972",
   "metadata": {},
   "outputs": [],
   "source": [
    "windows, labels = predict_one_day(windowed_array, horizon=1)"
   ]
  },
  {
   "cell_type": "code",
   "execution_count": 37,
   "id": "758c5584",
   "metadata": {},
   "outputs": [
    {
     "data": {
      "text/plain": [
       "(array([[  123.65499   ,   125.455     ,   108.58483   , ...,\n",
       "           121.33866   ,   120.65533   ,   121.795     ],\n",
       "        [  125.455     ,   108.58483   ,   118.67466   , ...,\n",
       "           120.65533   ,   121.795     ,   123.033     ],\n",
       "        [  108.58483   ,   118.67466   ,   121.33866   , ...,\n",
       "           121.795     ,   123.033     ,   124.049     ],\n",
       "        ...,\n",
       "        [58788.20967893, 58102.19142623, 55715.54665129, ...,\n",
       "         52147.82118698, 49764.1320816 , 50032.69313676],\n",
       "        [58102.19142623, 55715.54665129, 56573.5554719 , ...,\n",
       "         49764.1320816 , 50032.69313676, 47885.62525472],\n",
       "        [55715.54665129, 56573.5554719 , 52147.82118698, ...,\n",
       "         50032.69313676, 47885.62525472, 45604.61575361]]),\n",
       " array([[  123.033     ],\n",
       "        [  124.049     ],\n",
       "        [  125.96116   ],\n",
       "        ...,\n",
       "        [47885.62525472],\n",
       "        [45604.61575361],\n",
       "        [43144.47129086]]))"
      ]
     },
     "execution_count": 37,
     "metadata": {},
     "output_type": "execute_result"
    }
   ],
   "source": [
    "windows,labels"
   ]
  },
  {
   "cell_type": "code",
   "execution_count": 38,
   "id": "5c309371",
   "metadata": {},
   "outputs": [
    {
     "data": {
      "text/plain": [
       "(2780, 2780)"
      ]
     },
     "execution_count": 38,
     "metadata": {},
     "output_type": "execute_result"
    }
   ],
   "source": [
    "full_windows, full_labels = make_windows(prices, window_size=WINDOW_SIZE, horizon=HORIZON)\n",
    "len(full_windows),len(full_labels)"
   ]
  },
  {
   "cell_type": "code",
   "execution_count": 39,
   "id": "6e38526a",
   "metadata": {},
   "outputs": [
    {
     "data": {
      "text/plain": [
       "((2780, 7), (2780, 1))"
      ]
     },
     "execution_count": 39,
     "metadata": {},
     "output_type": "execute_result"
    }
   ],
   "source": [
    "full_windows.shape,full_labels.shape"
   ]
  },
  {
   "cell_type": "code",
   "execution_count": 40,
   "id": "a4fe0fd7",
   "metadata": {},
   "outputs": [
    {
     "data": {
      "text/plain": [
       "(array([123.65499, 125.455  , 108.58483, 118.67466, 121.33866, 120.65533,\n",
       "        121.795  ]),\n",
       " array([123.033]))"
      ]
     },
     "execution_count": 40,
     "metadata": {},
     "output_type": "execute_result"
    }
   ],
   "source": [
    "full_windows[0],full_labels[0]"
   ]
  },
  {
   "cell_type": "markdown",
   "id": "b0bada71",
   "metadata": {},
   "source": [
    "## Turning windows into training and test sets"
   ]
  },
  {
   "cell_type": "code",
   "execution_count": 41,
   "id": "3be558de",
   "metadata": {},
   "outputs": [],
   "source": [
    "def make_train_test_split(windows,labels):\n",
    "    split_size=int(0.8*len(windows))\n",
    "    window_trains=windows[:split_size]\n",
    "    window_tests=windows[split_size:]\n",
    "    label_trains=labels[:split_size]\n",
    "    label_tests=labels[split_size:]\n",
    "\n",
    "    return window_trains,window_tests,label_trains,label_tests    "
   ]
  },
  {
   "cell_type": "code",
   "execution_count": 42,
   "id": "dada88c4",
   "metadata": {},
   "outputs": [],
   "source": [
    "window_trains,window_tests,label_trains,label_tests= make_train_test_split(full_windows,full_labels)"
   ]
  },
  {
   "cell_type": "code",
   "execution_count": 43,
   "id": "4403171c",
   "metadata": {},
   "outputs": [
    {
     "data": {
      "text/plain": [
       "((2224, 7), (556, 7), (2224, 1), (556, 1))"
      ]
     },
     "execution_count": 43,
     "metadata": {},
     "output_type": "execute_result"
    }
   ],
   "source": [
    "window_trains.shape,window_tests.shape,label_trains.shape,label_tests.shape"
   ]
  },
  {
   "cell_type": "code",
   "execution_count": 44,
   "id": "54d2abbc",
   "metadata": {},
   "outputs": [],
   "source": [
    "import os\n",
    "\n",
    "# Create a function to implement a ModelCheckpoint callback with a specific filename \n",
    "def create_model_checkpoint(model_name, save_path=\"model_experiments\"):\n",
    "    return tf.keras.callbacks.ModelCheckpoint(filepath=os.path.join(save_path, model_name), # create filepath to save model\n",
    "                                            verbose=0, # only output a limited amount of text\n",
    "                                            save_best_only=True) # save only the best model to file"
   ]
  },
  {
   "cell_type": "code",
   "execution_count": 45,
   "id": "68e0de32",
   "metadata": {},
   "outputs": [
    {
     "name": "stdout",
     "output_type": "stream",
     "text": [
      "Epoch 1/100\n",
      "13/18 [====================>.........] - ETA: 0s - loss: 897.4094 - mae: 897.4094  INFO:tensorflow:Assets written to: model_experiments\\model_1_dense\\assets\n",
      "18/18 [==============================] - 4s 113ms/step - loss: 780.3469 - mae: 780.3469 - val_loss: 2279.5830 - val_mae: 2279.5830\n",
      "Epoch 2/100\n",
      "18/18 [==============================] - ETA: 0s - loss: 247.6765 - mae: 247.6765INFO:tensorflow:Assets written to: model_experiments\\model_1_dense\\assets\n",
      "18/18 [==============================] - 1s 44ms/step - loss: 247.6765 - mae: 247.6765 - val_loss: 1005.9865 - val_mae: 1005.9865\n",
      "Epoch 3/100\n",
      " 1/18 [>.............................] - ETA: 0s - loss: 134.4844 - mae: 134.4844INFO:tensorflow:Assets written to: model_experiments\\model_1_dense\\assets\n",
      "18/18 [==============================] - 1s 47ms/step - loss: 188.4107 - mae: 188.4107 - val_loss: 923.2859 - val_mae: 923.2859\n",
      "Epoch 4/100\n",
      " 1/18 [>.............................] - ETA: 0s - loss: 211.3675 - mae: 211.3675INFO:tensorflow:Assets written to: model_experiments\\model_1_dense\\assets\n",
      "18/18 [==============================] - 1s 39ms/step - loss: 169.4334 - mae: 169.4334 - val_loss: 900.5931 - val_mae: 900.5931\n",
      "Epoch 5/100\n",
      " 1/18 [>.............................] - ETA: 0s - loss: 155.7283 - mae: 155.7283INFO:tensorflow:Assets written to: model_experiments\\model_1_dense\\assets\n",
      "18/18 [==============================] - 1s 42ms/step - loss: 165.0900 - mae: 165.0900 - val_loss: 895.2404 - val_mae: 895.2404\n",
      "Epoch 6/100\n",
      " 1/18 [>.............................] - ETA: 0s - loss: 117.3697 - mae: 117.3697INFO:tensorflow:Assets written to: model_experiments\\model_1_dense\\assets\n",
      "18/18 [==============================] - 1s 49ms/step - loss: 158.5206 - mae: 158.5206 - val_loss: 855.1868 - val_mae: 855.1868\n",
      "Epoch 7/100\n",
      " 1/18 [>.............................] - ETA: 0s - loss: 180.3330 - mae: 180.3330INFO:tensorflow:Assets written to: model_experiments\\model_1_dense\\assets\n",
      "18/18 [==============================] - 1s 47ms/step - loss: 151.3568 - mae: 151.3568 - val_loss: 840.9290 - val_mae: 840.9290\n",
      "Epoch 8/100\n",
      "18/18 [==============================] - ETA: 0s - loss: 145.2561 - mae: 145.2561INFO:tensorflow:Assets written to: model_experiments\\model_1_dense\\assets\n",
      "18/18 [==============================] - 1s 44ms/step - loss: 145.2561 - mae: 145.2561 - val_loss: 803.6006 - val_mae: 803.6006\n",
      "Epoch 9/100\n",
      " 1/18 [>.............................] - ETA: 0s - loss: 126.2221 - mae: 126.2221INFO:tensorflow:Assets written to: model_experiments\\model_1_dense\\assets\n",
      "18/18 [==============================] - 1s 42ms/step - loss: 144.3546 - mae: 144.3546 - val_loss: 799.5590 - val_mae: 799.5590\n",
      "Epoch 10/100\n",
      " 1/18 [>.............................] - ETA: 0s - loss: 148.4517 - mae: 148.4517INFO:tensorflow:Assets written to: model_experiments\\model_1_dense\\assets\n",
      "18/18 [==============================] - 1s 46ms/step - loss: 141.2944 - mae: 141.2944 - val_loss: 763.5060 - val_mae: 763.5060\n",
      "Epoch 11/100\n",
      "18/18 [==============================] - 0s 3ms/step - loss: 135.6591 - mae: 135.6591 - val_loss: 771.3522 - val_mae: 771.3522\n",
      "Epoch 12/100\n",
      "18/18 [==============================] - 0s 4ms/step - loss: 134.1702 - mae: 134.1702 - val_loss: 782.8324 - val_mae: 782.8324\n",
      "Epoch 13/100\n",
      "18/18 [==============================] - 0s 4ms/step - loss: 134.6014 - mae: 134.6014 - val_loss: 784.4726 - val_mae: 784.4726\n",
      "Epoch 14/100\n",
      " 1/18 [>.............................] - ETA: 0s - loss: 136.5616 - mae: 136.5616INFO:tensorflow:Assets written to: model_experiments\\model_1_dense\\assets\n",
      "18/18 [==============================] - 1s 50ms/step - loss: 130.6125 - mae: 130.6125 - val_loss: 751.3468 - val_mae: 751.3468\n",
      "Epoch 15/100\n",
      " 1/18 [>.............................] - ETA: 0s - loss: 131.5394 - mae: 131.5394INFO:tensorflow:Assets written to: model_experiments\\model_1_dense\\assets\n",
      "18/18 [==============================] - 1s 43ms/step - loss: 128.8352 - mae: 128.8352 - val_loss: 696.5836 - val_mae: 696.5836\n",
      "Epoch 16/100\n",
      "18/18 [==============================] - 0s 4ms/step - loss: 124.8667 - mae: 124.8667 - val_loss: 707.2986 - val_mae: 707.2986\n",
      "Epoch 17/100\n",
      "18/18 [==============================] - 0s 4ms/step - loss: 123.6096 - mae: 123.6096 - val_loss: 714.2289 - val_mae: 714.2289\n",
      "Epoch 18/100\n",
      " 1/18 [>.............................] - ETA: 0s - loss: 138.5526 - mae: 138.5526INFO:tensorflow:Assets written to: model_experiments\\model_1_dense\\assets\n",
      "18/18 [==============================] - 1s 41ms/step - loss: 122.3023 - mae: 122.3023 - val_loss: 669.1412 - val_mae: 669.1412\n",
      "Epoch 19/100\n",
      "18/18 [==============================] - 0s 4ms/step - loss: 121.4932 - mae: 121.4932 - val_loss: 721.5450 - val_mae: 721.5450\n",
      "Epoch 20/100\n",
      " 1/18 [>.............................] - ETA: 0s - loss: 135.4132 - mae: 135.4132INFO:tensorflow:Assets written to: model_experiments\\model_1_dense\\assets\n",
      "18/18 [==============================] - 1s 40ms/step - loss: 119.2384 - mae: 119.2384 - val_loss: 658.0785 - val_mae: 658.0785\n",
      "Epoch 21/100\n",
      " 1/18 [>.............................] - ETA: 0s - loss: 128.8736 - mae: 128.8736INFO:tensorflow:Assets written to: model_experiments\\model_1_dense\\assets\n",
      "18/18 [==============================] - 1s 52ms/step - loss: 121.5293 - mae: 121.5293 - val_loss: 638.3384 - val_mae: 638.3384\n",
      "Epoch 22/100\n",
      "18/18 [==============================] - 0s 7ms/step - loss: 119.3422 - mae: 119.3422 - val_loss: 678.8880 - val_mae: 678.8880\n",
      "Epoch 23/100\n",
      "18/18 [==============================] - 0s 4ms/step - loss: 122.8203 - mae: 122.8203 - val_loss: 651.8512 - val_mae: 651.8512\n",
      "Epoch 24/100\n",
      " 1/18 [>.............................] - ETA: 0s - loss: 125.6553 - mae: 125.6553INFO:tensorflow:Assets written to: model_experiments\\model_1_dense\\assets\n",
      "18/18 [==============================] - 1s 41ms/step - loss: 117.0774 - mae: 117.0774 - val_loss: 623.5612 - val_mae: 623.5612\n",
      "Epoch 25/100\n",
      " 1/18 [>.............................] - ETA: 0s - loss: 122.1502 - mae: 122.1502INFO:tensorflow:Assets written to: model_experiments\\model_1_dense\\assets\n",
      "18/18 [==============================] - 1s 43ms/step - loss: 115.1816 - mae: 115.1816 - val_loss: 618.5575 - val_mae: 618.5575\n",
      "Epoch 26/100\n",
      " 1/18 [>.............................] - ETA: 0s - loss: 109.7065 - mae: 109.7065INFO:tensorflow:Assets written to: model_experiments\\model_1_dense\\assets\n",
      "18/18 [==============================] - 1s 39ms/step - loss: 115.0673 - mae: 115.0673 - val_loss: 616.4917 - val_mae: 616.4917\n",
      "Epoch 27/100\n",
      "18/18 [==============================] - 0s 4ms/step - loss: 116.6431 - mae: 116.6431 - val_loss: 619.0471 - val_mae: 619.0471\n",
      "Epoch 28/100\n",
      " 1/18 [>.............................] - ETA: 0s - loss: 102.1524 - mae: 102.1524INFO:tensorflow:Assets written to: model_experiments\\model_1_dense\\assets\n",
      "18/18 [==============================] - 1s 54ms/step - loss: 114.0328 - mae: 114.0328 - val_loss: 610.3880 - val_mae: 610.3880\n",
      "Epoch 29/100\n",
      "18/18 [==============================] - 0s 4ms/step - loss: 113.4892 - mae: 113.4892 - val_loss: 617.2402 - val_mae: 617.2402\n",
      "Epoch 30/100\n",
      " 1/18 [>.............................] - ETA: 0s - loss: 124.6252 - mae: 124.6252INFO:tensorflow:Assets written to: model_experiments\\model_1_dense\\assets\n",
      "18/18 [==============================] - 1s 40ms/step - loss: 116.4094 - mae: 116.4094 - val_loss: 603.6489 - val_mae: 603.6489\n",
      "Epoch 31/100\n",
      "18/18 [==============================] - 0s 4ms/step - loss: 112.3454 - mae: 112.3454 - val_loss: 623.4432 - val_mae: 623.4432\n",
      "Epoch 32/100\n",
      " 1/18 [>.............................] - ETA: 0s - loss: 110.3431 - mae: 110.3431INFO:tensorflow:Assets written to: model_experiments\\model_1_dense\\assets\n",
      "18/18 [==============================] - 1s 40ms/step - loss: 113.2056 - mae: 113.2056 - val_loss: 600.0259 - val_mae: 600.0259\n",
      "Epoch 33/100\n",
      "18/18 [==============================] - 0s 4ms/step - loss: 112.9529 - mae: 112.9529 - val_loss: 653.0601 - val_mae: 653.0601\n",
      "Epoch 34/100\n",
      " 1/18 [>.............................] - ETA: 0s - loss: 140.4312 - mae: 140.4312INFO:tensorflow:Assets written to: model_experiments\\model_1_dense\\assets\n",
      "18/18 [==============================] - 1s 42ms/step - loss: 112.1156 - mae: 112.1156 - val_loss: 594.7914 - val_mae: 594.7914\n",
      "Epoch 35/100\n"
     ]
    },
    {
     "name": "stdout",
     "output_type": "stream",
     "text": [
      " 1/18 [>.............................] - ETA: 0s - loss: 100.0623 - mae: 100.0623INFO:tensorflow:Assets written to: model_experiments\\model_1_dense\\assets\n",
      "18/18 [==============================] - 1s 41ms/step - loss: 110.7447 - mae: 110.7447 - val_loss: 592.7401 - val_mae: 592.7401\n",
      "Epoch 36/100\n",
      " 1/18 [>.............................] - ETA: 0s - loss: 149.3918 - mae: 149.3918INFO:tensorflow:Assets written to: model_experiments\\model_1_dense\\assets\n",
      "18/18 [==============================] - 1s 44ms/step - loss: 116.3300 - mae: 116.3300 - val_loss: 592.4697 - val_mae: 592.4697\n",
      "Epoch 37/100\n",
      "18/18 [==============================] - 0s 4ms/step - loss: 110.7676 - mae: 110.7676 - val_loss: 618.5349 - val_mae: 618.5349\n",
      "Epoch 38/100\n",
      "18/18 [==============================] - 0s 4ms/step - loss: 112.5935 - mae: 112.5935 - val_loss: 613.9559 - val_mae: 613.9559\n",
      "Epoch 39/100\n",
      " 1/18 [>.............................] - ETA: 0s - loss: 128.7077 - mae: 128.7077INFO:tensorflow:Assets written to: model_experiments\\model_1_dense\\assets\n",
      "18/18 [==============================] - 1s 49ms/step - loss: 110.1321 - mae: 110.1321 - val_loss: 586.6888 - val_mae: 586.6888\n",
      "Epoch 40/100\n",
      "18/18 [==============================] - 0s 4ms/step - loss: 109.4753 - mae: 109.4753 - val_loss: 593.9155 - val_mae: 593.9155\n",
      "Epoch 41/100\n",
      " 1/18 [>.............................] - ETA: 0s - loss: 105.0374 - mae: 105.0374INFO:tensorflow:Assets written to: model_experiments\\model_1_dense\\assets\n",
      "18/18 [==============================] - 1s 40ms/step - loss: 110.1777 - mae: 110.1777 - val_loss: 586.4464 - val_mae: 586.4464\n",
      "Epoch 42/100\n",
      "18/18 [==============================] - 0s 4ms/step - loss: 111.5192 - mae: 111.5192 - val_loss: 649.3648 - val_mae: 649.3648\n",
      "Epoch 43/100\n",
      "18/18 [==============================] - 0s 4ms/step - loss: 115.8939 - mae: 115.8939 - val_loss: 686.8297 - val_mae: 686.8297\n",
      "Epoch 44/100\n",
      "18/18 [==============================] - 0s 3ms/step - loss: 123.0945 - mae: 123.0945 - val_loss: 661.1306 - val_mae: 661.1306\n",
      "Epoch 45/100\n",
      "18/18 [==============================] - 0s 4ms/step - loss: 113.8169 - mae: 113.8169 - val_loss: 626.8175 - val_mae: 626.8175\n",
      "Epoch 46/100\n",
      "18/18 [==============================] - 0s 3ms/step - loss: 114.0971 - mae: 114.0971 - val_loss: 588.7770 - val_mae: 588.7770\n",
      "Epoch 47/100\n",
      "18/18 [==============================] - 0s 3ms/step - loss: 108.9936 - mae: 108.9936 - val_loss: 636.0580 - val_mae: 636.0580\n",
      "Epoch 48/100\n",
      "18/18 [==============================] - 0s 4ms/step - loss: 109.2967 - mae: 109.2967 - val_loss: 604.1584 - val_mae: 604.1584\n",
      "Epoch 49/100\n",
      "18/18 [==============================] - 0s 4ms/step - loss: 111.7787 - mae: 111.7787 - val_loss: 591.5094 - val_mae: 591.5094\n",
      "Epoch 50/100\n",
      "18/18 [==============================] - 0s 6ms/step - loss: 111.7319 - mae: 111.7319 - val_loss: 636.4679 - val_mae: 636.4679\n",
      "Epoch 51/100\n",
      "18/18 [==============================] - 0s 3ms/step - loss: 110.7497 - mae: 110.7497 - val_loss: 589.2877 - val_mae: 589.2877\n",
      "Epoch 52/100\n",
      "18/18 [==============================] - 0s 4ms/step - loss: 111.5192 - mae: 111.5192 - val_loss: 609.5291 - val_mae: 609.5291\n",
      "Epoch 53/100\n",
      " 1/18 [>.............................] - ETA: 0s - loss: 63.2880 - mae: 63.2880INFO:tensorflow:Assets written to: model_experiments\\model_1_dense\\assets\n",
      "18/18 [==============================] - 1s 38ms/step - loss: 113.9869 - mae: 113.9869 - val_loss: 584.7469 - val_mae: 584.7469\n",
      "Epoch 54/100\n",
      " 1/18 [>.............................] - ETA: 0s - loss: 98.4018 - mae: 98.4018INFO:tensorflow:Assets written to: model_experiments\\model_1_dense\\assets\n",
      "18/18 [==============================] - 1s 40ms/step - loss: 110.1075 - mae: 110.1075 - val_loss: 578.7416 - val_mae: 578.7416\n",
      "Epoch 55/100\n",
      "18/18 [==============================] - 0s 4ms/step - loss: 110.6423 - mae: 110.6423 - val_loss: 581.5333 - val_mae: 581.5333\n",
      "Epoch 56/100\n",
      "18/18 [==============================] - 0s 4ms/step - loss: 107.6537 - mae: 107.6537 - val_loss: 759.0193 - val_mae: 759.0193\n",
      "Epoch 57/100\n",
      "18/18 [==============================] - 0s 4ms/step - loss: 119.2012 - mae: 119.2012 - val_loss: 603.5955 - val_mae: 603.5955\n",
      "Epoch 58/100\n",
      "18/18 [==============================] - 0s 3ms/step - loss: 116.4417 - mae: 116.4417 - val_loss: 583.7296 - val_mae: 583.7296\n",
      "Epoch 59/100\n",
      "18/18 [==============================] - 0s 4ms/step - loss: 109.9014 - mae: 109.9014 - val_loss: 592.8419 - val_mae: 592.8419\n",
      "Epoch 60/100\n",
      "18/18 [==============================] - 0s 3ms/step - loss: 107.7859 - mae: 107.7859 - val_loss: 593.4967 - val_mae: 593.4967\n",
      "Epoch 61/100\n",
      " 1/18 [>.............................] - ETA: 0s - loss: 130.6453 - mae: 130.6453INFO:tensorflow:Assets written to: model_experiments\\model_1_dense\\assets\n",
      "18/18 [==============================] - 1s 44ms/step - loss: 107.6960 - mae: 107.6960 - val_loss: 575.5123 - val_mae: 575.5123\n",
      "Epoch 62/100\n",
      "18/18 [==============================] - 0s 4ms/step - loss: 107.1258 - mae: 107.1258 - val_loss: 580.2646 - val_mae: 580.2646\n",
      "Epoch 63/100\n",
      "18/18 [==============================] - 0s 4ms/step - loss: 111.8451 - mae: 111.8451 - val_loss: 654.6138 - val_mae: 654.6138\n",
      "Epoch 64/100\n",
      "18/18 [==============================] - 0s 4ms/step - loss: 110.3121 - mae: 110.3121 - val_loss: 610.7808 - val_mae: 610.7808\n",
      "Epoch 65/100\n",
      " 1/18 [>.............................] - ETA: 0s - loss: 131.5207 - mae: 131.5207INFO:tensorflow:Assets written to: model_experiments\\model_1_dense\\assets\n",
      "18/18 [==============================] - 1s 42ms/step - loss: 109.7098 - mae: 109.7098 - val_loss: 573.9961 - val_mae: 573.9961\n",
      "Epoch 66/100\n",
      " 1/18 [>.............................] - ETA: 0s - loss: 112.4865 - mae: 112.4865INFO:tensorflow:Assets written to: model_experiments\\model_1_dense\\assets\n",
      "18/18 [==============================] - 1s 39ms/step - loss: 106.8139 - mae: 106.8139 - val_loss: 572.9990 - val_mae: 572.9990\n",
      "Epoch 67/100\n",
      "18/18 [==============================] - 0s 4ms/step - loss: 106.1394 - mae: 106.1394 - val_loss: 602.1526 - val_mae: 602.1526\n",
      "Epoch 68/100\n",
      "18/18 [==============================] - 0s 4ms/step - loss: 112.9245 - mae: 112.9245 - val_loss: 687.6379 - val_mae: 687.6379\n",
      "Epoch 69/100\n",
      "18/18 [==============================] - 0s 4ms/step - loss: 126.9916 - mae: 126.9916 - val_loss: 664.9476 - val_mae: 664.9476\n",
      "Epoch 70/100\n",
      "18/18 [==============================] - 0s 3ms/step - loss: 124.8734 - mae: 124.8734 - val_loss: 619.6687 - val_mae: 619.6687\n",
      "Epoch 71/100\n",
      "18/18 [==============================] - 0s 4ms/step - loss: 109.8522 - mae: 109.8522 - val_loss: 582.3636 - val_mae: 582.3636\n",
      "Epoch 72/100\n",
      "18/18 [==============================] - 0s 4ms/step - loss: 107.6717 - mae: 107.6717 - val_loss: 573.4947 - val_mae: 573.4947\n",
      "Epoch 73/100\n",
      "18/18 [==============================] - 0s 3ms/step - loss: 109.6036 - mae: 109.6036 - val_loss: 583.9047 - val_mae: 583.9047\n",
      "Epoch 74/100\n",
      " 1/18 [>.............................] - ETA: 0s - loss: 165.4990 - mae: 165.4990INFO:tensorflow:Assets written to: model_experiments\\model_1_dense\\assets\n",
      "18/18 [==============================] - 1s 49ms/step - loss: 107.7049 - mae: 107.7049 - val_loss: 572.9934 - val_mae: 572.9934\n",
      "Epoch 75/100\n",
      "18/18 [==============================] - 0s 4ms/step - loss: 108.1179 - mae: 108.1179 - val_loss: 583.9371 - val_mae: 583.9371\n",
      "Epoch 76/100\n",
      "18/18 [==============================] - 0s 3ms/step - loss: 109.5447 - mae: 109.5447 - val_loss: 592.8237 - val_mae: 592.8237\n",
      "Epoch 77/100\n",
      "18/18 [==============================] - 0s 4ms/step - loss: 108.3639 - mae: 108.3639 - val_loss: 575.4260 - val_mae: 575.4260\n",
      "Epoch 78/100\n",
      "18/18 [==============================] - 0s 3ms/step - loss: 108.0055 - mae: 108.0055 - val_loss: 574.3941 - val_mae: 574.3941\n",
      "Epoch 79/100\n",
      "18/18 [==============================] - 0s 4ms/step - loss: 107.3223 - mae: 107.3223 - val_loss: 597.2482 - val_mae: 597.2482\n",
      "Epoch 80/100\n",
      "18/18 [==============================] - 0s 4ms/step - loss: 108.1452 - mae: 108.1452 - val_loss: 586.6865 - val_mae: 586.6865\n",
      "Epoch 81/100\n",
      "18/18 [==============================] - 0s 4ms/step - loss: 106.1153 - mae: 106.1153 - val_loss: 575.1765 - val_mae: 575.1765\n",
      "Epoch 82/100\n"
     ]
    },
    {
     "name": "stdout",
     "output_type": "stream",
     "text": [
      "18/18 [==============================] - 0s 4ms/step - loss: 116.6343 - mae: 116.6343 - val_loss: 575.4343 - val_mae: 575.4343\n",
      "Epoch 83/100\n",
      "18/18 [==============================] - 0s 4ms/step - loss: 110.8731 - mae: 110.8731 - val_loss: 654.5371 - val_mae: 654.5371\n",
      "Epoch 84/100\n",
      " 1/18 [>.............................] - ETA: 0s - loss: 118.1786 - mae: 118.1786INFO:tensorflow:Assets written to: model_experiments\\model_1_dense\\assets\n",
      "18/18 [==============================] - 1s 40ms/step - loss: 111.9106 - mae: 111.9106 - val_loss: 572.3371 - val_mae: 572.3371\n",
      "Epoch 85/100\n",
      "18/18 [==============================] - 0s 4ms/step - loss: 106.6154 - mae: 106.6154 - val_loss: 574.2831 - val_mae: 574.2831\n",
      "Epoch 86/100\n",
      "18/18 [==============================] - 0s 3ms/step - loss: 108.4299 - mae: 108.4299 - val_loss: 583.3528 - val_mae: 583.3528\n",
      "Epoch 87/100\n",
      "18/18 [==============================] - 0s 4ms/step - loss: 105.7481 - mae: 105.7481 - val_loss: 593.0125 - val_mae: 593.0125\n",
      "Epoch 88/100\n",
      " 1/18 [>.............................] - ETA: 0s - loss: 133.8444 - mae: 133.8444INFO:tensorflow:Assets written to: model_experiments\\model_1_dense\\assets\n",
      "18/18 [==============================] - 1s 42ms/step - loss: 107.2604 - mae: 107.2604 - val_loss: 571.7660 - val_mae: 571.7660\n",
      "Epoch 89/100\n",
      " 1/18 [>.............................] - ETA: 0s - loss: 102.2973 - mae: 102.2973INFO:tensorflow:Assets written to: model_experiments\\model_1_dense\\assets\n",
      "18/18 [==============================] - 1s 41ms/step - loss: 106.7823 - mae: 106.7823 - val_loss: 568.6371 - val_mae: 568.6371\n",
      "Epoch 90/100\n",
      "18/18 [==============================] - 0s 4ms/step - loss: 105.8681 - mae: 105.8681 - val_loss: 602.9688 - val_mae: 602.9688\n",
      "Epoch 91/100\n",
      "18/18 [==============================] - 0s 4ms/step - loss: 110.6365 - mae: 110.6365 - val_loss: 605.6949 - val_mae: 605.6949\n",
      "Epoch 92/100\n",
      "18/18 [==============================] - 0s 4ms/step - loss: 109.4669 - mae: 109.4669 - val_loss: 572.4371 - val_mae: 572.4371\n",
      "Epoch 93/100\n",
      "18/18 [==============================] - 0s 4ms/step - loss: 113.0063 - mae: 113.0063 - val_loss: 617.3005 - val_mae: 617.3005\n",
      "Epoch 94/100\n",
      "18/18 [==============================] - 0s 3ms/step - loss: 112.4903 - mae: 112.4903 - val_loss: 599.9797 - val_mae: 599.9797\n",
      "Epoch 95/100\n",
      "18/18 [==============================] - 0s 4ms/step - loss: 106.0053 - mae: 106.0053 - val_loss: 570.6211 - val_mae: 570.6211\n",
      "Epoch 96/100\n",
      "18/18 [==============================] - 0s 3ms/step - loss: 109.5910 - mae: 109.5910 - val_loss: 676.3400 - val_mae: 676.3400\n",
      "Epoch 97/100\n",
      "18/18 [==============================] - 0s 4ms/step - loss: 110.2213 - mae: 110.2213 - val_loss: 574.2986 - val_mae: 574.2986\n",
      "Epoch 98/100\n",
      "18/18 [==============================] - 0s 3ms/step - loss: 106.7290 - mae: 106.7290 - val_loss: 576.7735 - val_mae: 576.7735\n",
      "Epoch 99/100\n",
      " 1/18 [>.............................] - ETA: 0s - loss: 151.1014 - mae: 151.1014INFO:tensorflow:Assets written to: model_experiments\\model_1_dense\\assets\n",
      "18/18 [==============================] - 1s 43ms/step - loss: 106.9889 - mae: 106.9889 - val_loss: 568.5498 - val_mae: 568.5498\n",
      "Epoch 100/100\n",
      "18/18 [==============================] - 0s 4ms/step - loss: 117.7622 - mae: 117.7622 - val_loss: 662.5316 - val_mae: 662.5316\n"
     ]
    },
    {
     "data": {
      "text/plain": [
       "<keras.callbacks.History at 0x22d36dfac10>"
      ]
     },
     "execution_count": 45,
     "metadata": {},
     "output_type": "execute_result"
    }
   ],
   "source": [
    "tf.random.set_seed(42)\n",
    "model_1=tf.keras.Sequential([\n",
    "    tf.keras.layers.Dense(128,activation='relu'),\n",
    "    tf.keras.layers.Dense(1,activation='linear')\n",
    "],name=\"model_1_dense\")\n",
    "\n",
    "model_1.compile(loss=\"mae\",\n",
    "                optimizer=tf.keras.optimizers.Adam(),\n",
    "                metrics=[\"mae\"])\n",
    "model_1.fit(x=window_trains, # train windows of 7 timesteps of Bitcoin prices\n",
    "            y=label_trains, # horizon value of 1 (using the previous 7 timesteps to predict next day)\n",
    "            epochs=100,\n",
    "            verbose=1,\n",
    "            batch_size=128,\n",
    "            validation_data=(window_tests, label_tests),\n",
    "            callbacks=[create_model_checkpoint(model_name=model_1.name)])"
   ]
  },
  {
   "cell_type": "code",
   "execution_count": 46,
   "id": "02e8ff5d",
   "metadata": {},
   "outputs": [
    {
     "name": "stdout",
     "output_type": "stream",
     "text": [
      "18/18 [==============================] - 0s 2ms/step - loss: 662.5316 - mae: 662.5316\n"
     ]
    },
    {
     "data": {
      "text/plain": [
       "[662.5316162109375, 662.5316162109375]"
      ]
     },
     "execution_count": 46,
     "metadata": {},
     "output_type": "execute_result"
    }
   ],
   "source": [
    "# Evaluate model\n",
    "model_1.evaluate(window_tests,label_tests)"
   ]
  },
  {
   "cell_type": "code",
   "execution_count": 47,
   "id": "2a99637a",
   "metadata": {},
   "outputs": [
    {
     "name": "stdout",
     "output_type": "stream",
     "text": [
      "18/18 [==============================] - 0s 2ms/step - loss: 568.5498 - mae: 568.5498\n"
     ]
    },
    {
     "data": {
      "text/plain": [
       "[568.5498046875, 568.5498046875]"
      ]
     },
     "execution_count": 47,
     "metadata": {},
     "output_type": "execute_result"
    }
   ],
   "source": [
    "# Load in saved best performing model_1 and evaluate on test data\n",
    "model_1 = tf.keras.models.load_model(\"model_experiments/model_1_dense\")\n",
    "model_1.evaluate(window_tests, label_tests)"
   ]
  },
  {
   "cell_type": "code",
   "execution_count": 48,
   "id": "5cd78b16",
   "metadata": {},
   "outputs": [],
   "source": [
    "def make_preds(model, input_data):\n",
    "    \n",
    "    \n",
    "\n",
    "  \n",
    "    forecast = model.predict(input_data)\n",
    "    return tf.squeeze(forecast) # return 1D array of predictions"
   ]
  },
  {
   "cell_type": "code",
   "execution_count": 49,
   "id": "d47aad94",
   "metadata": {},
   "outputs": [
    {
     "data": {
      "text/plain": [
       "(556,\n",
       " <tf.Tensor: shape=(10,), dtype=float32, numpy=\n",
       " array([8874.493, 8789.944, 9040.987, 8804.829, 8741.212, 8749.836,\n",
       "        8705.867, 8513.171, 8478.415, 8536.302], dtype=float32)>)"
      ]
     },
     "execution_count": 49,
     "metadata": {},
     "output_type": "execute_result"
    }
   ],
   "source": [
    "# Make predictions using model_1 on the test dataset and view the results\n",
    "model_1_preds = make_preds(model_1, window_tests)\n",
    "len(model_1_preds), model_1_preds[:10]"
   ]
  },
  {
   "cell_type": "code",
   "execution_count": 50,
   "id": "5cf2d41e",
   "metadata": {},
   "outputs": [
    {
     "data": {
      "text/plain": [
       "((556,), (556, 1))"
      ]
     },
     "execution_count": 50,
     "metadata": {},
     "output_type": "execute_result"
    }
   ],
   "source": [
    "(model_1_preds.numpy()).shape,label_tests.shape"
   ]
  },
  {
   "cell_type": "code",
   "execution_count": 51,
   "id": "f7664048",
   "metadata": {},
   "outputs": [
    {
     "data": {
      "text/plain": [
       "{'mae': 568.5499,\n",
       " 'mse': 1172587.9,\n",
       " 'rmse': 1082.861,\n",
       " 'mape': 2.5492291,\n",
       " 'mase': 0.9987845467588513}"
      ]
     },
     "execution_count": 51,
     "metadata": {},
     "output_type": "execute_result"
    }
   ],
   "source": [
    "# Evaluate preds\n",
    "model_1_results = make_results(y_true=tf.squeeze(label_tests), # reduce to right shape\n",
    "                                 y_pred=model_1_preds.numpy())\n",
    "model_1_results"
   ]
  },
  {
   "cell_type": "markdown",
   "id": "0cc99d93",
   "metadata": {},
   "source": [
    "## Model 2: Dense (window = 30, horizon = 1)"
   ]
  },
  {
   "cell_type": "code",
   "execution_count": 52,
   "id": "7157ac16",
   "metadata": {},
   "outputs": [],
   "source": [
    "HORIZON = 1 # predict 1 step at a time\n",
    "WINDOW_SIZE = 30 # use a month worth of timesteps to predict the horizon"
   ]
  },
  {
   "cell_type": "code",
   "execution_count": 53,
   "id": "ee814e86",
   "metadata": {},
   "outputs": [
    {
     "data": {
      "text/plain": [
       "(2757, 2757)"
      ]
     },
     "execution_count": 53,
     "metadata": {},
     "output_type": "execute_result"
    }
   ],
   "source": [
    "full_windows, full_labels = make_windows(prices, window_size=WINDOW_SIZE, horizon=HORIZON)\n",
    "len(full_windows), len(full_labels)"
   ]
  },
  {
   "cell_type": "code",
   "execution_count": 54,
   "id": "77650dcf",
   "metadata": {},
   "outputs": [
    {
     "data": {
      "text/plain": [
       "(2205, 552, 2205, 552)"
      ]
     },
     "execution_count": 54,
     "metadata": {},
     "output_type": "execute_result"
    }
   ],
   "source": [
    "window_trains, window_tests, label_trains, label_tests = make_train_test_split(full_windows, full_labels)\n",
    "len(window_trains), len(window_tests), len(label_trains), len(label_tests)"
   ]
  },
  {
   "cell_type": "code",
   "execution_count": 55,
   "id": "1d8a3dda",
   "metadata": {},
   "outputs": [
    {
     "name": "stdout",
     "output_type": "stream",
     "text": [
      "INFO:tensorflow:Assets written to: model_experiments\\model_2_dense\\assets\n",
      "INFO:tensorflow:Assets written to: model_experiments\\model_2_dense\\assets\n",
      "INFO:tensorflow:Assets written to: model_experiments\\model_2_dense\\assets\n",
      "INFO:tensorflow:Assets written to: model_experiments\\model_2_dense\\assets\n",
      "INFO:tensorflow:Assets written to: model_experiments\\model_2_dense\\assets\n",
      "INFO:tensorflow:Assets written to: model_experiments\\model_2_dense\\assets\n",
      "INFO:tensorflow:Assets written to: model_experiments\\model_2_dense\\assets\n",
      "INFO:tensorflow:Assets written to: model_experiments\\model_2_dense\\assets\n",
      "INFO:tensorflow:Assets written to: model_experiments\\model_2_dense\\assets\n",
      "INFO:tensorflow:Assets written to: model_experiments\\model_2_dense\\assets\n",
      "INFO:tensorflow:Assets written to: model_experiments\\model_2_dense\\assets\n",
      "INFO:tensorflow:Assets written to: model_experiments\\model_2_dense\\assets\n",
      "INFO:tensorflow:Assets written to: model_experiments\\model_2_dense\\assets\n",
      "INFO:tensorflow:Assets written to: model_experiments\\model_2_dense\\assets\n",
      "INFO:tensorflow:Assets written to: model_experiments\\model_2_dense\\assets\n",
      "INFO:tensorflow:Assets written to: model_experiments\\model_2_dense\\assets\n",
      "INFO:tensorflow:Assets written to: model_experiments\\model_2_dense\\assets\n",
      "INFO:tensorflow:Assets written to: model_experiments\\model_2_dense\\assets\n",
      "INFO:tensorflow:Assets written to: model_experiments\\model_2_dense\\assets\n",
      "INFO:tensorflow:Assets written to: model_experiments\\model_2_dense\\assets\n",
      "INFO:tensorflow:Assets written to: model_experiments\\model_2_dense\\assets\n",
      "INFO:tensorflow:Assets written to: model_experiments\\model_2_dense\\assets\n",
      "INFO:tensorflow:Assets written to: model_experiments\\model_2_dense\\assets\n",
      "INFO:tensorflow:Assets written to: model_experiments\\model_2_dense\\assets\n",
      "INFO:tensorflow:Assets written to: model_experiments\\model_2_dense\\assets\n",
      "INFO:tensorflow:Assets written to: model_experiments\\model_2_dense\\assets\n",
      "INFO:tensorflow:Assets written to: model_experiments\\model_2_dense\\assets\n",
      "INFO:tensorflow:Assets written to: model_experiments\\model_2_dense\\assets\n",
      "INFO:tensorflow:Assets written to: model_experiments\\model_2_dense\\assets\n",
      "INFO:tensorflow:Assets written to: model_experiments\\model_2_dense\\assets\n"
     ]
    },
    {
     "data": {
      "text/plain": [
       "<keras.callbacks.History at 0x22d392604f0>"
      ]
     },
     "execution_count": 55,
     "metadata": {},
     "output_type": "execute_result"
    }
   ],
   "source": [
    "tf.random.set_seed(42)\n",
    "\n",
    "# Create model (same model as model 1 but data input will be different)\n",
    "model_2 = tf.keras.Sequential([\n",
    "  tf.keras.layers.Dense(128, activation=\"relu\"),\n",
    "  tf.keras.layers.Dense(HORIZON) # need to predict horizon number of steps into the future\n",
    "], name=\"model_2_dense\")\n",
    "\n",
    "model_2.compile(loss=\"mae\",\n",
    "                optimizer=tf.keras.optimizers.Adam())\n",
    "\n",
    "model_2.fit(window_trains,\n",
    "            label_trains,\n",
    "            epochs=100,\n",
    "            batch_size=128,\n",
    "            verbose=0,\n",
    "            validation_data=(window_tests, label_tests),\n",
    "            callbacks=[create_model_checkpoint(model_name=model_2.name)])"
   ]
  },
  {
   "cell_type": "code",
   "execution_count": 56,
   "id": "6c623f7a",
   "metadata": {},
   "outputs": [
    {
     "name": "stdout",
     "output_type": "stream",
     "text": [
      "18/18 [==============================] - 0s 966us/step - loss: 658.0291\n"
     ]
    },
    {
     "data": {
      "text/plain": [
       "658.029052734375"
      ]
     },
     "execution_count": 56,
     "metadata": {},
     "output_type": "execute_result"
    }
   ],
   "source": [
    "model_2.evaluate(window_tests,label_tests)"
   ]
  },
  {
   "cell_type": "code",
   "execution_count": 57,
   "id": "d68842f5",
   "metadata": {},
   "outputs": [
    {
     "data": {
      "text/plain": [
       "<tf.Tensor: shape=(552,), dtype=float32, numpy=\n",
       "array([ 9021.133 ,  9045.923 ,  8904.477 ,  8701.531 ,  8566.087 ,\n",
       "        8457.516 ,  8387.046 ,  8254.143 ,  8298.98  ,  7915.7983,\n",
       "        7429.2314,  7307.091 ,  7177.6   ,  7180.1357,  7216.906 ,\n",
       "        7419.5176,  7598.017 ,  7687.268 ,  7701.6636,  7521.379 ,\n",
       "        7477.1934,  7334.278 ,  7379.4717,  7440.684 ,  7604.205 ,\n",
       "        7610.9272,  7625.792 ,  7506.667 ,  7261.4507,  7336.883 ,\n",
       "        7219.828 ,  7398.832 ,  7219.4443,  7293.3936,  7054.9004,\n",
       "        6829.977 ,  7173.7183,  7345.5884,  7193.3447,  7392.4795,\n",
       "        7334.325 ,  7356.031 ,  7360.882 ,  7302.5854,  7285.7544,\n",
       "        7335.1455,  7322.0264,  7499.149 ,  7437.1606,  7262.913 ,\n",
       "        7350.099 ,  7071.266 ,  7271.932 ,  7370.4473,  7514.122 ,\n",
       "        7762.6274,  8092.667 ,  8164.5444,  8073.9395,  8077.6084,\n",
       "        8206.412 ,  8291.298 ,  8302.041 ,  8681.307 ,  8969.679 ,\n",
       "        8920.301 ,  9052.133 ,  9018.757 ,  8900.43  ,  8764.476 ,\n",
       "        8841.306 ,  8827.166 ,  8661.096 ,  8590.822 ,  8533.171 ,\n",
       "        8661.355 ,  8829.319 ,  9185.852 ,  9415.274 ,  9668.426 ,\n",
       "        9576.39  ,  9640.607 ,  9581.353 ,  9434.238 ,  9333.163 ,\n",
       "        9663.121 ,  9785.246 ,  9905.763 , 10067.469 , 10223.84  ,\n",
       "       10084.393 , 10231.407 , 10459.163 , 10472.531 , 10558.71  ,\n",
       "       10284.074 , 10124.127 ,  9917.671 , 10076.421 ,  9995.156 ,\n",
       "        9771.119 ,  9835.642 ,  9751.547 , 10119.777 ,  9799.71  ,\n",
       "        9666.55  ,  9079.943 ,  8935.147 ,  8858.692 ,  8774.756 ,\n",
       "        8743.893 ,  8865.3   ,  9031.551 ,  8761.855 ,  9118.095 ,\n",
       "        9100.582 ,  9205.319 ,  8507.141 ,  8103.417 ,  8003.283 ,\n",
       "        8053.3228,  6575.03  ,  5740.9585,  5569.749 ,  5358.082 ,\n",
       "        5491.906 ,  5597.2944,  5940.866 ,  6319.382 ,  6559.5884,\n",
       "        6364.5503,  6305.622 ,  6507.704 ,  6909.1875,  6956.166 ,\n",
       "        6766.5493,  6913.92  ,  6432.741 ,  6148.165 ,  6037.7354,\n",
       "        6475.549 ,  6365.914 ,  6924.868 ,  6653.166 ,  7233.411 ,\n",
       "        6929.6475,  7471.4243,  7244.499 ,  7540.3916,  7497.9834,\n",
       "        7223.4863,  7076.465 ,  7098.539 ,  7086.588 ,  6948.425 ,\n",
       "        6835.0117,  6969.599 ,  7269.3535,  7376.199 ,  7367.147 ,\n",
       "        7077.0684,  6994.9814,  7133.3433,  7503.23  ,  7678.6943,\n",
       "        7712.753 ,  7801.5947,  7797.772 ,  7906.9736,  8460.198 ,\n",
       "        8955.842 ,  8965.688 ,  9208.925 ,  9042.606 ,  9131.26  ,\n",
       "        9094.383 ,  9395.738 ,  9882.479 , 10161.116 ,  9871.766 ,\n",
       "        9252.561 ,  8918.129 ,  8832.537 ,  9344.602 ,  9676.597 ,\n",
       "        9697.6   ,  9561.227 ,  9906.617 ,  9919.01  ,  9887.141 ,\n",
       "        9651.85  ,  9399.791 ,  9313.602 ,  9425.218 ,  9250.837 ,\n",
       "        9215.239 ,  8990.472 ,  9026.381 ,  9408.915 ,  9465.02  ,\n",
       "        9719.403 ,  9787.678 , 10264.278 ,  9976.6875,  9721.502 ,\n",
       "        9885.281 ,  9800.778 ,  9901.459 ,  9886.52  ,  9932.879 ,\n",
       "        9880.537 ,  9993.636 ,  9531.71  ,  9557.217 ,  9643.254 ,\n",
       "        9397.143 ,  9739.719 ,  9528.089 ,  9722.932 ,  9529.797 ,\n",
       "        9543.406 ,  9325.067 ,  9512.151 ,  9633.915 ,  9836.224 ,\n",
       "        9535.019 ,  9403.055 ,  9371.145 ,  9174.552 ,  9219.753 ,\n",
       "        9147.701 ,  9333.195 ,  9340.9   ,  9294.484 ,  9207.317 ,\n",
       "        9309.903 ,  9145.938 ,  9339.677 ,  9358.713 ,  9541.154 ,\n",
       "        9506.951 ,  9422.691 ,  9384.63  ,  9385.818 ,  9350.877 ,\n",
       "        9342.848 ,  9376.659 ,  9284.822 ,  9355.403 ,  9304.412 ,\n",
       "        9320.732 ,  9278.714 ,  9426.522 ,  9666.291 ,  9720.95  ,\n",
       "        9789.643 ,  9817.262 , 10074.066 , 10908.185 , 11228.004 ,\n",
       "       11335.908 , 11475.238 , 11445.668 , 11935.017 , 11502.09  ,\n",
       "       11419.434 , 11427.962 , 11728.524 , 11982.452 , 11885.1875,\n",
       "       11951.106 , 11835.333 , 12088.268 , 11558.07  , 11760.595 ,\n",
       "       11835.187 , 12111.854 , 12143.954 , 12099.748 , 12415.263 ,\n",
       "       12356.609 , 12037.951 , 11958.84  , 11826.903 , 11845.933 ,\n",
       "       11883.105 , 11853.303 , 11697.519 , 11613.129 , 11483.145 ,\n",
       "       11535.8125, 11606.994 , 11760.078 , 11922.546 , 12087.482 ,\n",
       "       11776.727 , 11113.435 , 10830.726 , 10271.671 , 10225.744 ,\n",
       "       10416.154 , 10246.215 , 10374.389 , 10420.852 , 10530.553 ,\n",
       "       10488.254 , 10485.108 , 10563.465 , 11058.695 , 11152.82  ,\n",
       "       11193.174 , 11175.483 , 11197.947 , 11021.014 , 10710.772 ,\n",
       "       10582.204 , 10465.273 , 10697.642 , 10914.226 , 10915.831 ,\n",
       "       10918.491 , 10984.902 , 10914.673 , 10923.329 , 10855.225 ,\n",
       "       10753.684 , 10822.009 , 10812.892 , 10858.596 , 10862.914 ,\n",
       "       10721.728 , 10976.045 , 11086.686 , 11436.931 , 11496.479 ,\n",
       "       11788.459 , 11730.031 , 11646.6   , 11649.16  , 11586.646 ,\n",
       "       11509.605 , 11609.112 , 11873.742 , 12072.769 , 12961.843 ,\n",
       "       13328.217 , 13233.989 , 13341.73  , 13174.821 , 13330.453 ,\n",
       "       13747.742 , 13695.502 , 13675.857 , 13909.777 , 13933.424 ,\n",
       "       14025.952 , 13857.591 , 13939.965 , 14307.509 , 15291.394 ,\n",
       "       15791.793 , 15356.947 , 15740.033 , 15594.571 , 15681.757 ,\n",
       "       15859.725 , 16347.299 , 16595.201 , 16585.62  , 16220.098 ,\n",
       "       16772.502 , 17614.906 , 17937.473 , 18250.756 , 18807.104 ,\n",
       "       18908.615 , 19120.088 , 18947.615 , 19209.67  , 19193.918 ,\n",
       "       17985.334 , 17371.443 , 17795.064 , 18267.383 , 19396.828 ,\n",
       "       19428.873 , 19370.988 , 19646.137 , 19349.291 , 19415.186 ,\n",
       "       19468.684 , 19406.412 , 19259.07  , 18956.115 , 18607.613 ,\n",
       "       18427.447 , 19038.662 , 19105.543 , 19388.049 , 19454.822 ,\n",
       "       21110.518 , 22907.963 , 23502.686 , 24193.42  , 24125.22  ,\n",
       "       23748.611 , 23712.256 , 23631.217 , 24063.559 , 24850.467 ,\n",
       "       26243.176 , 26869.832 , 27128.951 , 27313.834 , 28679.791 ,\n",
       "       29659.453 , 29812.154 , 31983.096 , 33550.242 , 33002.215 ,\n",
       "       34438.312 , 36402.97  , 39308.434 , 41241.55  , 41108.516 ,\n",
       "       40348.7   , 36933.87  , 35016.312 , 36762.71  , 38480.504 ,\n",
       "       37905.742 , 37036.22  , 37201.426 , 36830.45  , 37154.547 ,\n",
       "       35668.6   , 32850.75  , 32808.613 , 33019.035 , 32938.87  ,\n",
       "       33557.516 , 32582.303 , 31655.646 , 32567.809 , 34084.617 ,\n",
       "       34320.86  , 34746.137 , 34401.02  , 35692.418 , 37465.258 ,\n",
       "       37327.594 , 38383.52  , 40008.816 , 39924.203 , 43326.418 ,\n",
       "       47107.617 , 45877.797 , 48511.684 , 48432.33  , 48801.73  ,\n",
       "       49167.2   , 49478.676 , 49357.855 , 52975.312 , 52613.656 ,\n",
       "       55328.6   , 56772.754 , 56966.027 , 56734.02  , 51045.05  ,\n",
       "       49844.348 , 48690.605 , 47763.86  , 47212.76  , 46886.99  ,\n",
       "       48088.6   , 49258.06  , 50057.805 , 49489.723 , 49823.766 ,\n",
       "       49597.832 , 51232.89  , 52264.023 , 54330.59  , 57661.77  ,\n",
       "       58531.504 , 58206.64  , 60248.285 , 60546.52  , 59090.492 ,\n",
       "       57206.703 , 59162.035 , 59015.156 , 60047.227 , 59001.266 ,\n",
       "       59340.355 , 56093.758 , 55958.46  , 53337.508 , 53572.887 ,\n",
       "       54526.14  , 56921.465 , 57155.625 , 57834.68  , 59124.793 ,\n",
       "       59535.008 , 60130.516 , 59196.656 , 58605.938 , 59451.188 ,\n",
       "       59549.74  , 59297.84  , 57957.312 , 58250.156 , 58266.023 ,\n",
       "       59431.84  , 60142.81  , 61052.543 , 63331.1   , 64498.24  ,\n",
       "       64338.84  , 63751.54  , 61933.73  , 59209.613 , 57256.207 ,\n",
       "       57305.184 , 55365.62  , 53760.973 , 51347.22  , 51327.836 ,\n",
       "       49631.15  , 52129.76  , 55177.758 , 55434.363 , 55024.188 ,\n",
       "       56613.625 , 59155.13  , 57533.31  , 58134.613 , 55150.312 ,\n",
       "       57408.926 , 57037.406 , 57320.723 , 59514.066 , 58810.008 ,\n",
       "       57468.285 , 56522.01  , 54597.293 , 50281.777 , 51716.027 ,\n",
       "       49046.156 , 47641.64  ], dtype=float32)>"
      ]
     },
     "execution_count": 57,
     "metadata": {},
     "output_type": "execute_result"
    }
   ],
   "source": [
    "model_2_preds=make_preds(model_2,window_tests)\n",
    "model_2_preds"
   ]
  },
  {
   "cell_type": "code",
   "execution_count": 58,
   "id": "5ffe2551",
   "metadata": {},
   "outputs": [],
   "source": [
    "model_2_results=make_results(tf.squeeze(label_tests),model_2_preds.numpy())"
   ]
  },
  {
   "cell_type": "code",
   "execution_count": 59,
   "id": "5fe75c17",
   "metadata": {},
   "outputs": [
    {
     "data": {
      "text/plain": [
       "(numpy.ndarray, tensorflow.python.framework.ops.EagerTensor)"
      ]
     },
     "execution_count": 59,
     "metadata": {},
     "output_type": "execute_result"
    }
   ],
   "source": [
    "type(label_tests),type(model_2_preds)"
   ]
  },
  {
   "cell_type": "code",
   "execution_count": 60,
   "id": "91ba097c",
   "metadata": {},
   "outputs": [
    {
     "data": {
      "text/plain": [
       "{'mae': 658.0291,\n",
       " 'mse': 1417082.0,\n",
       " 'rmse': 1190.4125,\n",
       " 'mape': 3.039736,\n",
       " 'mase': 1.1502411437076445}"
      ]
     },
     "execution_count": 60,
     "metadata": {},
     "output_type": "execute_result"
    }
   ],
   "source": [
    "model_2_results"
   ]
  },
  {
   "cell_type": "markdown",
   "id": "2d8176f8",
   "metadata": {},
   "source": [
    "## Model 3: Dense (window = 30, horizon = 7)"
   ]
  },
  {
   "cell_type": "code",
   "execution_count": 61,
   "id": "7b4eefc0",
   "metadata": {},
   "outputs": [],
   "source": [
    "HORIZON = 7 # predict 1 step at a time\n",
    "WINDOW_SIZE = 30 # use a month worth of timesteps to predict the horizon"
   ]
  },
  {
   "cell_type": "code",
   "execution_count": 62,
   "id": "cc9ddbe0",
   "metadata": {},
   "outputs": [
    {
     "data": {
      "text/plain": [
       "(2751, 2751)"
      ]
     },
     "execution_count": 62,
     "metadata": {},
     "output_type": "execute_result"
    }
   ],
   "source": [
    "full_windows, full_labels = make_windows(prices, window_size=WINDOW_SIZE, horizon=HORIZON)\n",
    "len(full_windows), len(full_labels)"
   ]
  },
  {
   "cell_type": "code",
   "execution_count": 63,
   "id": "153a1c92",
   "metadata": {},
   "outputs": [
    {
     "data": {
      "text/plain": [
       "(2200, 551, 2200, 551)"
      ]
     },
     "execution_count": 63,
     "metadata": {},
     "output_type": "execute_result"
    }
   ],
   "source": [
    "window_trains, window_tests, label_trains, label_tests = make_train_test_split(full_windows, full_labels)\n",
    "len(window_trains), len(window_tests), len(label_trains), len(label_tests)"
   ]
  },
  {
   "cell_type": "code",
   "execution_count": 64,
   "id": "34a2da4e",
   "metadata": {},
   "outputs": [
    {
     "name": "stdout",
     "output_type": "stream",
     "text": [
      "INFO:tensorflow:Assets written to: model_experiments\\model_3_dense\\assets\n",
      "INFO:tensorflow:Assets written to: model_experiments\\model_3_dense\\assets\n",
      "INFO:tensorflow:Assets written to: model_experiments\\model_3_dense\\assets\n",
      "INFO:tensorflow:Assets written to: model_experiments\\model_3_dense\\assets\n",
      "INFO:tensorflow:Assets written to: model_experiments\\model_3_dense\\assets\n",
      "INFO:tensorflow:Assets written to: model_experiments\\model_3_dense\\assets\n",
      "INFO:tensorflow:Assets written to: model_experiments\\model_3_dense\\assets\n",
      "INFO:tensorflow:Assets written to: model_experiments\\model_3_dense\\assets\n",
      "INFO:tensorflow:Assets written to: model_experiments\\model_3_dense\\assets\n",
      "INFO:tensorflow:Assets written to: model_experiments\\model_3_dense\\assets\n",
      "INFO:tensorflow:Assets written to: model_experiments\\model_3_dense\\assets\n",
      "INFO:tensorflow:Assets written to: model_experiments\\model_3_dense\\assets\n",
      "INFO:tensorflow:Assets written to: model_experiments\\model_3_dense\\assets\n",
      "INFO:tensorflow:Assets written to: model_experiments\\model_3_dense\\assets\n",
      "INFO:tensorflow:Assets written to: model_experiments\\model_3_dense\\assets\n",
      "INFO:tensorflow:Assets written to: model_experiments\\model_3_dense\\assets\n",
      "INFO:tensorflow:Assets written to: model_experiments\\model_3_dense\\assets\n",
      "INFO:tensorflow:Assets written to: model_experiments\\model_3_dense\\assets\n",
      "INFO:tensorflow:Assets written to: model_experiments\\model_3_dense\\assets\n",
      "INFO:tensorflow:Assets written to: model_experiments\\model_3_dense\\assets\n",
      "INFO:tensorflow:Assets written to: model_experiments\\model_3_dense\\assets\n",
      "INFO:tensorflow:Assets written to: model_experiments\\model_3_dense\\assets\n",
      "INFO:tensorflow:Assets written to: model_experiments\\model_3_dense\\assets\n"
     ]
    },
    {
     "data": {
      "text/plain": [
       "<keras.callbacks.History at 0x22d3a5b8ca0>"
      ]
     },
     "execution_count": 64,
     "metadata": {},
     "output_type": "execute_result"
    }
   ],
   "source": [
    "tf.random.set_seed(42)\n",
    "\n",
    "# Create model (same model as model 1 but data input will be different)\n",
    "model_3 = tf.keras.Sequential([\n",
    "  tf.keras.layers.Dense(128, activation=\"relu\"),\n",
    "  tf.keras.layers.Dense(HORIZON) # need to predict horizon number of steps into the future\n",
    "], name=\"model_3_dense\")\n",
    "\n",
    "model_3.compile(loss=\"mae\",\n",
    "                optimizer=tf.keras.optimizers.Adam())\n",
    "\n",
    "model_3.fit(window_trains,\n",
    "            label_trains,\n",
    "            epochs=100,\n",
    "            batch_size=128,\n",
    "            verbose=0,\n",
    "            validation_data=(window_tests, label_tests),\n",
    "            callbacks=[create_model_checkpoint(model_name=model_3.name)])"
   ]
  },
  {
   "cell_type": "code",
   "execution_count": 65,
   "id": "a0089d8e",
   "metadata": {},
   "outputs": [
    {
     "name": "stdout",
     "output_type": "stream",
     "text": [
      "18/18 [==============================] - 0s 2ms/step - loss: 1317.8018\n"
     ]
    },
    {
     "data": {
      "text/plain": [
       "1317.8017578125"
      ]
     },
     "execution_count": 65,
     "metadata": {},
     "output_type": "execute_result"
    }
   ],
   "source": [
    "model_3.evaluate(window_tests,label_tests)"
   ]
  },
  {
   "cell_type": "code",
   "execution_count": 66,
   "id": "90d21aeb",
   "metadata": {},
   "outputs": [
    {
     "data": {
      "text/plain": [
       "<tf.Tensor: shape=(551, 7), dtype=float32, numpy=\n",
       "array([[ 9066.958,  9090.6  ,  9131.458, ...,  9146.784,  9095.668,\n",
       "         9197.904],\n",
       "       [ 8746.769,  8830.869,  8880.969, ...,  8737.351,  8687.214,\n",
       "         8972.065],\n",
       "       [ 8672.129,  8783.631,  8766.695, ...,  8665.7  ,  8536.175,\n",
       "         8871.245],\n",
       "       ...,\n",
       "       [57460.16 , 57369.992, 56730.91 , ..., 57120.543, 56401.57 ,\n",
       "        58081.45 ],\n",
       "       [56898.63 , 56972.016, 56758.223, ..., 57355.7  , 56264.703,\n",
       "        57733.438],\n",
       "       [55737.586, 56598.773, 55377.562, ..., 56189.82 , 54360.35 ,\n",
       "        57208.684]], dtype=float32)>"
      ]
     },
     "execution_count": 66,
     "metadata": {},
     "output_type": "execute_result"
    }
   ],
   "source": [
    "model_3_preds=make_preds(model_3,window_tests)\n",
    "model_3_preds"
   ]
  },
  {
   "cell_type": "code",
   "execution_count": 67,
   "id": "ff57b376",
   "metadata": {},
   "outputs": [
    {
     "data": {
      "text/plain": [
       "{'mae': array([ 334.77832 ,  141.49484 ,  146.9569  ,  189.3524  ,  229.61746 ,\n",
       "         317.7862  ,  307.01422 ,  243.89627 ,  348.40366 ,  443.53397 ,\n",
       "         593.59625 ,  538.94055 ,  554.90607 ,  616.3844  ,  408.46603 ,\n",
       "         197.42627 ,  256.44595 ,  389.66776 ,  427.27094 ,  458.1741  ,\n",
       "         223.8787  ,  130.6656  ,  116.55922 ,  176.93213 ,  149.96443 ,\n",
       "         177.24107 ,  222.25363 ,  226.95068 ,  185.87465 ,   53.63965 ,\n",
       "         140.39879 ,  203.98291 ,  122.65248 ,  162.7611  ,  157.8667  ,\n",
       "         191.54709 ,  222.869   ,  218.68973 ,  241.21805 ,  393.73117 ,\n",
       "         616.3706  ,  320.10574 ,  213.74226 ,  257.1065  ,   96.32882 ,\n",
       "         185.26814 ,  153.56725 ,  138.86809 ,  100.882744,  182.89328 ,\n",
       "         124.62193 ,  114.82987 ,  114.39327 ,  173.49748 ,  384.98996 ,\n",
       "         513.7702  ,  722.8443  ,  707.557   ,  675.432   ,  691.49896 ,\n",
       "         596.72015 ,  396.42935 ,  371.3508  ,  490.3358  ,  621.0234  ,\n",
       "         636.5025  ,  682.9473  ,  707.11847 ,  304.15164 ,  173.73088 ,\n",
       "         129.21289 ,  226.19084 ,  327.04535 ,  179.24023 ,  138.6084  ,\n",
       "         248.35812 ,  299.06235 ,  483.34695 ,  670.8912  ,  867.6398  ,\n",
       "        1021.46234 ,  837.102   ,  483.05093 ,  312.22488 ,  161.0201  ,\n",
       "         212.87361 ,  261.90695 ,  424.89175 ,  525.31573 ,  767.25336 ,\n",
       "         645.564   ,  642.2662  ,  572.4287  ,  426.57687 ,  281.81125 ,\n",
       "         366.68625 ,  259.32074 ,  300.51047 ,  407.59055 ,  532.8011  ,\n",
       "         306.00488 ,  121.770226,  210.11984 ,  155.74596 ,  244.8199  ,\n",
       "         368.94742 ,  403.74094 ,  456.34164 ,  745.86456 ,  715.66785 ,\n",
       "         631.48114 ,  197.47922 ,  200.96164 ,  373.27203 ,  385.58258 ,\n",
       "         551.41833 ,  374.25705 ,  402.80322 ,  517.4061  ,  844.55695 ,\n",
       "        1378.649   , 1932.9365  , 1713.0759  , 1848.8936  , 2038.8334  ,\n",
       "        2392.8276  , 1099.97    ,  566.3491  ,  424.16455 ,  474.57785 ,\n",
       "         565.6421  ,  511.74527 ,  611.964   ,  400.0638  ,  373.9387  ,\n",
       "         367.60464 ,  474.4756  ,  386.99127 ,  176.58363 ,  236.82408 ,\n",
       "         237.4617  ,  325.70612 ,  356.11642 ,  744.03424 ,  819.0667  ,\n",
       "         566.8532  ,  502.37012 ,  255.10393 ,  397.10025 ,  210.1762  ,\n",
       "         322.67188 ,  322.76373 ,  238.54164 ,  365.89865 ,  255.411   ,\n",
       "         191.08455 ,  261.81055 ,  281.09097 ,  318.57535 ,  267.91064 ,\n",
       "         437.71722 ,  300.87137 ,  264.37885 ,  287.1686  ,  354.7537  ,\n",
       "         501.48795 ,  682.6196  ,  867.58905 ,  678.4384  ,  765.5094  ,\n",
       "         988.78424 , 1042.1768  , 1152.8248  , 1248.1101  ,  678.6908  ,\n",
       "         431.61594 ,  481.5689  ,  449.65305 ,  488.81293 ,  444.815   ,\n",
       "         498.06836 ,  441.3016  ,  494.60953 ,  764.89996 ,  653.7602  ,\n",
       "         343.61566 ,  729.0943  ,  950.6239  ,  578.96735 ,  132.49818 ,\n",
       "         227.191   ,  229.86691 ,  268.24484 ,  262.8796  ,  429.41992 ,\n",
       "         406.21707 ,  176.84123 ,  207.41545 ,  302.01996 ,  413.90723 ,\n",
       "         693.86145 ,  959.829   ,  914.39777 ,  658.1378  ,  466.28696 ,\n",
       "         265.49625 ,  351.31403 ,  156.82756 ,  111.516045,  125.95284 ,\n",
       "         174.91434 ,  217.5053  ,  225.24414 ,  251.75656 ,  139.59334 ,\n",
       "         205.95354 ,  307.38492 ,  160.53572 ,  197.81111 ,  103.52511 ,\n",
       "         129.56682 ,  103.42034 ,  173.03836 ,  160.55916 ,  194.55916 ,\n",
       "         216.02205 ,  357.3411  ,  223.30106 ,  117.6197  ,  356.35394 ,\n",
       "         117.5247  ,  129.69016 ,  157.54631 ,  236.91309 ,  225.73996 ,\n",
       "         219.55469 ,  179.2175  ,  175.82199 ,  231.98912 ,  341.15512 ,\n",
       "         276.08914 ,  385.7603  ,  206.69308 ,  180.86523 ,   62.257256,\n",
       "         114.25879 ,   92.59208 ,  157.91629 ,  129.42928 ,   89.41741 ,\n",
       "          87.92285 ,  193.01772 ,  317.69754 ,  363.95996 ,  441.48648 ,\n",
       "         511.36313 ,  815.8495  ,  911.6642  , 1014.2768  , 1104.0515  ,\n",
       "        1337.948   , 1556.1681  , 1528.4447  ,  740.2161  ,  423.36606 ,\n",
       "         260.6328  ,  278.63184 ,  349.28125 ,  225.15067 ,  274.55887 ,\n",
       "         326.7546  ,  440.2355  ,  181.95592 ,  105.51632 ,  127.93038 ,\n",
       "         158.8881  ,  206.13268 ,  280.00906 ,  468.5473  ,  452.00516 ,\n",
       "         399.45844 ,  246.00838 ,  255.27121 ,  182.41379 ,  163.44475 ,\n",
       "         338.92355 ,  187.04129 ,  133.79994 ,  186.26828 ,  124.25419 ,\n",
       "         159.30637 ,  144.96582 ,  323.238   ,  394.98032 ,  479.48758 ,\n",
       "         477.5893  ,  574.5     ,  646.9372  ,  844.9188  , 1211.5413  ,\n",
       "        1110.1515  ,  606.84973 ,  309.04688 ,  343.29785 ,  453.60965 ,\n",
       "         399.08957 ,  567.124   ,  623.0001  ,  674.23785 ,  670.70105 ,\n",
       "         691.4424  ,  684.8796  ,  506.6027  ,  230.68555 ,  157.863   ,\n",
       "         199.53516 ,  196.5007  ,  265.68387 ,  226.65598 ,  293.92746 ,\n",
       "         365.47363 ,  559.3969  ,  382.08203 ,  185.369   ,  125.93262 ,\n",
       "         112.71038 ,   76.03139 ,  136.71484 ,  115.14662 ,  168.3351  ,\n",
       "         295.80664 ,  439.36887 ,  498.46695 ,  603.5399  ,  771.11945 ,\n",
       "         901.33624 ,  838.82477 ,  735.99316 ,  387.01102 ,  260.18442 ,\n",
       "         161.44908 ,  175.68025 ,  459.31668 ,  692.0787  ,  923.7034  ,\n",
       "        1284.4114  , 1452.4772  , 1443.1898  , 1482.891   ,  684.577   ,\n",
       "         295.1338  ,  344.75433 ,  398.73758 ,  508.59613 ,  555.4096  ,\n",
       "         234.58553 ,  371.9834  ,  657.0063  ,  842.6017  ,  884.778   ,\n",
       "        1051.7102  , 1436.1809  , 1496.5088  , 1496.2853  ,  629.20953 ,\n",
       "         481.58383 ,  632.38086 ,  486.85297 ,  865.49316 , 1168.0349  ,\n",
       "        1136.8762  ,  918.6045  , 1271.0938  , 1589.6367  , 2189.2336  ,\n",
       "        1893.3636  , 1352.5365  ,  869.4894  ,  795.0703  ,  532.4835  ,\n",
       "         655.16656 ,  793.2807  ,  820.4093  ,  875.0586  ,  877.38055 ,\n",
       "         988.65985 , 1646.6211  , 1773.2849  , 1701.373   ,  525.62836 ,\n",
       "         317.69644 ,  277.72964 ,  456.3527  ,  370.80133 ,  317.14035 ,\n",
       "         303.3019  ,  363.92523 ,  489.7938  , 1046.4592  , 1846.3923  ,\n",
       "        2924.402   , 3160.5898  , 3499.684   , 3746.7104  , 3958.017   ,\n",
       "        2805.3914  , 1377.5605  ,  820.63196 ,  811.0815  , 1221.1174  ,\n",
       "        1559.3488  , 2015.1588  , 3081.2834  , 3598.592   , 3543.3054  ,\n",
       "        2890.5208  , 3004.1372  , 3280.2932  , 4054.1062  , 3833.4077  ,\n",
       "        4525.277   , 5581.1147  , 4789.3716  , 4556.3726  , 5013.0635  ,\n",
       "        3645.256   , 2838.4258  , 2201.9995  , 3731.659   , 5081.21    ,\n",
       "        4547.9956  , 1285.2361  , 1450.717   ,  775.37054 , 2254.756   ,\n",
       "        2675.4448  , 2617.4006  , 2640.898   , 2742.7224  , 3149.6292  ,\n",
       "        3239.4478  ,  636.3485  , 1120.6339  , 1544.39    , 1537.1565  ,\n",
       "        1741.8256  , 2832.7458  , 4336.3936  , 4034.7258  , 2986.2742  ,\n",
       "        3219.637   , 3860.816   , 5724.2803  , 6171.835   , 5264.5674  ,\n",
       "        5536.61    , 6683.6147  , 6681.568   , 8852.31    , 5510.458   ,\n",
       "        1962.1613  , 2441.109   , 1871.0134  , 2605.8972  , 2998.6746  ,\n",
       "        3880.616   , 3637.076   , 4371.036   , 2945.4314  , 3245.0325  ,\n",
       "        4957.4023  , 6309.6377  , 9110.619   , 8323.729   , 3954.1128  ,\n",
       "        2118.4358  , 1850.8666  , 1960.528   , 3202.6094  , 4988.803   ,\n",
       "        3898.3906  , 3761.109   , 3610.1167  , 4948.682   , 6398.821   ,\n",
       "        7457.2695  , 7354.254   , 6642.3735  , 5476.469   , 3185.9219  ,\n",
       "        2105.2288  , 2317.9045  , 1012.22375 , 1703.6931  , 1376.7656  ,\n",
       "        1769.2131  , 2154.9995  , 3010.4146  , 4260.643   , 3999.8577  ,\n",
       "        3845.6848  , 1575.8967  , 2337.5017  , 3891.201   , 5394.9224  ,\n",
       "        5693.236   , 3316.2512  , 3831.3733  , 2837.4753  , 1779.1038  ,\n",
       "         822.2589  ,  831.5508  ,  628.31085 ,  972.05304 ,  979.66516 ,\n",
       "        1433.5262  , 2163.7166  , 3840.01    , 4586.8726  , 4821.241   ,\n",
       "        3729.4263  , 3505.0051  , 3184.7144  , 2882.2148  , 4365.389   ,\n",
       "        5844.0713  , 7225.0713  , 6816.3643  , 4841.387   , 3419.641   ,\n",
       "        3141.0894  , 2111.0452  , 2296.7734  , 3843.7422  , 5222.4995  ,\n",
       "        7350.7773  , 4962.399   , 2685.812   , 2680.2097  , 3561.1702  ,\n",
       "        2276.1245  , 1293.793   , 1933.9537  , 1829.5228  , 3362.1792  ,\n",
       "        2378.1355  , 2581.655   , 2890.8354  , 4580.466   , 5896.039   ,\n",
       "        6873.0493  ], dtype=float32),\n",
       " 'mse': array([1.32976406e+05, 4.53326523e+04, 4.92299102e+04, 4.93326953e+04,\n",
       "        9.12980234e+04, 1.42719234e+05, 1.26539711e+05, 1.26357203e+05,\n",
       "        2.14635328e+05, 3.10005531e+05, 5.06029156e+05, 4.12095312e+05,\n",
       "        3.57824188e+05, 4.09021000e+05, 1.88075641e+05, 6.28985195e+04,\n",
       "        1.03607008e+05, 2.19396172e+05, 2.20491578e+05, 2.41001453e+05,\n",
       "        6.51705234e+04, 3.23622676e+04, 1.82195215e+04, 3.88281758e+04,\n",
       "        3.48101797e+04, 5.73622773e+04, 8.36770078e+04, 6.47510703e+04,\n",
       "        4.71820273e+04, 4.63478564e+03, 2.76631992e+04, 4.80612539e+04,\n",
       "        4.15344727e+04, 7.45095078e+04, 4.32706602e+04, 6.73576641e+04,\n",
       "        8.23863594e+04, 6.90566328e+04, 8.39349219e+04, 1.66428172e+05,\n",
       "        3.98279281e+05, 1.12187484e+05, 5.44488320e+04, 6.90667734e+04,\n",
       "        1.36681299e+04, 4.94915352e+04, 3.37515469e+04, 3.80711523e+04,\n",
       "        1.72067773e+04, 3.63817461e+04, 2.36631406e+04, 2.11427500e+04,\n",
       "        1.76428516e+04, 5.26353555e+04, 2.29400391e+05, 3.96989312e+05,\n",
       "        6.27138125e+05, 5.98578562e+05, 5.42324000e+05, 5.03813344e+05,\n",
       "        3.76282344e+05, 2.44934250e+05, 2.45082672e+05, 3.70957750e+05,\n",
       "        5.32949625e+05, 5.12746156e+05, 5.49853125e+05, 5.16709438e+05,\n",
       "        1.10595336e+05, 4.08016914e+04, 3.11474277e+04, 7.06621484e+04,\n",
       "        1.27863250e+05, 5.28181523e+04, 2.67104688e+04, 7.55849297e+04,\n",
       "        1.29238164e+05, 3.82999031e+05, 6.29514438e+05, 8.69647812e+05,\n",
       "        1.09298300e+06, 7.18448375e+05, 2.46106422e+05, 1.11603055e+05,\n",
       "        4.22781953e+04, 7.52530469e+04, 1.02499492e+05, 2.54410047e+05,\n",
       "        3.61905656e+05, 6.26671812e+05, 4.89442938e+05, 4.79819938e+05,\n",
       "        3.51507281e+05, 2.35634453e+05, 1.05504266e+05, 1.66417234e+05,\n",
       "        8.08292500e+04, 1.43535953e+05, 2.13532766e+05, 3.13628719e+05,\n",
       "        1.12412703e+05, 2.10806074e+04, 9.07183125e+04, 3.78682695e+04,\n",
       "        1.48880125e+05, 2.07687672e+05, 2.15687234e+05, 2.73940656e+05,\n",
       "        6.93359938e+05, 5.74615438e+05, 4.24467656e+05, 5.04855078e+04,\n",
       "        4.99531484e+04, 1.93541594e+05, 1.94584141e+05, 3.46638594e+05,\n",
       "        1.92238672e+05, 1.95892219e+05, 2.73165656e+05, 1.55446788e+06,\n",
       "        3.14069875e+06, 5.12017650e+06, 4.26903600e+06, 4.68580800e+06,\n",
       "        4.82779300e+06, 5.77678100e+06, 1.31453088e+06, 3.82619719e+05,\n",
       "        2.66884625e+05, 2.88844000e+05, 4.94967500e+05, 3.67798688e+05,\n",
       "        4.41866344e+05, 2.16297969e+05, 1.89284109e+05, 1.68632578e+05,\n",
       "        2.69557906e+05, 1.85622500e+05, 5.24539180e+04, 1.14863805e+05,\n",
       "        1.27472797e+05, 1.70949703e+05, 1.62117891e+05, 6.47033562e+05,\n",
       "        7.42185625e+05, 3.81171344e+05, 2.78897844e+05, 9.05318281e+04,\n",
       "        2.11727969e+05, 6.02892422e+04, 1.26370602e+05, 1.23180008e+05,\n",
       "        7.41554297e+04, 1.60588547e+05, 9.58197969e+04, 4.57022695e+04,\n",
       "        1.04172977e+05, 1.07488609e+05, 1.48750953e+05, 9.11971094e+04,\n",
       "        2.19218250e+05, 1.35330547e+05, 1.08661891e+05, 1.21629750e+05,\n",
       "        1.45860156e+05, 3.20581250e+05, 5.21737438e+05, 9.45719625e+05,\n",
       "        7.38199188e+05, 9.24519000e+05, 1.36279912e+06, 1.39407638e+06,\n",
       "        1.50126975e+06, 1.56752012e+06, 5.15436281e+05, 3.06355469e+05,\n",
       "        4.23898406e+05, 3.66196438e+05, 3.55234594e+05, 2.93623719e+05,\n",
       "        3.48914750e+05, 2.32234031e+05, 3.92891969e+05, 7.32872875e+05,\n",
       "        5.85631812e+05, 1.46695469e+05, 6.21910688e+05, 9.49013688e+05,\n",
       "        3.54149781e+05, 2.89442539e+04, 6.14472500e+04, 7.13227578e+04,\n",
       "        1.00745188e+05, 9.61192109e+04, 2.27521250e+05, 1.79129078e+05,\n",
       "        5.19534102e+04, 1.05278984e+05, 1.38175953e+05, 2.35211344e+05,\n",
       "        6.53491438e+05, 1.09612138e+06, 9.25821625e+05, 5.13051500e+05,\n",
       "        3.39794719e+05, 1.08760867e+05, 1.91138859e+05, 3.40482773e+04,\n",
       "        2.02960957e+04, 2.53811699e+04, 5.97001055e+04, 6.29469805e+04,\n",
       "        6.81431172e+04, 7.12131719e+04, 2.71910625e+04, 6.23966289e+04,\n",
       "        1.13275609e+05, 4.12363516e+04, 4.96225977e+04, 1.70440801e+04,\n",
       "        1.99019355e+04, 1.62894482e+04, 5.22715117e+04, 6.41894336e+04,\n",
       "        7.08641094e+04, 6.29897383e+04, 1.46083406e+05, 8.06318125e+04,\n",
       "        2.25080352e+04, 1.33194609e+05, 2.02257656e+04, 2.22690723e+04,\n",
       "        4.37298125e+04, 6.24738047e+04, 6.64859609e+04, 5.32580508e+04,\n",
       "        4.36627695e+04, 5.01019961e+04, 9.71844844e+04, 1.51223609e+05,\n",
       "        8.71538359e+04, 1.58533328e+05, 4.86979648e+04, 4.37735508e+04,\n",
       "        5.91471631e+03, 1.64210176e+04, 1.07390078e+04, 3.27828516e+04,\n",
       "        2.00193887e+04, 1.22285322e+04, 1.12773389e+04, 5.99659375e+04,\n",
       "        1.40386641e+05, 1.83894641e+05, 2.50047203e+05, 3.18835062e+05,\n",
       "        9.73009125e+05, 1.30175775e+06, 1.61515712e+06, 1.74751412e+06,\n",
       "        2.22549225e+06, 2.70872200e+06, 2.43213225e+06, 6.21496625e+05,\n",
       "        2.18495000e+05, 1.26278805e+05, 1.27647484e+05, 1.79559031e+05,\n",
       "        7.59600234e+04, 1.04128195e+05, 1.18905883e+05, 2.36560797e+05,\n",
       "        4.26462891e+04, 1.76371953e+04, 3.21894551e+04, 3.56781758e+04,\n",
       "        5.68132070e+04, 1.13317766e+05, 2.87773000e+05, 2.90866844e+05,\n",
       "        2.03744094e+05, 1.06464273e+05, 1.01943680e+05, 7.78646484e+04,\n",
       "        4.07881680e+04, 1.34153422e+05, 5.44403945e+04, 4.64274375e+04,\n",
       "        5.50637852e+04, 2.75114258e+04, 4.70550586e+04, 3.47113711e+04,\n",
       "        1.36097062e+05, 2.68288250e+05, 2.81769188e+05, 2.68087688e+05,\n",
       "        4.35579406e+05, 5.88085000e+05, 8.91943625e+05, 1.66540988e+06,\n",
       "        1.28195412e+06, 4.14078062e+05, 1.15835414e+05, 1.62492453e+05,\n",
       "        2.54025859e+05, 1.93201609e+05, 3.80797719e+05, 4.98518094e+05,\n",
       "        5.65007812e+05, 5.81581500e+05, 5.63758625e+05, 5.01616656e+05,\n",
       "        2.92318688e+05, 7.33309531e+04, 5.12128672e+04, 7.44695391e+04,\n",
       "        4.93976445e+04, 1.20142391e+05, 6.96169922e+04, 1.05878375e+05,\n",
       "        1.64369641e+05, 3.34135188e+05, 1.58109641e+05, 4.37509453e+04,\n",
       "        1.93895410e+04, 1.69454043e+04, 1.30072881e+04, 2.27138438e+04,\n",
       "        2.97676074e+04, 4.03696875e+04, 1.27913672e+05, 2.72697250e+05,\n",
       "        3.85334188e+05, 5.47055250e+05, 7.43710562e+05, 9.00256062e+05,\n",
       "        7.52585438e+05, 5.72497938e+05, 1.69711141e+05, 7.35947812e+04,\n",
       "        2.90382910e+04, 6.60559062e+04, 5.09224062e+05, 1.02341700e+06,\n",
       "        1.41638538e+06, 2.14798725e+06, 2.45924050e+06, 2.27261975e+06,\n",
       "        2.25182100e+06, 5.50109188e+05, 1.47944406e+05, 1.75203781e+05,\n",
       "        2.56276094e+05, 3.40665438e+05, 3.47819406e+05, 7.60046797e+04,\n",
       "        1.74243219e+05, 7.71156875e+05, 1.35534962e+06, 1.40914962e+06,\n",
       "        1.66480212e+06, 2.45091325e+06, 2.44690125e+06, 2.30749300e+06,\n",
       "        6.01441812e+05, 3.61963094e+05, 5.67353062e+05, 3.46417156e+05,\n",
       "        8.90179062e+05, 1.70873162e+06, 1.81396012e+06, 1.51736000e+06,\n",
       "        2.22391050e+06, 3.24449050e+06, 5.29964900e+06, 3.79208975e+06,\n",
       "        2.01757712e+06, 8.82479688e+05, 6.96770938e+05, 5.52984562e+05,\n",
       "        7.62021438e+05, 1.02679769e+06, 1.00861138e+06, 1.24504475e+06,\n",
       "        1.01600931e+06, 1.29038975e+06, 3.33690875e+06, 3.33977575e+06,\n",
       "        2.98660050e+06, 3.60299719e+05, 1.34620344e+05, 1.20144055e+05,\n",
       "        2.80310156e+05, 1.92376594e+05, 1.26533117e+05, 1.24861023e+05,\n",
       "        1.68781594e+05, 3.06107250e+05, 1.64317800e+06, 5.74021150e+06,\n",
       "        1.14561590e+07, 1.38532180e+07, 1.58923590e+07, 1.64670570e+07,\n",
       "        1.62304470e+07, 8.08826400e+06, 2.03824288e+06, 9.62037188e+05,\n",
       "        1.39916125e+06, 2.50799675e+06, 4.13594125e+06, 6.05548950e+06,\n",
       "        1.18175500e+07, 1.48812570e+07, 1.41775930e+07, 1.23562210e+07,\n",
       "        1.42659330e+07, 1.50111600e+07, 2.05585540e+07, 2.10021940e+07,\n",
       "        3.10704980e+07, 4.29757400e+07, 3.47621240e+07, 2.59491020e+07,\n",
       "        3.10543720e+07, 1.85598740e+07, 9.81818300e+06, 7.82069050e+06,\n",
       "        1.86300920e+07, 2.92644100e+07, 2.22900840e+07, 2.07886425e+06,\n",
       "        2.94745850e+06, 9.95597438e+05, 7.20520900e+06, 1.04254570e+07,\n",
       "        1.14861370e+07, 1.16521910e+07, 8.80007200e+06, 1.17551330e+07,\n",
       "        1.16120210e+07, 5.92393438e+05, 2.29768575e+06, 3.72151375e+06,\n",
       "        3.72033775e+06, 3.87578000e+06, 9.73781500e+06, 2.09307340e+07,\n",
       "        1.99611580e+07, 1.25134090e+07, 1.41256160e+07, 1.89698200e+07,\n",
       "        4.10281800e+07, 5.34857720e+07, 4.31044240e+07, 4.45476680e+07,\n",
       "        5.85452760e+07, 5.31812240e+07, 8.00996960e+07, 3.25725160e+07,\n",
       "        4.94378150e+06, 7.97217050e+06, 6.57799950e+06, 1.31449580e+07,\n",
       "        1.51755340e+07, 2.28504820e+07, 1.79100340e+07, 2.30543800e+07,\n",
       "        1.06725440e+07, 1.15510400e+07, 3.58328440e+07, 5.05511720e+07,\n",
       "        9.07261280e+07, 7.10202640e+07, 1.93696600e+07, 8.43914900e+06,\n",
       "        4.96270800e+06, 4.65848150e+06, 1.22652980e+07, 2.62544180e+07,\n",
       "        1.79668820e+07, 1.76739000e+07, 2.35664100e+07, 3.53310360e+07,\n",
       "        5.12070160e+07, 6.78009360e+07, 6.55809720e+07, 4.96072880e+07,\n",
       "        3.17432860e+07, 1.32281430e+07, 6.69382300e+06, 7.16556250e+06,\n",
       "        1.47424038e+06, 4.15730350e+06, 4.66499850e+06, 4.23650850e+06,\n",
       "        8.11724300e+06, 1.50950030e+07, 2.33129960e+07, 1.87662880e+07,\n",
       "        1.72044280e+07, 2.96504050e+06, 6.91231200e+06, 2.04620200e+07,\n",
       "        3.15833420e+07, 3.49488120e+07, 1.29566630e+07, 1.50678650e+07,\n",
       "        8.54385100e+06, 3.68807325e+06, 8.64761438e+05, 1.00378762e+06,\n",
       "        6.91929688e+05, 1.22311138e+06, 1.72308425e+06, 3.42932725e+06,\n",
       "        6.95073700e+06, 1.91084420e+07, 2.67832580e+07, 2.76189300e+07,\n",
       "        1.67296640e+07, 1.40695350e+07, 1.08764940e+07, 1.16381600e+07,\n",
       "        2.80675840e+07, 4.32402200e+07, 6.19742440e+07, 5.30161720e+07,\n",
       "        3.13082560e+07, 1.37746400e+07, 1.33434020e+07, 5.81052850e+06,\n",
       "        6.55004900e+06, 1.74013280e+07, 3.32747100e+07, 5.69619400e+07,\n",
       "        2.68872180e+07, 1.03172150e+07, 9.31189100e+06, 1.39649680e+07,\n",
       "        6.05031450e+06, 2.78941075e+06, 4.75877250e+06, 5.65713050e+06,\n",
       "        1.33471670e+07, 7.53747950e+06, 9.49399100e+06, 1.44893270e+07,\n",
       "        3.34521880e+07, 4.94731520e+07, 6.17849640e+07], dtype=float32),\n",
       " 'rmse': array([ 364.65927 ,  212.91466 ,  221.87813 ,  222.10966 ,  302.15564 ,\n",
       "         377.78198 ,  355.72418 ,  355.4676  ,  463.2875  ,  556.7814  ,\n",
       "         711.35724 ,  641.9465  ,  598.1841  ,  639.5475  ,  433.67688 ,\n",
       "         250.79578 ,  321.88043 ,  468.3975  ,  469.56528 ,  490.91898 ,\n",
       "         255.28519 ,  179.89516 ,  134.9797  ,  197.04865 ,  186.57486 ,\n",
       "         239.50426 ,  289.2698  ,  254.46231 ,  217.21423 ,   68.07926 ,\n",
       "         166.32259 ,  219.22876 ,  203.80006 ,  272.9643  ,  208.01599 ,\n",
       "         259.53357 ,  287.03024 ,  262.7863  ,  289.71524 ,  407.95612 ,\n",
       "         631.09375 ,  334.944   ,  233.34274 ,  262.80557 ,  116.91079 ,\n",
       "         222.46692 ,  183.71594 ,  195.1183  ,  131.1746  ,  190.73999 ,\n",
       "         153.82826 ,  145.40547 ,  132.8264  ,  229.42395 ,  478.95758 ,\n",
       "         630.07086 ,  791.9205  ,  773.6786  ,  736.4265  ,  709.7981  ,\n",
       "         613.4186  ,  494.90833 ,  495.05826 ,  609.0629  ,  730.0339  ,\n",
       "         716.063   ,  741.5208  ,  718.8251  ,  332.55878 ,  201.99426 ,\n",
       "         176.48634 ,  265.82352 ,  357.5797  ,  229.822   ,  163.43338 ,\n",
       "         274.9271  ,  359.49713 ,  618.86914 ,  793.4195  ,  932.5491  ,\n",
       "        1045.4583  ,  847.6133  ,  496.09113 ,  334.07043 ,  205.61662 ,\n",
       "         274.32288 ,  320.15543 ,  504.39075 ,  601.58594 ,  791.62604 ,\n",
       "         699.6019  ,  692.69037 ,  592.88043 ,  485.4219  ,  324.8142  ,\n",
       "         407.94266 ,  284.30484 ,  378.86142 ,  462.09604 ,  560.02563 ,\n",
       "         335.28006 ,  145.19162 ,  301.19482 ,  194.59772 ,  385.84985 ,\n",
       "         455.72763 ,  464.4214  ,  523.3934  ,  832.6824  ,  758.034   ,\n",
       "         651.51184 ,  224.6898  ,  223.50201 ,  439.93356 ,  441.1169  ,\n",
       "         588.7602  ,  438.4503  ,  442.5971  ,  522.6525  , 1246.7831  ,\n",
       "        1772.2015  , 2262.7805  , 2066.1646  , 2164.6726  , 2197.2239  ,\n",
       "        2403.4937  , 1146.5299  ,  618.5626  ,  516.6088  ,  537.4421  ,\n",
       "         703.5393  ,  606.4641  ,  664.73035 ,  465.07843 ,  435.06793 ,\n",
       "         410.649   ,  519.18964 ,  430.83932 ,  229.0282  ,  338.91562 ,\n",
       "         357.03333 ,  413.46063 ,  402.63864 ,  804.3839  ,  861.50195 ,\n",
       "         617.39075 ,  528.1078  ,  300.88507 ,  460.13907 ,  245.53868 ,\n",
       "         355.48642 ,  350.9701  ,  272.31494 ,  400.73502 ,  309.54773 ,\n",
       "         213.78088 ,  322.7584  ,  327.85455 ,  385.68243 ,  301.9886  ,\n",
       "         468.20752 ,  367.87302 ,  329.639   ,  348.75458 ,  381.91644 ,\n",
       "         566.1989  ,  722.31384 ,  972.4812  ,  859.18524 ,  961.51904 ,\n",
       "        1167.3899  , 1180.7101  , 1225.2631  , 1252.0065  ,  717.93896 ,\n",
       "         553.49384 ,  651.0748  ,  605.14166 ,  596.0156  ,  541.87054 ,\n",
       "         590.69006 ,  481.9067  ,  626.811   ,  856.07996 ,  765.2658  ,\n",
       "         383.00842 ,  788.61316 ,  974.1733  ,  595.10486 ,  170.13011 ,\n",
       "         247.88556 ,  267.0632  ,  317.4038  ,  310.03098 ,  476.99188 ,\n",
       "         423.23645 ,  227.93289 ,  324.46722 ,  371.72025 ,  484.98593 ,\n",
       "         808.3881  , 1046.9581  ,  962.1963  ,  716.27606 ,  582.9191  ,\n",
       "         329.78912 ,  437.19427 ,  184.52173 ,  142.46437 ,  159.31468 ,\n",
       "         244.33606 ,  250.89236 ,  261.04236 ,  266.85797 ,  164.89713 ,\n",
       "         249.79317 ,  336.56442 ,  203.06735 ,  222.76129 ,  130.55298 ,\n",
       "         141.07422 ,  127.63013 ,  228.62964 ,  253.35632 ,  266.20316 ,\n",
       "         250.97758 ,  382.20856 ,  283.9574  ,  150.02678 ,  364.95837 ,\n",
       "         142.21732 ,  149.22826 ,  209.11674 ,  249.94763 ,  257.8487  ,\n",
       "         230.77707 ,  208.95638 ,  223.83475 ,  311.7443  ,  388.87482 ,\n",
       "         295.2183  ,  398.16245 ,  220.67616 ,  209.22128 ,   76.90719 ,\n",
       "         128.14452 ,  103.62919 ,  181.06036 ,  141.48987 ,  110.582695,\n",
       "         106.19482 ,  244.87941 ,  374.68204 ,  428.82938 ,  500.0472  ,\n",
       "         564.6548  ,  986.41223 , 1140.946   , 1270.8883  , 1321.9358  ,\n",
       "        1491.8083  , 1645.8196  , 1559.5294  ,  788.3506  ,  467.4345  ,\n",
       "         355.35727 ,  357.2779  ,  423.74405 ,  275.60846 ,  322.689   ,\n",
       "         344.82733 ,  486.37518 ,  206.50978 ,  132.80511 ,  179.41418 ,\n",
       "         188.88667 ,  238.35521 ,  336.62704 ,  536.4447  ,  539.3207  ,\n",
       "         451.3802  ,  326.28864 ,  319.28622 ,  279.0424  ,  201.9608  ,\n",
       "         366.2696  ,  233.32466 ,  215.47026 ,  234.65674 ,  165.86568 ,\n",
       "         216.92178 ,  186.30988 ,  368.91333 ,  517.96545 ,  530.8194  ,\n",
       "         517.77185 ,  659.9844  ,  766.86694 ,  944.42773 , 1290.5076  ,\n",
       "        1132.2341  ,  643.489   ,  340.34604 ,  403.10352 ,  504.00977 ,\n",
       "         439.54703 ,  617.08813 ,  706.0581  ,  751.67004 ,  762.61487 ,\n",
       "         750.8386  ,  708.249   ,  540.66504 ,  270.79688 ,  226.3026  ,\n",
       "         272.89108 ,  222.25581 ,  346.61563 ,  263.8503  ,  325.3896  ,\n",
       "         405.42523 ,  578.0443  ,  397.63004 ,  209.16727 ,  139.24634 ,\n",
       "         130.17451 ,  114.0495  ,  150.71114 ,  172.53291 ,  200.92209 ,\n",
       "         357.6502  ,  522.2042  ,  620.75287 ,  739.63184 ,  862.3865  ,\n",
       "         948.81824 ,  867.51685 ,  756.6359  ,  411.96014 ,  271.28354 ,\n",
       "         170.40625 ,  257.01346 ,  713.59937 , 1011.64075 , 1190.1199  ,\n",
       "        1465.6012  , 1568.1964  , 1507.5211  , 1500.6069  ,  741.6935  ,\n",
       "         384.6354  ,  418.57352 ,  506.23715 ,  583.6655  ,  589.76215 ,\n",
       "         275.68945 ,  417.4245  ,  878.15546 , 1164.1948  , 1187.076   ,\n",
       "        1290.2721  , 1565.5393  , 1564.2573  , 1519.0435  ,  775.52673 ,\n",
       "         601.63367 ,  753.2283  ,  588.5721  ,  943.4929  , 1307.1846  ,\n",
       "        1346.8334  , 1231.8116  , 1491.2781  , 1801.247   , 2302.0964  ,\n",
       "        1947.3289  , 1420.4144  ,  939.40393 ,  834.728   ,  743.6292  ,\n",
       "         872.9384  , 1013.31024 , 1004.29645 , 1115.8157  , 1007.9729  ,\n",
       "        1135.9531  , 1826.7207  , 1827.5051  , 1728.1785  ,  600.2497  ,\n",
       "         366.90646 ,  346.61804 ,  529.4432  ,  438.60754 ,  355.71494 ,\n",
       "         353.35678 ,  410.83038 ,  553.2696  , 1281.8651  , 2395.874   ,\n",
       "        3384.6948  , 3721.991   , 3986.5222  , 4057.962   , 4028.7026  ,\n",
       "        2843.9875  , 1427.6704  ,  980.83496 , 1182.8615  , 1583.6655  ,\n",
       "        2033.7014  , 2460.7905  , 3437.6665  , 3857.6233  , 3765.3142  ,\n",
       "        3515.1418  , 3777.027   , 3874.4233  , 4534.1543  , 4582.815   ,\n",
       "        5574.092   , 6555.5884  , 5895.9414  , 5094.026   , 5572.6445  ,\n",
       "        4308.1167  , 3133.3982  , 2796.5498  , 4316.2593  , 5409.659   ,\n",
       "        4721.238   , 1441.8267  , 1716.8164  ,  997.79626 , 2684.252   ,\n",
       "        3228.848   , 3389.1206  , 3413.5305  , 2966.4915  , 3428.576   ,\n",
       "        3407.6414  ,  769.67084 , 1515.8118  , 1929.1224  , 1928.8177  ,\n",
       "        1968.7001  , 3120.5474  , 4575.012   , 4467.791   , 3537.4297  ,\n",
       "        3758.406   , 4355.4355  , 6405.324   , 7313.397   , 6565.3965  ,\n",
       "        6674.404   , 7651.489   , 7292.5454  , 8949.843   , 5707.234   ,\n",
       "        2223.4614  , 2823.5032  , 2564.761   , 3625.5977  , 3895.579   ,\n",
       "        4780.218   , 4232.025   , 4801.4976  , 3266.886   , 3398.6816  ,\n",
       "        5986.054   , 7109.9346  , 9525.026   , 8427.353   , 4401.097   ,\n",
       "        2905.021   , 2227.7134  , 2158.3516  , 3502.1848  , 5123.9067  ,\n",
       "        4238.736   , 4204.0337  , 4854.525   , 5943.991   , 7155.9077  ,\n",
       "        8234.133   , 8098.2075  , 7043.244   , 5634.1177  , 3637.0513  ,\n",
       "        2587.2422  , 2676.857   , 1214.183   , 2038.9467  , 2159.8608  ,\n",
       "        2058.2778  , 2849.0776  , 3885.229   , 4828.3535  , 4332.0073  ,\n",
       "        4147.8223  , 1721.9293  , 2629.1274  , 4523.496   , 5619.9062  ,\n",
       "        5911.752   , 3599.5366  , 3881.7349  , 2922.9863  , 1920.4358  ,\n",
       "         929.92554 , 1001.892   ,  831.8231  , 1105.9437  , 1312.663   ,\n",
       "        1851.8442  , 2636.425   , 4371.3203  , 5175.2544  , 5255.3716  ,\n",
       "        4090.191   , 3750.938   , 3297.953   , 3411.4749  , 5297.8853  ,\n",
       "        6575.73    , 7872.3726  , 7281.22    , 5595.3784  , 3711.4202  ,\n",
       "        3652.862   , 2410.5037  , 2559.3064  , 4171.4893  , 5768.4233  ,\n",
       "        7547.313   , 5185.2886  , 3212.0422  , 3051.539   , 3736.973   ,\n",
       "        2459.7388  , 1670.153   , 2181.461   , 2378.4724  , 3653.3774  ,\n",
       "        2745.447   , 3081.232   , 3806.4849  , 5783.7866  , 7033.7153  ,\n",
       "        7860.3413  ], dtype=float32),\n",
       " 'mape': array([ 3.8302102 ,  1.6260413 ,  1.6792777 ,  2.2100174 ,  2.732607  ,\n",
       "         3.8168728 ,  3.7187715 ,  3.0831406 ,  4.53773   ,  5.8918495 ,\n",
       "         8.060499  ,  7.417284  ,  7.645844  ,  8.493811  ,  5.6521826 ,\n",
       "         2.721408  ,  3.4284759 ,  5.169768  ,  5.6917567 ,  6.1115313 ,\n",
       "         2.9927616 ,  1.7313513 ,  1.5738268 ,  2.4049668 ,  2.0118778 ,\n",
       "         2.3707776 ,  2.9700768 ,  3.0483723 ,  2.5010147 ,  0.72318774,\n",
       "         1.9417247 ,  2.8400872 ,  1.7503722 ,  2.3997438 ,  2.285893  ,\n",
       "         2.7449977 ,  3.2210252 ,  3.1358654 ,  3.438662  ,  5.4864902 ,\n",
       "         8.503507  ,  4.4384937 ,  2.960838  ,  3.5604193 ,  1.334325  ,\n",
       "         2.5475008 ,  2.1057503 ,  1.9020269 ,  1.3854624 ,  2.5312748 ,\n",
       "         1.7072943 ,  1.5792552 ,  1.5937401 ,  2.3375793 ,  5.051048  ,\n",
       "         6.6038857 ,  9.287544  ,  8.962629  ,  8.458258  ,  8.617433  ,\n",
       "         7.3932467 ,  4.758964  ,  4.346634  ,  5.6907387 ,  7.1294584 ,\n",
       "         7.2388663 ,  7.754461  ,  8.038892  ,  3.4484174 ,  1.9754523 ,\n",
       "         1.4864705 ,  2.6456225 ,  3.8532217 ,  2.1234314 ,  1.6301271 ,\n",
       "         2.8844075 ,  3.355088  ,  5.245343  ,  7.2336116 ,  9.341606  ,\n",
       "        10.951548  ,  8.94336   ,  5.1551523 ,  3.3070405 ,  1.6912897 ,\n",
       "         2.2184193 ,  2.7018373 ,  4.319398  ,  5.314131  ,  7.721693  ,\n",
       "         6.400536  ,  6.3291497 ,  5.6127214 ,  4.1613603 ,  2.7551868 ,\n",
       "         3.6034358 ,  2.5742466 ,  3.0674665 ,  4.174134  ,  5.468299  ,\n",
       "         3.150693  ,  1.2419901 ,  2.1091828 ,  1.620498  ,  2.6639462 ,\n",
       "         4.0076056 ,  4.4448156 ,  5.1111374 ,  8.52568   ,  8.176922  ,\n",
       "         7.2337933 ,  2.26969   ,  2.2773032 ,  4.1739683 ,  4.296966  ,\n",
       "         6.1972375 ,  4.3235545 ,  4.730432  ,  6.1720643 , 12.536571  ,\n",
       "        21.586395  , 31.83997   , 30.11829   , 34.259842  , 37.766094  ,\n",
       "        44.48604   , 20.479874  , 10.529297  ,  7.3982215 ,  8.057747  ,\n",
       "         9.1603565 ,  8.11152   ,  9.515907  ,  6.0923915 ,  5.8542976 ,\n",
       "         5.6150002 ,  7.189083  ,  5.8413835 ,  2.8253388 ,  3.8264296 ,\n",
       "         3.8424454 ,  5.1460786 ,  5.4168205 , 11.074562  , 11.948182  ,\n",
       "         8.121549  ,  7.1176076 ,  3.5454626 ,  5.501995  ,  2.9458592 ,\n",
       "         4.4739366 ,  4.5984945 ,  3.4057384 ,  5.321752  ,  3.722165  ,\n",
       "         2.7749841 ,  3.684959  ,  3.9490838 ,  4.459981  ,  3.771915  ,\n",
       "         6.1517854 ,  4.136953  ,  3.5856597 ,  3.8877065 ,  4.809037  ,\n",
       "         6.625136  ,  8.960866  , 10.893724  ,  8.145846  ,  8.944579  ,\n",
       "        11.375233  , 11.848506  , 13.050847  , 14.056449  ,  7.5262346 ,\n",
       "         4.5981526 ,  4.9929423 ,  4.6274543 ,  5.0756097 ,  4.6624537 ,\n",
       "         5.2057924 ,  4.776699  ,  5.565504  ,  8.534563  ,  7.3316493 ,\n",
       "         3.7632818 ,  7.6375165 ,  9.896738  ,  6.012249  ,  1.4006569 ,\n",
       "         2.4070096 ,  2.4133515 ,  2.8958728 ,  2.8717394 ,  4.759576  ,\n",
       "         4.4975834 ,  1.9716533 ,  2.2175844 ,  3.2181566 ,  4.387686  ,\n",
       "         7.1548038 ,  9.90534   ,  9.415657  ,  6.7265263 ,  4.710581  ,\n",
       "         2.6862226 ,  3.544114  ,  1.6255485 ,  1.1428337 ,  1.2871029 ,\n",
       "         1.8355813 ,  2.2414963 ,  2.3171382 ,  2.627377  ,  1.4670725 ,\n",
       "         2.181188  ,  3.27194   ,  1.6971335 ,  2.0954912 ,  1.0973366 ,\n",
       "         1.3784113 ,  1.0921556 ,  1.8129226 ,  1.6745018 ,  2.0403092 ,\n",
       "         2.2839084 ,  3.803002  ,  2.35459   ,  1.2704766 ,  3.8886375 ,\n",
       "         1.283767  ,  1.4216387 ,  1.7216756 ,  2.5895846 ,  2.4675264 ,\n",
       "         2.3989825 ,  1.9483585 ,  1.8944386 ,  2.4911027 ,  3.669848  ,\n",
       "         2.9737375 ,  4.1505446 ,  2.2241418 ,  1.942167  ,  0.6735044 ,\n",
       "         1.2370468 ,  1.0063663 ,  1.7152045 ,  1.4079851 ,  0.97248936,\n",
       "         0.952469  ,  2.0668964 ,  3.3718948 ,  3.8376    ,  4.6222286 ,\n",
       "         5.2937536 ,  8.013315  ,  8.674658  ,  9.363965  , 10.055676  ,\n",
       "        12.066665  , 13.827172  , 13.523963  ,  6.523236  ,  3.7145078 ,\n",
       "         2.2531538 ,  2.3931355 ,  2.997402  ,  1.9872708 ,  2.3499212 ,\n",
       "         2.792588  ,  3.7508302 ,  1.5522825 ,  0.913041  ,  1.1049517 ,\n",
       "         1.3687767 ,  1.7594748 ,  2.3578303 ,  3.8940017 ,  3.7449746 ,\n",
       "         3.315213  ,  2.031762  ,  2.1173747 ,  1.5026106 ,  1.3994181 ,\n",
       "         2.9190009 ,  1.6119632 ,  1.1713768 ,  1.603518  ,  1.0784501 ,\n",
       "         1.3957283 ,  1.2595298 ,  2.768178  ,  3.36672   ,  4.153279  ,\n",
       "         4.2088323 ,  5.2525563 ,  6.141038  ,  8.090429  , 11.748887  ,\n",
       "        10.804903  ,  5.9392715 ,  3.032288  ,  3.3191006 ,  4.3772016 ,\n",
       "         3.8299348 ,  5.3854456 ,  5.8274593 ,  6.256864  ,  6.1733594 ,\n",
       "         6.331946  ,  6.2677636 ,  4.635602  ,  2.1085725 ,  1.4942224 ,\n",
       "         1.90372   ,  1.8609632 ,  2.538682  ,  2.149659  ,  2.7560136 ,\n",
       "         3.4019363 ,  5.1988745 ,  3.5516374 ,  1.7230746 ,  1.1737336 ,\n",
       "         1.0529732 ,  0.71709484,  1.2837375 ,  1.077748  ,  1.5720228 ,\n",
       "         2.729327  ,  3.9943125 ,  4.4703693 ,  5.3275366 ,  6.7909403 ,\n",
       "         7.922525  ,  7.3383293 ,  6.422006  ,  3.374375  ,  2.2674053 ,\n",
       "         1.4058373 ,  1.4975439 ,  3.6977894 ,  5.423286  ,  7.207624  ,\n",
       "        10.001893  , 11.241217  , 11.097676  , 11.2539015 ,  5.1613364 ,\n",
       "         2.197226  ,  2.5577183 ,  2.9230113 ,  3.7200053 ,  4.0616245 ,\n",
       "         1.7106401 ,  2.6842892 ,  4.525332  ,  5.619616  ,  5.865276  ,\n",
       "         6.910023  ,  9.4536915 ,  9.790529  ,  9.695314  ,  3.9858944 ,\n",
       "         3.0491624 ,  3.94311   ,  3.0284626 ,  5.334683  ,  7.018317  ,\n",
       "         6.652186  ,  5.2136064 ,  7.1491404 ,  8.800883  , 12.04405   ,\n",
       "        10.330957  ,  7.28695   ,  4.6512103 ,  4.3003364 ,  3.0321016 ,\n",
       "         3.7319076 ,  4.5355363 ,  4.6425776 ,  4.97256   ,  4.936648  ,\n",
       "         5.2316494 ,  8.630182  ,  9.289408  ,  8.873355  ,  2.7386086 ,\n",
       "         1.6589487 ,  1.4690177 ,  2.4395573 ,  1.9981623 ,  1.7067475 ,\n",
       "         1.6353011 ,  1.9532565 ,  2.5983741 ,  5.287504  ,  8.79849   ,\n",
       "        13.664298  , 14.157198  , 15.34356   , 16.270088  , 17.091442  ,\n",
       "        12.012211  ,  5.86793   ,  3.432069  ,  3.244082  ,  4.8156867 ,\n",
       "         5.986709  ,  7.634862  , 11.450418  , 13.098013  , 12.629496  ,\n",
       "         9.7460375 ,  9.691974  , 10.493076  , 12.642117  , 11.3767185 ,\n",
       "        12.643928  , 15.025573  , 12.33728   , 11.7967825 , 12.902258  ,\n",
       "         9.291935  ,  7.3208547 ,  6.121036  , 10.414292  , 14.169303  ,\n",
       "        12.710725  ,  3.5556536 ,  3.9063253 ,  2.0870705 ,  6.653048  ,\n",
       "         8.014642  ,  8.055825  ,  8.24563   ,  8.464341  ,  9.82729   ,\n",
       "        10.238359  ,  1.958473  ,  3.414419  ,  4.616517  ,  4.5355124 ,\n",
       "         5.201861  ,  8.246789  , 12.378081  , 11.2631645 ,  8.146129  ,\n",
       "         8.5332985 , 10.115471  , 14.353991  , 14.597501  , 11.967044  ,\n",
       "        12.21866   , 14.467194  , 14.328202  , 18.820099  , 11.566455  ,\n",
       "         4.0793514 ,  4.9334426 ,  3.6819663 ,  4.9323635 ,  5.5898438 ,\n",
       "         7.09076   ,  6.6219306 ,  8.021086  ,  5.499829  ,  6.185165  ,\n",
       "        10.26299   , 13.205646  , 19.295744  , 17.647896  ,  8.472149  ,\n",
       "         4.600876  ,  3.8967729 ,  4.022396  ,  6.5195947 , 10.093179  ,\n",
       "         7.7887588 ,  7.3223433 ,  6.7033744 ,  9.035178  , 11.552904  ,\n",
       "        13.084783  , 12.629993  , 11.395802  ,  9.396375  ,  5.4023857 ,\n",
       "         3.556028  ,  3.9198782 ,  1.7547872 ,  2.9733593 ,  2.462612  ,\n",
       "         3.107704  ,  3.9506376 ,  5.6207724 ,  7.9131    ,  7.4181437 ,\n",
       "         7.1532025 ,  2.8690531 ,  4.192518  ,  6.776819  ,  9.365172  ,\n",
       "         9.794409  ,  5.6741824 ,  6.5585217 ,  4.844654  ,  3.039029  ,\n",
       "         1.4118648 ,  1.4266028 ,  1.0831645 ,  1.6648444 ,  1.6621567 ,\n",
       "         2.439117  ,  3.5792847 ,  6.2816987 ,  7.410524  ,  7.7571607 ,\n",
       "         5.9890738 ,  5.6638546 ,  5.2165337 ,  4.970926  ,  7.748751  ,\n",
       "        10.597558  , 13.421948  , 12.899962  ,  9.488534  ,  6.6762276 ,\n",
       "         6.181783  ,  4.117809  ,  4.3568244 ,  7.102325  ,  9.417556  ,\n",
       "        13.188519  ,  8.805025  ,  4.7284627 ,  4.7006845 ,  6.2640705 ,\n",
       "         4.022393  ,  2.2936983 ,  3.3979318 ,  3.2213542 ,  5.8534904 ,\n",
       "         4.213896  ,  4.7401896 ,  5.598159  ,  9.152098  , 12.13807   ,\n",
       "        14.656806  ], dtype=float32),\n",
       " 'mase': 2.3449541974206416}"
      ]
     },
     "execution_count": 67,
     "metadata": {},
     "output_type": "execute_result"
    }
   ],
   "source": [
    "model_3_results=make_results(tf.squeeze(label_tests),model_3_preds.numpy())\n",
    "model_3_results"
   ]
  },
  {
   "cell_type": "code",
   "execution_count": 68,
   "id": "2ec0c972",
   "metadata": {},
   "outputs": [],
   "source": [
    "def evaluate_preds(y_true, y_pred):\n",
    "    # Make sure float32 (for metric calculations)\n",
    "    y_true = tf.cast(y_true, dtype=tf.float32)\n",
    "    y_pred = tf.cast(y_pred, dtype=tf.float32)\n",
    "\n",
    "    # Calculate various metrics\n",
    "    mae = tf.keras.metrics.mean_absolute_error(y_true, y_pred)\n",
    "    mse = tf.keras.metrics.mean_squared_error(y_true, y_pred)\n",
    "    rmse = tf.sqrt(mse)\n",
    "    mape = tf.keras.metrics.mean_absolute_percentage_error(y_true, y_pred)\n",
    "    mase = mean_absolute_squared_error(y_true, y_pred)\n",
    "\n",
    "    # Account for different sized metrics (for longer horizons, reduce to single number)\n",
    "    if mae.ndim > 0:\n",
    "        # if mae isn't already a scalar, reduce it to one by aggregating tensors to mean\n",
    "        mae = tf.reduce_mean(mae)\n",
    "        mse = tf.reduce_mean(mse)\n",
    "        rmse = tf.reduce_mean(rmse)\n",
    "        mape = tf.reduce_mean(mape)\n",
    "        mase = tf.reduce_mean(mase)\n",
    "\n",
    "    return {\"mae\": mae.numpy(),\n",
    "              \"mse\": mse.numpy(),\n",
    "              \"rmse\": rmse.numpy(),\n",
    "              \"mape\": mape.numpy(),\n",
    "              \"mase\": mase.numpy()}"
   ]
  },
  {
   "cell_type": "code",
   "execution_count": 69,
   "id": "30fba180",
   "metadata": {},
   "outputs": [
    {
     "data": {
      "text/plain": [
       "{'mae': 1317.8019,\n",
       " 'mse': 5712459.5,\n",
       " 'rmse': 1499.3314,\n",
       " 'mape': 5.803435,\n",
       " 'mase': 2.344954}"
      ]
     },
     "execution_count": 69,
     "metadata": {},
     "output_type": "execute_result"
    }
   ],
   "source": [
    "    # Get model_3 results aggregated to single values\n",
    "model_3_results = evaluate_preds(y_true=tf.squeeze(label_tests),\n",
    "                                 y_pred=model_3_preds)\n",
    "model_3_results"
   ]
  },
  {
   "cell_type": "markdown",
   "id": "437b75be",
   "metadata": {},
   "source": [
    "## Which of our models is performing best so far?"
   ]
  },
  {
   "cell_type": "code",
   "execution_count": 70,
   "id": "91acb42f",
   "metadata": {},
   "outputs": [
    {
     "data": {
      "image/png": "[encoded data removed]",
      "text/plain": [
       "<Figure size 720x504 with 1 Axes>"
      ]
     },
     "metadata": {
      "needs_background": "light"
     },
     "output_type": "display_data"
    }
   ],
   "source": [
    "pd.DataFrame({\"naive\": naive_results[\"mae\"], \n",
    "              \"horizon_1_window_7\": model_1_results[\"mae\"], \n",
    "              \"horizon_1_window_30\": model_2_results[\"mae\"], \n",
    "              \"horizon_7_window_30\": model_3_results[\"mae\"]}, index=[\"mae\"]).plot(figsize=(10, 7), kind=\"bar\");"
   ]
  },
  {
   "cell_type": "markdown",
   "id": "ba40c11b",
   "metadata": {},
   "source": [
    "## Model 4: Conv1D"
   ]
  },
  {
   "cell_type": "markdown",
   "id": "3304c0ec",
   "metadata": {},
   "source": [
    "Onto the next modelling experiment!\n",
    "\n",
    "This time, we'll be using a Conv1D model. Because as we saw in the sequence modelling notebook, Conv1D models can be used for seq2seq (sequence to sequence) problems.\n",
    "\n"
   ]
  },
  {
   "cell_type": "code",
   "execution_count": 71,
   "id": "02dc013b",
   "metadata": {},
   "outputs": [],
   "source": [
    "HORIZON = 1 # predict next day\n",
    "WINDOW_SIZE = 7 # use previous week worth of data"
   ]
  },
  {
   "cell_type": "code",
   "execution_count": 72,
   "id": "bfa0ff6f",
   "metadata": {},
   "outputs": [
    {
     "data": {
      "text/plain": [
       "(2780, 2780)"
      ]
     },
     "execution_count": 72,
     "metadata": {},
     "output_type": "execute_result"
    }
   ],
   "source": [
    "# Create windowed dataset\n",
    "full_windows, full_labels = make_windows(prices, window_size=WINDOW_SIZE, horizon=HORIZON)\n",
    "len(full_windows), len(full_labels)"
   ]
  },
  {
   "cell_type": "code",
   "execution_count": 73,
   "id": "8134e1b3",
   "metadata": {},
   "outputs": [
    {
     "data": {
      "text/plain": [
       "(2224, 556, 2224, 556)"
      ]
     },
     "execution_count": 73,
     "metadata": {},
     "output_type": "execute_result"
    }
   ],
   "source": [
    "# Create train/test splits\n",
    "window_trains, window_tests, label_trains, label_tests = make_train_test_split(full_windows, full_labels)\n",
    "len(window_trains), len(window_tests), len(label_trains), len(label_tests)"
   ]
  },
  {
   "cell_type": "code",
   "execution_count": 74,
   "id": "3120316b",
   "metadata": {},
   "outputs": [
    {
     "name": "stdout",
     "output_type": "stream",
     "text": [
      "INFO:tensorflow:Assets written to: model_experiments\\model_4_conv1D\\assets\n",
      "INFO:tensorflow:Assets written to: model_experiments\\model_4_conv1D\\assets\n",
      "INFO:tensorflow:Assets written to: model_experiments\\model_4_conv1D\\assets\n",
      "INFO:tensorflow:Assets written to: model_experiments\\model_4_conv1D\\assets\n",
      "INFO:tensorflow:Assets written to: model_experiments\\model_4_conv1D\\assets\n",
      "INFO:tensorflow:Assets written to: model_experiments\\model_4_conv1D\\assets\n",
      "INFO:tensorflow:Assets written to: model_experiments\\model_4_conv1D\\assets\n",
      "INFO:tensorflow:Assets written to: model_experiments\\model_4_conv1D\\assets\n",
      "INFO:tensorflow:Assets written to: model_experiments\\model_4_conv1D\\assets\n",
      "INFO:tensorflow:Assets written to: model_experiments\\model_4_conv1D\\assets\n",
      "INFO:tensorflow:Assets written to: model_experiments\\model_4_conv1D\\assets\n",
      "INFO:tensorflow:Assets written to: model_experiments\\model_4_conv1D\\assets\n",
      "INFO:tensorflow:Assets written to: model_experiments\\model_4_conv1D\\assets\n",
      "INFO:tensorflow:Assets written to: model_experiments\\model_4_conv1D\\assets\n",
      "INFO:tensorflow:Assets written to: model_experiments\\model_4_conv1D\\assets\n",
      "INFO:tensorflow:Assets written to: model_experiments\\model_4_conv1D\\assets\n",
      "INFO:tensorflow:Assets written to: model_experiments\\model_4_conv1D\\assets\n",
      "INFO:tensorflow:Assets written to: model_experiments\\model_4_conv1D\\assets\n",
      "INFO:tensorflow:Assets written to: model_experiments\\model_4_conv1D\\assets\n",
      "INFO:tensorflow:Assets written to: model_experiments\\model_4_conv1D\\assets\n",
      "INFO:tensorflow:Assets written to: model_experiments\\model_4_conv1D\\assets\n",
      "INFO:tensorflow:Assets written to: model_experiments\\model_4_conv1D\\assets\n",
      "INFO:tensorflow:Assets written to: model_experiments\\model_4_conv1D\\assets\n",
      "INFO:tensorflow:Assets written to: model_experiments\\model_4_conv1D\\assets\n",
      "INFO:tensorflow:Assets written to: model_experiments\\model_4_conv1D\\assets\n",
      "INFO:tensorflow:Assets written to: model_experiments\\model_4_conv1D\\assets\n",
      "INFO:tensorflow:Assets written to: model_experiments\\model_4_conv1D\\assets\n",
      "INFO:tensorflow:Assets written to: model_experiments\\model_4_conv1D\\assets\n",
      "INFO:tensorflow:Assets written to: model_experiments\\model_4_conv1D\\assets\n",
      "INFO:tensorflow:Assets written to: model_experiments\\model_4_conv1D\\assets\n",
      "INFO:tensorflow:Assets written to: model_experiments\\model_4_conv1D\\assets\n",
      "INFO:tensorflow:Assets written to: model_experiments\\model_4_conv1D\\assets\n",
      "INFO:tensorflow:Assets written to: model_experiments\\model_4_conv1D\\assets\n",
      "INFO:tensorflow:Assets written to: model_experiments\\model_4_conv1D\\assets\n",
      "INFO:tensorflow:Assets written to: model_experiments\\model_4_conv1D\\assets\n",
      "INFO:tensorflow:Assets written to: model_experiments\\model_4_conv1D\\assets\n",
      "INFO:tensorflow:Assets written to: model_experiments\\model_4_conv1D\\assets\n",
      "INFO:tensorflow:Assets written to: model_experiments\\model_4_conv1D\\assets\n",
      "INFO:tensorflow:Assets written to: model_experiments\\model_4_conv1D\\assets\n",
      "INFO:tensorflow:Assets written to: model_experiments\\model_4_conv1D\\assets\n"
     ]
    },
    {
     "data": {
      "text/plain": [
       "<keras.callbacks.History at 0x22d394e6d90>"
      ]
     },
     "execution_count": 74,
     "metadata": {},
     "output_type": "execute_result"
    }
   ],
   "source": [
    "tf.random.set_seed(42)\n",
    "\n",
    "# Create model\n",
    "model_4 = tf.keras.Sequential([\n",
    "  # Create Lambda layer to reshape inputs, without this layer, the model will error\n",
    "  tf.keras.layers.Lambda(lambda x: tf.expand_dims(x, axis=1)), # resize the inputs to adjust for window size / Conv1D 3D input requirements\n",
    "  tf.keras.layers.Conv1D(filters=128, kernel_size=5, padding=\"causal\", activation=\"relu\"),\n",
    "  tf.keras.layers.Dense(HORIZON)\n",
    "], name=\"model_4_conv1D\")\n",
    "\n",
    "# Compile model\n",
    "model_4.compile(loss=\"mae\",\n",
    "                optimizer=tf.keras.optimizers.Adam())\n",
    "\n",
    "# Fit model\n",
    "model_4.fit(window_trains,\n",
    "            label_trains,\n",
    "            batch_size=128, \n",
    "            epochs=100,\n",
    "            verbose=0,\n",
    "            validation_data=(window_tests, label_tests),\n",
    "            callbacks=[create_model_checkpoint(model_name=model_4.name)])\n"
   ]
  },
  {
   "cell_type": "code",
   "execution_count": 75,
   "id": "c3834947",
   "metadata": {},
   "outputs": [],
   "source": [
    "# Make predictions\n",
    "model_4_preds = make_preds(model_4, window_tests)"
   ]
  },
  {
   "cell_type": "code",
   "execution_count": 76,
   "id": "7ba77937",
   "metadata": {},
   "outputs": [
    {
     "data": {
      "text/plain": [
       "{'mae': 624.1892,\n",
       " 'mse': 1271775.2,\n",
       " 'rmse': 1127.7301,\n",
       " 'mape': 2.83045,\n",
       " 'mase': 1.0965276}"
      ]
     },
     "execution_count": 76,
     "metadata": {},
     "output_type": "execute_result"
    }
   ],
   "source": [
    "# Evaluate predictions\n",
    "model_4_results = evaluate_preds(y_true=tf.squeeze(label_tests),\n",
    "                                 y_pred=model_4_preds)\n",
    "model_4_results"
   ]
  },
  {
   "cell_type": "code",
   "execution_count": 77,
   "id": "d41d68fa",
   "metadata": {},
   "outputs": [
    {
     "data": {
      "text/plain": [
       "(2224, 7)"
      ]
     },
     "execution_count": 77,
     "metadata": {},
     "output_type": "execute_result"
    }
   ],
   "source": [
    "window_trains.shape"
   ]
  },
  {
   "cell_type": "code",
   "execution_count": null,
   "id": "53f6b0dc",
   "metadata": {},
   "outputs": [],
   "source": []
  },
  {
   "cell_type": "code",
   "execution_count": 78,
   "id": "1e65f31c",
   "metadata": {},
   "outputs": [
    {
     "name": "stdout",
     "output_type": "stream",
     "text": [
      "INFO:tensorflow:Assets written to: model_experiments\\model_5_lstm\\assets\n"
     ]
    },
    {
     "name": "stderr",
     "output_type": "stream",
     "text": [
      "WARNING:absl:<keras.layers.recurrent.LSTMCell object at 0x0000022D3935D3A0> has the same name 'LSTMCell' as a built-in Keras object. Consider renaming <class 'keras.layers.recurrent.LSTMCell'> to avoid naming conflicts when loading with `tf.keras.models.load_model`. If renaming is not possible, pass the object in the `custom_objects` parameter of the load function.\n"
     ]
    },
    {
     "name": "stdout",
     "output_type": "stream",
     "text": [
      "INFO:tensorflow:Assets written to: model_experiments\\model_5_lstm\\assets\n"
     ]
    },
    {
     "name": "stderr",
     "output_type": "stream",
     "text": [
      "INFO:tensorflow:Assets written to: model_experiments\\model_5_lstm\\assets\n",
      "WARNING:absl:<keras.layers.recurrent.LSTMCell object at 0x0000022D3935D3A0> has the same name 'LSTMCell' as a built-in Keras object. Consider renaming <class 'keras.layers.recurrent.LSTMCell'> to avoid naming conflicts when loading with `tf.keras.models.load_model`. If renaming is not possible, pass the object in the `custom_objects` parameter of the load function.\n"
     ]
    },
    {
     "name": "stdout",
     "output_type": "stream",
     "text": [
      "INFO:tensorflow:Assets written to: model_experiments\\model_5_lstm\\assets\n"
     ]
    },
    {
     "name": "stderr",
     "output_type": "stream",
     "text": [
      "INFO:tensorflow:Assets written to: model_experiments\\model_5_lstm\\assets\n",
      "WARNING:absl:<keras.layers.recurrent.LSTMCell object at 0x0000022D3935D3A0> has the same name 'LSTMCell' as a built-in Keras object. Consider renaming <class 'keras.layers.recurrent.LSTMCell'> to avoid naming conflicts when loading with `tf.keras.models.load_model`. If renaming is not possible, pass the object in the `custom_objects` parameter of the load function.\n"
     ]
    },
    {
     "name": "stdout",
     "output_type": "stream",
     "text": [
      "INFO:tensorflow:Assets written to: model_experiments\\model_5_lstm\\assets\n"
     ]
    },
    {
     "name": "stderr",
     "output_type": "stream",
     "text": [
      "INFO:tensorflow:Assets written to: model_experiments\\model_5_lstm\\assets\n",
      "WARNING:absl:<keras.layers.recurrent.LSTMCell object at 0x0000022D3935D3A0> has the same name 'LSTMCell' as a built-in Keras object. Consider renaming <class 'keras.layers.recurrent.LSTMCell'> to avoid naming conflicts when loading with `tf.keras.models.load_model`. If renaming is not possible, pass the object in the `custom_objects` parameter of the load function.\n"
     ]
    },
    {
     "name": "stdout",
     "output_type": "stream",
     "text": [
      "INFO:tensorflow:Assets written to: model_experiments\\model_5_lstm\\assets\n"
     ]
    },
    {
     "name": "stderr",
     "output_type": "stream",
     "text": [
      "INFO:tensorflow:Assets written to: model_experiments\\model_5_lstm\\assets\n",
      "WARNING:absl:<keras.layers.recurrent.LSTMCell object at 0x0000022D3935D3A0> has the same name 'LSTMCell' as a built-in Keras object. Consider renaming <class 'keras.layers.recurrent.LSTMCell'> to avoid naming conflicts when loading with `tf.keras.models.load_model`. If renaming is not possible, pass the object in the `custom_objects` parameter of the load function.\n"
     ]
    },
    {
     "name": "stdout",
     "output_type": "stream",
     "text": [
      "INFO:tensorflow:Assets written to: model_experiments\\model_5_lstm\\assets\n"
     ]
    },
    {
     "name": "stderr",
     "output_type": "stream",
     "text": [
      "INFO:tensorflow:Assets written to: model_experiments\\model_5_lstm\\assets\n",
      "WARNING:absl:<keras.layers.recurrent.LSTMCell object at 0x0000022D3935D3A0> has the same name 'LSTMCell' as a built-in Keras object. Consider renaming <class 'keras.layers.recurrent.LSTMCell'> to avoid naming conflicts when loading with `tf.keras.models.load_model`. If renaming is not possible, pass the object in the `custom_objects` parameter of the load function.\n"
     ]
    },
    {
     "name": "stdout",
     "output_type": "stream",
     "text": [
      "INFO:tensorflow:Assets written to: model_experiments\\model_5_lstm\\assets\n"
     ]
    },
    {
     "name": "stderr",
     "output_type": "stream",
     "text": [
      "INFO:tensorflow:Assets written to: model_experiments\\model_5_lstm\\assets\n",
      "WARNING:absl:<keras.layers.recurrent.LSTMCell object at 0x0000022D3935D3A0> has the same name 'LSTMCell' as a built-in Keras object. Consider renaming <class 'keras.layers.recurrent.LSTMCell'> to avoid naming conflicts when loading with `tf.keras.models.load_model`. If renaming is not possible, pass the object in the `custom_objects` parameter of the load function.\n"
     ]
    },
    {
     "name": "stdout",
     "output_type": "stream",
     "text": [
      "INFO:tensorflow:Assets written to: model_experiments\\model_5_lstm\\assets\n"
     ]
    },
    {
     "name": "stderr",
     "output_type": "stream",
     "text": [
      "INFO:tensorflow:Assets written to: model_experiments\\model_5_lstm\\assets\n",
      "WARNING:absl:<keras.layers.recurrent.LSTMCell object at 0x0000022D3935D3A0> has the same name 'LSTMCell' as a built-in Keras object. Consider renaming <class 'keras.layers.recurrent.LSTMCell'> to avoid naming conflicts when loading with `tf.keras.models.load_model`. If renaming is not possible, pass the object in the `custom_objects` parameter of the load function.\n"
     ]
    },
    {
     "name": "stdout",
     "output_type": "stream",
     "text": [
      "INFO:tensorflow:Assets written to: model_experiments\\model_5_lstm\\assets\n"
     ]
    },
    {
     "name": "stderr",
     "output_type": "stream",
     "text": [
      "INFO:tensorflow:Assets written to: model_experiments\\model_5_lstm\\assets\n",
      "WARNING:absl:<keras.layers.recurrent.LSTMCell object at 0x0000022D3935D3A0> has the same name 'LSTMCell' as a built-in Keras object. Consider renaming <class 'keras.layers.recurrent.LSTMCell'> to avoid naming conflicts when loading with `tf.keras.models.load_model`. If renaming is not possible, pass the object in the `custom_objects` parameter of the load function.\n"
     ]
    },
    {
     "name": "stdout",
     "output_type": "stream",
     "text": [
      "INFO:tensorflow:Assets written to: model_experiments\\model_5_lstm\\assets\n"
     ]
    },
    {
     "name": "stderr",
     "output_type": "stream",
     "text": [
      "INFO:tensorflow:Assets written to: model_experiments\\model_5_lstm\\assets\n",
      "WARNING:absl:<keras.layers.recurrent.LSTMCell object at 0x0000022D3935D3A0> has the same name 'LSTMCell' as a built-in Keras object. Consider renaming <class 'keras.layers.recurrent.LSTMCell'> to avoid naming conflicts when loading with `tf.keras.models.load_model`. If renaming is not possible, pass the object in the `custom_objects` parameter of the load function.\n"
     ]
    },
    {
     "name": "stdout",
     "output_type": "stream",
     "text": [
      "INFO:tensorflow:Assets written to: model_experiments\\model_5_lstm\\assets\n"
     ]
    },
    {
     "name": "stderr",
     "output_type": "stream",
     "text": [
      "INFO:tensorflow:Assets written to: model_experiments\\model_5_lstm\\assets\n",
      "WARNING:absl:<keras.layers.recurrent.LSTMCell object at 0x0000022D3935D3A0> has the same name 'LSTMCell' as a built-in Keras object. Consider renaming <class 'keras.layers.recurrent.LSTMCell'> to avoid naming conflicts when loading with `tf.keras.models.load_model`. If renaming is not possible, pass the object in the `custom_objects` parameter of the load function.\n"
     ]
    },
    {
     "name": "stdout",
     "output_type": "stream",
     "text": [
      "INFO:tensorflow:Assets written to: model_experiments\\model_5_lstm\\assets\n"
     ]
    },
    {
     "name": "stderr",
     "output_type": "stream",
     "text": [
      "INFO:tensorflow:Assets written to: model_experiments\\model_5_lstm\\assets\n",
      "WARNING:absl:<keras.layers.recurrent.LSTMCell object at 0x0000022D3935D3A0> has the same name 'LSTMCell' as a built-in Keras object. Consider renaming <class 'keras.layers.recurrent.LSTMCell'> to avoid naming conflicts when loading with `tf.keras.models.load_model`. If renaming is not possible, pass the object in the `custom_objects` parameter of the load function.\n"
     ]
    },
    {
     "name": "stdout",
     "output_type": "stream",
     "text": [
      "INFO:tensorflow:Assets written to: model_experiments\\model_5_lstm\\assets\n"
     ]
    },
    {
     "name": "stderr",
     "output_type": "stream",
     "text": [
      "INFO:tensorflow:Assets written to: model_experiments\\model_5_lstm\\assets\n",
      "WARNING:absl:<keras.layers.recurrent.LSTMCell object at 0x0000022D3935D3A0> has the same name 'LSTMCell' as a built-in Keras object. Consider renaming <class 'keras.layers.recurrent.LSTMCell'> to avoid naming conflicts when loading with `tf.keras.models.load_model`. If renaming is not possible, pass the object in the `custom_objects` parameter of the load function.\n"
     ]
    },
    {
     "name": "stdout",
     "output_type": "stream",
     "text": [
      "INFO:tensorflow:Assets written to: model_experiments\\model_5_lstm\\assets\n"
     ]
    },
    {
     "name": "stderr",
     "output_type": "stream",
     "text": [
      "INFO:tensorflow:Assets written to: model_experiments\\model_5_lstm\\assets\n",
      "WARNING:absl:<keras.layers.recurrent.LSTMCell object at 0x0000022D3935D3A0> has the same name 'LSTMCell' as a built-in Keras object. Consider renaming <class 'keras.layers.recurrent.LSTMCell'> to avoid naming conflicts when loading with `tf.keras.models.load_model`. If renaming is not possible, pass the object in the `custom_objects` parameter of the load function.\n"
     ]
    },
    {
     "name": "stdout",
     "output_type": "stream",
     "text": [
      "INFO:tensorflow:Assets written to: model_experiments\\model_5_lstm\\assets\n"
     ]
    },
    {
     "name": "stderr",
     "output_type": "stream",
     "text": [
      "INFO:tensorflow:Assets written to: model_experiments\\model_5_lstm\\assets\n",
      "WARNING:absl:<keras.layers.recurrent.LSTMCell object at 0x0000022D3935D3A0> has the same name 'LSTMCell' as a built-in Keras object. Consider renaming <class 'keras.layers.recurrent.LSTMCell'> to avoid naming conflicts when loading with `tf.keras.models.load_model`. If renaming is not possible, pass the object in the `custom_objects` parameter of the load function.\n"
     ]
    },
    {
     "name": "stdout",
     "output_type": "stream",
     "text": [
      "INFO:tensorflow:Assets written to: model_experiments\\model_5_lstm\\assets\n"
     ]
    },
    {
     "name": "stderr",
     "output_type": "stream",
     "text": [
      "INFO:tensorflow:Assets written to: model_experiments\\model_5_lstm\\assets\n",
      "WARNING:absl:<keras.layers.recurrent.LSTMCell object at 0x0000022D3935D3A0> has the same name 'LSTMCell' as a built-in Keras object. Consider renaming <class 'keras.layers.recurrent.LSTMCell'> to avoid naming conflicts when loading with `tf.keras.models.load_model`. If renaming is not possible, pass the object in the `custom_objects` parameter of the load function.\n"
     ]
    },
    {
     "name": "stdout",
     "output_type": "stream",
     "text": [
      "INFO:tensorflow:Assets written to: model_experiments\\model_5_lstm\\assets\n"
     ]
    },
    {
     "name": "stderr",
     "output_type": "stream",
     "text": [
      "INFO:tensorflow:Assets written to: model_experiments\\model_5_lstm\\assets\n",
      "WARNING:absl:<keras.layers.recurrent.LSTMCell object at 0x0000022D3935D3A0> has the same name 'LSTMCell' as a built-in Keras object. Consider renaming <class 'keras.layers.recurrent.LSTMCell'> to avoid naming conflicts when loading with `tf.keras.models.load_model`. If renaming is not possible, pass the object in the `custom_objects` parameter of the load function.\n"
     ]
    },
    {
     "name": "stdout",
     "output_type": "stream",
     "text": [
      "INFO:tensorflow:Assets written to: model_experiments\\model_5_lstm\\assets\n"
     ]
    },
    {
     "name": "stderr",
     "output_type": "stream",
     "text": [
      "INFO:tensorflow:Assets written to: model_experiments\\model_5_lstm\\assets\n",
      "WARNING:absl:<keras.layers.recurrent.LSTMCell object at 0x0000022D3935D3A0> has the same name 'LSTMCell' as a built-in Keras object. Consider renaming <class 'keras.layers.recurrent.LSTMCell'> to avoid naming conflicts when loading with `tf.keras.models.load_model`. If renaming is not possible, pass the object in the `custom_objects` parameter of the load function.\n"
     ]
    },
    {
     "name": "stdout",
     "output_type": "stream",
     "text": [
      "INFO:tensorflow:Assets written to: model_experiments\\model_5_lstm\\assets\n"
     ]
    },
    {
     "name": "stderr",
     "output_type": "stream",
     "text": [
      "INFO:tensorflow:Assets written to: model_experiments\\model_5_lstm\\assets\n",
      "WARNING:absl:<keras.layers.recurrent.LSTMCell object at 0x0000022D3935D3A0> has the same name 'LSTMCell' as a built-in Keras object. Consider renaming <class 'keras.layers.recurrent.LSTMCell'> to avoid naming conflicts when loading with `tf.keras.models.load_model`. If renaming is not possible, pass the object in the `custom_objects` parameter of the load function.\n"
     ]
    },
    {
     "name": "stdout",
     "output_type": "stream",
     "text": [
      "INFO:tensorflow:Assets written to: model_experiments\\model_5_lstm\\assets\n"
     ]
    },
    {
     "name": "stderr",
     "output_type": "stream",
     "text": [
      "INFO:tensorflow:Assets written to: model_experiments\\model_5_lstm\\assets\n",
      "WARNING:absl:<keras.layers.recurrent.LSTMCell object at 0x0000022D3935D3A0> has the same name 'LSTMCell' as a built-in Keras object. Consider renaming <class 'keras.layers.recurrent.LSTMCell'> to avoid naming conflicts when loading with `tf.keras.models.load_model`. If renaming is not possible, pass the object in the `custom_objects` parameter of the load function.\n"
     ]
    },
    {
     "name": "stdout",
     "output_type": "stream",
     "text": [
      "INFO:tensorflow:Assets written to: model_experiments\\model_5_lstm\\assets\n"
     ]
    },
    {
     "name": "stderr",
     "output_type": "stream",
     "text": [
      "INFO:tensorflow:Assets written to: model_experiments\\model_5_lstm\\assets\n",
      "WARNING:absl:<keras.layers.recurrent.LSTMCell object at 0x0000022D3935D3A0> has the same name 'LSTMCell' as a built-in Keras object. Consider renaming <class 'keras.layers.recurrent.LSTMCell'> to avoid naming conflicts when loading with `tf.keras.models.load_model`. If renaming is not possible, pass the object in the `custom_objects` parameter of the load function.\n"
     ]
    },
    {
     "name": "stdout",
     "output_type": "stream",
     "text": [
      "INFO:tensorflow:Assets written to: model_experiments\\model_5_lstm\\assets\n"
     ]
    },
    {
     "name": "stderr",
     "output_type": "stream",
     "text": [
      "INFO:tensorflow:Assets written to: model_experiments\\model_5_lstm\\assets\n",
      "WARNING:absl:<keras.layers.recurrent.LSTMCell object at 0x0000022D3935D3A0> has the same name 'LSTMCell' as a built-in Keras object. Consider renaming <class 'keras.layers.recurrent.LSTMCell'> to avoid naming conflicts when loading with `tf.keras.models.load_model`. If renaming is not possible, pass the object in the `custom_objects` parameter of the load function.\n"
     ]
    },
    {
     "name": "stdout",
     "output_type": "stream",
     "text": [
      "INFO:tensorflow:Assets written to: model_experiments\\model_5_lstm\\assets\n"
     ]
    },
    {
     "name": "stderr",
     "output_type": "stream",
     "text": [
      "INFO:tensorflow:Assets written to: model_experiments\\model_5_lstm\\assets\n",
      "WARNING:absl:<keras.layers.recurrent.LSTMCell object at 0x0000022D3935D3A0> has the same name 'LSTMCell' as a built-in Keras object. Consider renaming <class 'keras.layers.recurrent.LSTMCell'> to avoid naming conflicts when loading with `tf.keras.models.load_model`. If renaming is not possible, pass the object in the `custom_objects` parameter of the load function.\n"
     ]
    },
    {
     "name": "stdout",
     "output_type": "stream",
     "text": [
      "INFO:tensorflow:Assets written to: model_experiments\\model_5_lstm\\assets\n"
     ]
    },
    {
     "name": "stderr",
     "output_type": "stream",
     "text": [
      "INFO:tensorflow:Assets written to: model_experiments\\model_5_lstm\\assets\n",
      "WARNING:absl:<keras.layers.recurrent.LSTMCell object at 0x0000022D3935D3A0> has the same name 'LSTMCell' as a built-in Keras object. Consider renaming <class 'keras.layers.recurrent.LSTMCell'> to avoid naming conflicts when loading with `tf.keras.models.load_model`. If renaming is not possible, pass the object in the `custom_objects` parameter of the load function.\n"
     ]
    },
    {
     "name": "stdout",
     "output_type": "stream",
     "text": [
      "INFO:tensorflow:Assets written to: model_experiments\\model_5_lstm\\assets\n"
     ]
    },
    {
     "name": "stderr",
     "output_type": "stream",
     "text": [
      "INFO:tensorflow:Assets written to: model_experiments\\model_5_lstm\\assets\n",
      "WARNING:absl:<keras.layers.recurrent.LSTMCell object at 0x0000022D3935D3A0> has the same name 'LSTMCell' as a built-in Keras object. Consider renaming <class 'keras.layers.recurrent.LSTMCell'> to avoid naming conflicts when loading with `tf.keras.models.load_model`. If renaming is not possible, pass the object in the `custom_objects` parameter of the load function.\n"
     ]
    },
    {
     "name": "stdout",
     "output_type": "stream",
     "text": [
      "INFO:tensorflow:Assets written to: model_experiments\\model_5_lstm\\assets\n"
     ]
    },
    {
     "name": "stderr",
     "output_type": "stream",
     "text": [
      "INFO:tensorflow:Assets written to: model_experiments\\model_5_lstm\\assets\n",
      "WARNING:absl:<keras.layers.recurrent.LSTMCell object at 0x0000022D3935D3A0> has the same name 'LSTMCell' as a built-in Keras object. Consider renaming <class 'keras.layers.recurrent.LSTMCell'> to avoid naming conflicts when loading with `tf.keras.models.load_model`. If renaming is not possible, pass the object in the `custom_objects` parameter of the load function.\n"
     ]
    },
    {
     "name": "stdout",
     "output_type": "stream",
     "text": [
      "INFO:tensorflow:Assets written to: model_experiments\\model_5_lstm\\assets\n"
     ]
    },
    {
     "name": "stderr",
     "output_type": "stream",
     "text": [
      "INFO:tensorflow:Assets written to: model_experiments\\model_5_lstm\\assets\n",
      "WARNING:absl:<keras.layers.recurrent.LSTMCell object at 0x0000022D3935D3A0> has the same name 'LSTMCell' as a built-in Keras object. Consider renaming <class 'keras.layers.recurrent.LSTMCell'> to avoid naming conflicts when loading with `tf.keras.models.load_model`. If renaming is not possible, pass the object in the `custom_objects` parameter of the load function.\n"
     ]
    },
    {
     "name": "stdout",
     "output_type": "stream",
     "text": [
      "INFO:tensorflow:Assets written to: model_experiments\\model_5_lstm\\assets\n"
     ]
    },
    {
     "name": "stderr",
     "output_type": "stream",
     "text": [
      "INFO:tensorflow:Assets written to: model_experiments\\model_5_lstm\\assets\n",
      "WARNING:absl:<keras.layers.recurrent.LSTMCell object at 0x0000022D3935D3A0> has the same name 'LSTMCell' as a built-in Keras object. Consider renaming <class 'keras.layers.recurrent.LSTMCell'> to avoid naming conflicts when loading with `tf.keras.models.load_model`. If renaming is not possible, pass the object in the `custom_objects` parameter of the load function.\n"
     ]
    },
    {
     "name": "stdout",
     "output_type": "stream",
     "text": [
      "INFO:tensorflow:Assets written to: model_experiments\\model_5_lstm\\assets\n"
     ]
    },
    {
     "name": "stderr",
     "output_type": "stream",
     "text": [
      "INFO:tensorflow:Assets written to: model_experiments\\model_5_lstm\\assets\n",
      "WARNING:absl:<keras.layers.recurrent.LSTMCell object at 0x0000022D3935D3A0> has the same name 'LSTMCell' as a built-in Keras object. Consider renaming <class 'keras.layers.recurrent.LSTMCell'> to avoid naming conflicts when loading with `tf.keras.models.load_model`. If renaming is not possible, pass the object in the `custom_objects` parameter of the load function.\n"
     ]
    },
    {
     "name": "stdout",
     "output_type": "stream",
     "text": [
      "INFO:tensorflow:Assets written to: model_experiments\\model_5_lstm\\assets\n"
     ]
    },
    {
     "name": "stderr",
     "output_type": "stream",
     "text": [
      "INFO:tensorflow:Assets written to: model_experiments\\model_5_lstm\\assets\n",
      "WARNING:absl:<keras.layers.recurrent.LSTMCell object at 0x0000022D3935D3A0> has the same name 'LSTMCell' as a built-in Keras object. Consider renaming <class 'keras.layers.recurrent.LSTMCell'> to avoid naming conflicts when loading with `tf.keras.models.load_model`. If renaming is not possible, pass the object in the `custom_objects` parameter of the load function.\n"
     ]
    },
    {
     "name": "stdout",
     "output_type": "stream",
     "text": [
      "INFO:tensorflow:Assets written to: model_experiments\\model_5_lstm\\assets\n"
     ]
    },
    {
     "name": "stderr",
     "output_type": "stream",
     "text": [
      "INFO:tensorflow:Assets written to: model_experiments\\model_5_lstm\\assets\n",
      "WARNING:absl:<keras.layers.recurrent.LSTMCell object at 0x0000022D3935D3A0> has the same name 'LSTMCell' as a built-in Keras object. Consider renaming <class 'keras.layers.recurrent.LSTMCell'> to avoid naming conflicts when loading with `tf.keras.models.load_model`. If renaming is not possible, pass the object in the `custom_objects` parameter of the load function.\n"
     ]
    },
    {
     "name": "stdout",
     "output_type": "stream",
     "text": [
      "INFO:tensorflow:Assets written to: model_experiments\\model_5_lstm\\assets\n"
     ]
    },
    {
     "name": "stderr",
     "output_type": "stream",
     "text": [
      "INFO:tensorflow:Assets written to: model_experiments\\model_5_lstm\\assets\n",
      "WARNING:absl:<keras.layers.recurrent.LSTMCell object at 0x0000022D3935D3A0> has the same name 'LSTMCell' as a built-in Keras object. Consider renaming <class 'keras.layers.recurrent.LSTMCell'> to avoid naming conflicts when loading with `tf.keras.models.load_model`. If renaming is not possible, pass the object in the `custom_objects` parameter of the load function.\n"
     ]
    },
    {
     "name": "stdout",
     "output_type": "stream",
     "text": [
      "INFO:tensorflow:Assets written to: model_experiments\\model_5_lstm\\assets\n"
     ]
    },
    {
     "name": "stderr",
     "output_type": "stream",
     "text": [
      "INFO:tensorflow:Assets written to: model_experiments\\model_5_lstm\\assets\n",
      "WARNING:absl:<keras.layers.recurrent.LSTMCell object at 0x0000022D3935D3A0> has the same name 'LSTMCell' as a built-in Keras object. Consider renaming <class 'keras.layers.recurrent.LSTMCell'> to avoid naming conflicts when loading with `tf.keras.models.load_model`. If renaming is not possible, pass the object in the `custom_objects` parameter of the load function.\n"
     ]
    },
    {
     "name": "stdout",
     "output_type": "stream",
     "text": [
      "INFO:tensorflow:Assets written to: model_experiments\\model_5_lstm\\assets\n"
     ]
    },
    {
     "name": "stderr",
     "output_type": "stream",
     "text": [
      "INFO:tensorflow:Assets written to: model_experiments\\model_5_lstm\\assets\n",
      "WARNING:absl:<keras.layers.recurrent.LSTMCell object at 0x0000022D3935D3A0> has the same name 'LSTMCell' as a built-in Keras object. Consider renaming <class 'keras.layers.recurrent.LSTMCell'> to avoid naming conflicts when loading with `tf.keras.models.load_model`. If renaming is not possible, pass the object in the `custom_objects` parameter of the load function.\n"
     ]
    },
    {
     "name": "stdout",
     "output_type": "stream",
     "text": [
      "INFO:tensorflow:Assets written to: model_experiments\\model_5_lstm\\assets\n"
     ]
    },
    {
     "name": "stderr",
     "output_type": "stream",
     "text": [
      "INFO:tensorflow:Assets written to: model_experiments\\model_5_lstm\\assets\n",
      "WARNING:absl:<keras.layers.recurrent.LSTMCell object at 0x0000022D3935D3A0> has the same name 'LSTMCell' as a built-in Keras object. Consider renaming <class 'keras.layers.recurrent.LSTMCell'> to avoid naming conflicts when loading with `tf.keras.models.load_model`. If renaming is not possible, pass the object in the `custom_objects` parameter of the load function.\n"
     ]
    },
    {
     "name": "stdout",
     "output_type": "stream",
     "text": [
      "INFO:tensorflow:Assets written to: model_experiments\\model_5_lstm\\assets\n"
     ]
    },
    {
     "name": "stderr",
     "output_type": "stream",
     "text": [
      "INFO:tensorflow:Assets written to: model_experiments\\model_5_lstm\\assets\n",
      "WARNING:absl:<keras.layers.recurrent.LSTMCell object at 0x0000022D3935D3A0> has the same name 'LSTMCell' as a built-in Keras object. Consider renaming <class 'keras.layers.recurrent.LSTMCell'> to avoid naming conflicts when loading with `tf.keras.models.load_model`. If renaming is not possible, pass the object in the `custom_objects` parameter of the load function.\n"
     ]
    },
    {
     "name": "stdout",
     "output_type": "stream",
     "text": [
      "INFO:tensorflow:Assets written to: model_experiments\\model_5_lstm\\assets\n"
     ]
    },
    {
     "name": "stderr",
     "output_type": "stream",
     "text": [
      "INFO:tensorflow:Assets written to: model_experiments\\model_5_lstm\\assets\n",
      "WARNING:absl:<keras.layers.recurrent.LSTMCell object at 0x0000022D3935D3A0> has the same name 'LSTMCell' as a built-in Keras object. Consider renaming <class 'keras.layers.recurrent.LSTMCell'> to avoid naming conflicts when loading with `tf.keras.models.load_model`. If renaming is not possible, pass the object in the `custom_objects` parameter of the load function.\n"
     ]
    },
    {
     "name": "stdout",
     "output_type": "stream",
     "text": [
      "INFO:tensorflow:Assets written to: model_experiments\\model_5_lstm\\assets\n"
     ]
    },
    {
     "name": "stderr",
     "output_type": "stream",
     "text": [
      "INFO:tensorflow:Assets written to: model_experiments\\model_5_lstm\\assets\n",
      "WARNING:absl:<keras.layers.recurrent.LSTMCell object at 0x0000022D3935D3A0> has the same name 'LSTMCell' as a built-in Keras object. Consider renaming <class 'keras.layers.recurrent.LSTMCell'> to avoid naming conflicts when loading with `tf.keras.models.load_model`. If renaming is not possible, pass the object in the `custom_objects` parameter of the load function.\n"
     ]
    },
    {
     "name": "stdout",
     "output_type": "stream",
     "text": [
      "INFO:tensorflow:Assets written to: model_experiments\\model_5_lstm\\assets\n"
     ]
    },
    {
     "name": "stderr",
     "output_type": "stream",
     "text": [
      "INFO:tensorflow:Assets written to: model_experiments\\model_5_lstm\\assets\n",
      "WARNING:absl:<keras.layers.recurrent.LSTMCell object at 0x0000022D3935D3A0> has the same name 'LSTMCell' as a built-in Keras object. Consider renaming <class 'keras.layers.recurrent.LSTMCell'> to avoid naming conflicts when loading with `tf.keras.models.load_model`. If renaming is not possible, pass the object in the `custom_objects` parameter of the load function.\n"
     ]
    },
    {
     "name": "stdout",
     "output_type": "stream",
     "text": [
      "INFO:tensorflow:Assets written to: model_experiments\\model_5_lstm\\assets\n"
     ]
    },
    {
     "name": "stderr",
     "output_type": "stream",
     "text": [
      "INFO:tensorflow:Assets written to: model_experiments\\model_5_lstm\\assets\n",
      "WARNING:absl:<keras.layers.recurrent.LSTMCell object at 0x0000022D3935D3A0> has the same name 'LSTMCell' as a built-in Keras object. Consider renaming <class 'keras.layers.recurrent.LSTMCell'> to avoid naming conflicts when loading with `tf.keras.models.load_model`. If renaming is not possible, pass the object in the `custom_objects` parameter of the load function.\n"
     ]
    },
    {
     "name": "stdout",
     "output_type": "stream",
     "text": [
      "INFO:tensorflow:Assets written to: model_experiments\\model_5_lstm\\assets\n"
     ]
    },
    {
     "name": "stderr",
     "output_type": "stream",
     "text": [
      "INFO:tensorflow:Assets written to: model_experiments\\model_5_lstm\\assets\n",
      "WARNING:absl:<keras.layers.recurrent.LSTMCell object at 0x0000022D3935D3A0> has the same name 'LSTMCell' as a built-in Keras object. Consider renaming <class 'keras.layers.recurrent.LSTMCell'> to avoid naming conflicts when loading with `tf.keras.models.load_model`. If renaming is not possible, pass the object in the `custom_objects` parameter of the load function.\n"
     ]
    },
    {
     "name": "stdout",
     "output_type": "stream",
     "text": [
      "INFO:tensorflow:Assets written to: model_experiments\\model_5_lstm\\assets\n"
     ]
    },
    {
     "name": "stderr",
     "output_type": "stream",
     "text": [
      "INFO:tensorflow:Assets written to: model_experiments\\model_5_lstm\\assets\n",
      "WARNING:absl:<keras.layers.recurrent.LSTMCell object at 0x0000022D3935D3A0> has the same name 'LSTMCell' as a built-in Keras object. Consider renaming <class 'keras.layers.recurrent.LSTMCell'> to avoid naming conflicts when loading with `tf.keras.models.load_model`. If renaming is not possible, pass the object in the `custom_objects` parameter of the load function.\n"
     ]
    },
    {
     "name": "stdout",
     "output_type": "stream",
     "text": [
      "INFO:tensorflow:Assets written to: model_experiments\\model_5_lstm\\assets\n"
     ]
    },
    {
     "name": "stderr",
     "output_type": "stream",
     "text": [
      "INFO:tensorflow:Assets written to: model_experiments\\model_5_lstm\\assets\n",
      "WARNING:absl:<keras.layers.recurrent.LSTMCell object at 0x0000022D3935D3A0> has the same name 'LSTMCell' as a built-in Keras object. Consider renaming <class 'keras.layers.recurrent.LSTMCell'> to avoid naming conflicts when loading with `tf.keras.models.load_model`. If renaming is not possible, pass the object in the `custom_objects` parameter of the load function.\n"
     ]
    },
    {
     "name": "stdout",
     "output_type": "stream",
     "text": [
      "INFO:tensorflow:Assets written to: model_experiments\\model_5_lstm\\assets\n"
     ]
    },
    {
     "name": "stderr",
     "output_type": "stream",
     "text": [
      "INFO:tensorflow:Assets written to: model_experiments\\model_5_lstm\\assets\n",
      "WARNING:absl:<keras.layers.recurrent.LSTMCell object at 0x0000022D3935D3A0> has the same name 'LSTMCell' as a built-in Keras object. Consider renaming <class 'keras.layers.recurrent.LSTMCell'> to avoid naming conflicts when loading with `tf.keras.models.load_model`. If renaming is not possible, pass the object in the `custom_objects` parameter of the load function.\n"
     ]
    },
    {
     "name": "stdout",
     "output_type": "stream",
     "text": [
      "INFO:tensorflow:Assets written to: model_experiments\\model_5_lstm\\assets\n"
     ]
    },
    {
     "name": "stderr",
     "output_type": "stream",
     "text": [
      "INFO:tensorflow:Assets written to: model_experiments\\model_5_lstm\\assets\n",
      "WARNING:absl:<keras.layers.recurrent.LSTMCell object at 0x0000022D3935D3A0> has the same name 'LSTMCell' as a built-in Keras object. Consider renaming <class 'keras.layers.recurrent.LSTMCell'> to avoid naming conflicts when loading with `tf.keras.models.load_model`. If renaming is not possible, pass the object in the `custom_objects` parameter of the load function.\n"
     ]
    },
    {
     "name": "stdout",
     "output_type": "stream",
     "text": [
      "INFO:tensorflow:Assets written to: model_experiments\\model_5_lstm\\assets\n"
     ]
    },
    {
     "name": "stderr",
     "output_type": "stream",
     "text": [
      "INFO:tensorflow:Assets written to: model_experiments\\model_5_lstm\\assets\n",
      "WARNING:absl:<keras.layers.recurrent.LSTMCell object at 0x0000022D3935D3A0> has the same name 'LSTMCell' as a built-in Keras object. Consider renaming <class 'keras.layers.recurrent.LSTMCell'> to avoid naming conflicts when loading with `tf.keras.models.load_model`. If renaming is not possible, pass the object in the `custom_objects` parameter of the load function.\n"
     ]
    },
    {
     "name": "stdout",
     "output_type": "stream",
     "text": [
      "INFO:tensorflow:Assets written to: model_experiments\\model_5_lstm\\assets\n"
     ]
    },
    {
     "name": "stderr",
     "output_type": "stream",
     "text": [
      "INFO:tensorflow:Assets written to: model_experiments\\model_5_lstm\\assets\n",
      "WARNING:absl:<keras.layers.recurrent.LSTMCell object at 0x0000022D3935D3A0> has the same name 'LSTMCell' as a built-in Keras object. Consider renaming <class 'keras.layers.recurrent.LSTMCell'> to avoid naming conflicts when loading with `tf.keras.models.load_model`. If renaming is not possible, pass the object in the `custom_objects` parameter of the load function.\n"
     ]
    },
    {
     "name": "stdout",
     "output_type": "stream",
     "text": [
      "INFO:tensorflow:Assets written to: model_experiments\\model_5_lstm\\assets\n"
     ]
    },
    {
     "name": "stderr",
     "output_type": "stream",
     "text": [
      "INFO:tensorflow:Assets written to: model_experiments\\model_5_lstm\\assets\n",
      "WARNING:absl:<keras.layers.recurrent.LSTMCell object at 0x0000022D3935D3A0> has the same name 'LSTMCell' as a built-in Keras object. Consider renaming <class 'keras.layers.recurrent.LSTMCell'> to avoid naming conflicts when loading with `tf.keras.models.load_model`. If renaming is not possible, pass the object in the `custom_objects` parameter of the load function.\n"
     ]
    },
    {
     "data": {
      "text/plain": [
       "<keras.callbacks.History at 0x22d3cbe1520>"
      ]
     },
     "execution_count": 78,
     "metadata": {},
     "output_type": "execute_result"
    }
   ],
   "source": [
    "tf.random.set_seed(42)\n",
    "\n",
    "# Let's build an LSTM model with the Functional API\n",
    "inputs = layers.Input(shape=(WINDOW_SIZE))\n",
    "x = layers.Lambda(lambda x: tf.expand_dims(x, axis=1))(inputs) # expand input dimension to be compatible with LSTM\n",
    "# print(x.shape)\n",
    "# x = layers.LSTM(128, activation=\"relu\", return_sequences=True)(x) # this layer will error if the inputs are not the right shape\n",
    "x = layers.LSTM(128, activation=\"relu\")(x) # using the tanh loss function results in a massive error\n",
    "# print(x.shape)\n",
    "# Add another optional dense layer (you could add more of these to see if they improve model performance)\n",
    "# x = layers.Dense(32, activation=\"relu\")(x)\n",
    "output = layers.Dense(HORIZON)(x)\n",
    "model_5 = tf.keras.Model(inputs=inputs, outputs=output, name=\"model_5_lstm\")\n",
    "\n",
    "# Compile model\n",
    "model_5.compile(loss=\"mae\",\n",
    "                optimizer=tf.keras.optimizers.Adam())\n",
    "\n",
    "# Seems when saving the model several warnings are appearing: https://github.com/tensorflow/tensorflow/issues/47554 \n",
    "model_5.fit(window_trains,\n",
    "            label_trains,\n",
    "            epochs=100,\n",
    "            verbose=0,\n",
    "            batch_size=128,\n",
    "            validation_data=(window_tests, label_tests),\n",
    "            callbacks=[create_model_checkpoint(model_name=model_5.name)])"
   ]
  },
  {
   "cell_type": "code",
   "execution_count": 94,
   "id": "4e58f256",
   "metadata": {},
   "outputs": [
    {
     "data": {
      "text/plain": [
       "<tf.Tensor: shape=(10,), dtype=float32, numpy=\n",
       "array([9001.638, 8836.167, 9026.134, 8862.39 , 8757.421, 8802.347,\n",
       "       8757.111, 8565.564, 8528.356, 8556.624], dtype=float32)>"
      ]
     },
     "execution_count": 94,
     "metadata": {},
     "output_type": "execute_result"
    }
   ],
   "source": [
    "model_5_preds = make_preds(model_5, window_tests)\n",
    "model_5_preds[:10]"
   ]
  },
  {
   "cell_type": "code",
   "execution_count": 95,
   "id": "538e424b",
   "metadata": {},
   "outputs": [
    {
     "data": {
      "text/plain": [
       "{'mae': 597.89825,\n",
       " 'mse': 1276845.8,\n",
       " 'rmse': 1129.976,\n",
       " 'mape': 2.6928196,\n",
       " 'mase': 1.0503416}"
      ]
     },
     "execution_count": 95,
     "metadata": {},
     "output_type": "execute_result"
    }
   ],
   "source": [
    "# Evaluate model 5 preds\n",
    "model_5_results = evaluate_preds(y_true=tf.squeeze(label_tests),\n",
    "                                 y_pred=model_5_preds)\n",
    "model_5_results"
   ]
  },
  {
   "cell_type": "code",
   "execution_count": 79,
   "id": "0dbaa626",
   "metadata": {},
   "outputs": [],
   "source": [
    "# Block reward values\n",
    "block_reward_1 = 50 # 3 January 2009 (2009-01-03) - this block reward isn't in our dataset (it starts from 01 October 2013)\n",
    "block_reward_2 = 25 # 28 November 2012 \n",
    "block_reward_3 = 12.5 # 9 July 2016\n",
    "block_reward_4 = 6.25 # 11 May 2020\n",
    "\n",
    "# Block reward dates (datetime form of the above date stamps)\n",
    "block_reward_2_datetime = np.datetime64(\"2012-11-28\")\n",
    "block_reward_3_datetime = np.datetime64(\"2016-07-09\")\n",
    "block_reward_4_datetime = np.datetime64(\"2020-05-11\")"
   ]
  },
  {
   "cell_type": "code",
   "execution_count": 80,
   "id": "d1517c23",
   "metadata": {},
   "outputs": [
    {
     "data": {
      "text/plain": [
       "(1012, 2414)"
      ]
     },
     "execution_count": 80,
     "metadata": {},
     "output_type": "execute_result"
    }
   ],
   "source": [
    "# Get date indexes for when to add in different block dates\n",
    "block_reward_2_days = (block_reward_3_datetime - bitcoin_prices.index[0]).days\n",
    "block_reward_3_days = (block_reward_4_datetime - bitcoin_prices.index[0]).days\n",
    "block_reward_2_days, block_reward_3_days"
   ]
  },
  {
   "cell_type": "code",
   "execution_count": 81,
   "id": "3d76925a",
   "metadata": {},
   "outputs": [
    {
     "data": {
      "text/html": [
       "<div>\n",
       "<style scoped>\n",
       "    .dataframe tbody tr th:only-of-type {\n",
       "        vertical-align: middle;\n",
       "    }\n",
       "\n",
       "    .dataframe tbody tr th {\n",
       "        vertical-align: top;\n",
       "    }\n",
       "\n",
       "    .dataframe thead th {\n",
       "        text-align: right;\n",
       "    }\n",
       "</style>\n",
       "<table border=\"1\" class=\"dataframe\">\n",
       "  <thead>\n",
       "    <tr style=\"text-align: right;\">\n",
       "      <th></th>\n",
       "      <th>Price</th>\n",
       "      <th>block_reward</th>\n",
       "    </tr>\n",
       "    <tr>\n",
       "      <th>Date</th>\n",
       "      <th></th>\n",
       "      <th></th>\n",
       "    </tr>\n",
       "  </thead>\n",
       "  <tbody>\n",
       "    <tr>\n",
       "      <th>2013-10-01</th>\n",
       "      <td>123.65499</td>\n",
       "      <td>25</td>\n",
       "    </tr>\n",
       "    <tr>\n",
       "      <th>2013-10-02</th>\n",
       "      <td>125.45500</td>\n",
       "      <td>25</td>\n",
       "    </tr>\n",
       "    <tr>\n",
       "      <th>2013-10-03</th>\n",
       "      <td>108.58483</td>\n",
       "      <td>25</td>\n",
       "    </tr>\n",
       "    <tr>\n",
       "      <th>2013-10-04</th>\n",
       "      <td>118.67466</td>\n",
       "      <td>25</td>\n",
       "    </tr>\n",
       "    <tr>\n",
       "      <th>2013-10-05</th>\n",
       "      <td>121.33866</td>\n",
       "      <td>25</td>\n",
       "    </tr>\n",
       "  </tbody>\n",
       "</table>\n",
       "</div>"
      ],
      "text/plain": [
       "                Price block_reward\n",
       "Date                              \n",
       "2013-10-01  123.65499           25\n",
       "2013-10-02  125.45500           25\n",
       "2013-10-03  108.58483           25\n",
       "2013-10-04  118.67466           25\n",
       "2013-10-05  121.33866           25"
      ]
     },
     "execution_count": 81,
     "metadata": {},
     "output_type": "execute_result"
    }
   ],
   "source": [
    "# Add block_reward column\n",
    "bitcoin_prices_block = bitcoin_prices.copy()\n",
    "bitcoin_prices_block[\"block_reward\"] = None\n",
    "\n",
    "# Set values of block_reward column (it's the last column hence -1 indexing on iloc)\n",
    "bitcoin_prices_block.iloc[:block_reward_2_days, -1] = block_reward_2\n",
    "bitcoin_prices_block.iloc[block_reward_2_days:block_reward_3_days, -1] = block_reward_3\n",
    "bitcoin_prices_block.iloc[block_reward_3_days:, -1] = block_reward_4\n",
    "bitcoin_prices_block.head()"
   ]
  },
  {
   "cell_type": "code",
   "execution_count": 82,
   "id": "366651a2",
   "metadata": {},
   "outputs": [
    {
     "data": {
      "image/png": "[encoded data removed]",
      "text/plain": [
       "<Figure size 720x504 with 1 Axes>"
      ]
     },
     "metadata": {
      "needs_background": "light"
     },
     "output_type": "display_data"
    }
   ],
   "source": [
    "# Plot the block reward/price over time\n",
    "# Note: Because of the different scales of our values we'll scale them to be between 0 and 1.\n",
    "from sklearn.preprocessing import minmax_scale\n",
    "scaled_price_block_df = pd.DataFrame(minmax_scale(bitcoin_prices_block[[\"Price\", \"block_reward\"]]), # we need to scale the data first\n",
    "                                     columns=bitcoin_prices_block.columns,\n",
    "                                     index=bitcoin_prices_block.index)\n",
    "scaled_price_block_df.plot(figsize=(10, 7));"
   ]
  },
  {
   "cell_type": "code",
   "execution_count": 83,
   "id": "8e9dc66f",
   "metadata": {},
   "outputs": [],
   "source": [
    "# Setup dataset hyperparameters\n",
    "HORIZON = 1\n",
    "WINDOW_SIZE = 7"
   ]
  },
  {
   "cell_type": "code",
   "execution_count": 84,
   "id": "8a33fd54",
   "metadata": {},
   "outputs": [
    {
     "data": {
      "text/html": [
       "<div>\n",
       "<style scoped>\n",
       "    .dataframe tbody tr th:only-of-type {\n",
       "        vertical-align: middle;\n",
       "    }\n",
       "\n",
       "    .dataframe tbody tr th {\n",
       "        vertical-align: top;\n",
       "    }\n",
       "\n",
       "    .dataframe thead th {\n",
       "        text-align: right;\n",
       "    }\n",
       "</style>\n",
       "<table border=\"1\" class=\"dataframe\">\n",
       "  <thead>\n",
       "    <tr style=\"text-align: right;\">\n",
       "      <th></th>\n",
       "      <th>Price</th>\n",
       "      <th>block_reward</th>\n",
       "      <th>Price+1</th>\n",
       "      <th>Price+2</th>\n",
       "      <th>Price+3</th>\n",
       "      <th>Price+4</th>\n",
       "      <th>Price+5</th>\n",
       "      <th>Price+6</th>\n",
       "      <th>Price+7</th>\n",
       "    </tr>\n",
       "    <tr>\n",
       "      <th>Date</th>\n",
       "      <th></th>\n",
       "      <th></th>\n",
       "      <th></th>\n",
       "      <th></th>\n",
       "      <th></th>\n",
       "      <th></th>\n",
       "      <th></th>\n",
       "      <th></th>\n",
       "      <th></th>\n",
       "    </tr>\n",
       "  </thead>\n",
       "  <tbody>\n",
       "    <tr>\n",
       "      <th>2013-10-01</th>\n",
       "      <td>123.65499</td>\n",
       "      <td>25</td>\n",
       "      <td>NaN</td>\n",
       "      <td>NaN</td>\n",
       "      <td>NaN</td>\n",
       "      <td>NaN</td>\n",
       "      <td>NaN</td>\n",
       "      <td>NaN</td>\n",
       "      <td>NaN</td>\n",
       "    </tr>\n",
       "    <tr>\n",
       "      <th>2013-10-02</th>\n",
       "      <td>125.45500</td>\n",
       "      <td>25</td>\n",
       "      <td>123.65499</td>\n",
       "      <td>NaN</td>\n",
       "      <td>NaN</td>\n",
       "      <td>NaN</td>\n",
       "      <td>NaN</td>\n",
       "      <td>NaN</td>\n",
       "      <td>NaN</td>\n",
       "    </tr>\n",
       "    <tr>\n",
       "      <th>2013-10-03</th>\n",
       "      <td>108.58483</td>\n",
       "      <td>25</td>\n",
       "      <td>125.45500</td>\n",
       "      <td>123.65499</td>\n",
       "      <td>NaN</td>\n",
       "      <td>NaN</td>\n",
       "      <td>NaN</td>\n",
       "      <td>NaN</td>\n",
       "      <td>NaN</td>\n",
       "    </tr>\n",
       "    <tr>\n",
       "      <th>2013-10-04</th>\n",
       "      <td>118.67466</td>\n",
       "      <td>25</td>\n",
       "      <td>108.58483</td>\n",
       "      <td>125.45500</td>\n",
       "      <td>123.65499</td>\n",
       "      <td>NaN</td>\n",
       "      <td>NaN</td>\n",
       "      <td>NaN</td>\n",
       "      <td>NaN</td>\n",
       "    </tr>\n",
       "    <tr>\n",
       "      <th>2013-10-05</th>\n",
       "      <td>121.33866</td>\n",
       "      <td>25</td>\n",
       "      <td>118.67466</td>\n",
       "      <td>108.58483</td>\n",
       "      <td>125.45500</td>\n",
       "      <td>123.65499</td>\n",
       "      <td>NaN</td>\n",
       "      <td>NaN</td>\n",
       "      <td>NaN</td>\n",
       "    </tr>\n",
       "    <tr>\n",
       "      <th>2013-10-06</th>\n",
       "      <td>120.65533</td>\n",
       "      <td>25</td>\n",
       "      <td>121.33866</td>\n",
       "      <td>118.67466</td>\n",
       "      <td>108.58483</td>\n",
       "      <td>125.45500</td>\n",
       "      <td>123.65499</td>\n",
       "      <td>NaN</td>\n",
       "      <td>NaN</td>\n",
       "    </tr>\n",
       "    <tr>\n",
       "      <th>2013-10-07</th>\n",
       "      <td>121.79500</td>\n",
       "      <td>25</td>\n",
       "      <td>120.65533</td>\n",
       "      <td>121.33866</td>\n",
       "      <td>118.67466</td>\n",
       "      <td>108.58483</td>\n",
       "      <td>125.45500</td>\n",
       "      <td>123.65499</td>\n",
       "      <td>NaN</td>\n",
       "    </tr>\n",
       "    <tr>\n",
       "      <th>2013-10-08</th>\n",
       "      <td>123.03300</td>\n",
       "      <td>25</td>\n",
       "      <td>121.79500</td>\n",
       "      <td>120.65533</td>\n",
       "      <td>121.33866</td>\n",
       "      <td>118.67466</td>\n",
       "      <td>108.58483</td>\n",
       "      <td>125.45500</td>\n",
       "      <td>123.65499</td>\n",
       "    </tr>\n",
       "    <tr>\n",
       "      <th>2013-10-09</th>\n",
       "      <td>124.04900</td>\n",
       "      <td>25</td>\n",
       "      <td>123.03300</td>\n",
       "      <td>121.79500</td>\n",
       "      <td>120.65533</td>\n",
       "      <td>121.33866</td>\n",
       "      <td>118.67466</td>\n",
       "      <td>108.58483</td>\n",
       "      <td>125.45500</td>\n",
       "    </tr>\n",
       "    <tr>\n",
       "      <th>2013-10-10</th>\n",
       "      <td>125.96116</td>\n",
       "      <td>25</td>\n",
       "      <td>124.04900</td>\n",
       "      <td>123.03300</td>\n",
       "      <td>121.79500</td>\n",
       "      <td>120.65533</td>\n",
       "      <td>121.33866</td>\n",
       "      <td>118.67466</td>\n",
       "      <td>108.58483</td>\n",
       "    </tr>\n",
       "  </tbody>\n",
       "</table>\n",
       "</div>"
      ],
      "text/plain": [
       "                Price block_reward    Price+1    Price+2    Price+3  \\\n",
       "Date                                                                  \n",
       "2013-10-01  123.65499           25        NaN        NaN        NaN   \n",
       "2013-10-02  125.45500           25  123.65499        NaN        NaN   \n",
       "2013-10-03  108.58483           25  125.45500  123.65499        NaN   \n",
       "2013-10-04  118.67466           25  108.58483  125.45500  123.65499   \n",
       "2013-10-05  121.33866           25  118.67466  108.58483  125.45500   \n",
       "2013-10-06  120.65533           25  121.33866  118.67466  108.58483   \n",
       "2013-10-07  121.79500           25  120.65533  121.33866  118.67466   \n",
       "2013-10-08  123.03300           25  121.79500  120.65533  121.33866   \n",
       "2013-10-09  124.04900           25  123.03300  121.79500  120.65533   \n",
       "2013-10-10  125.96116           25  124.04900  123.03300  121.79500   \n",
       "\n",
       "              Price+4    Price+5    Price+6    Price+7  \n",
       "Date                                                    \n",
       "2013-10-01        NaN        NaN        NaN        NaN  \n",
       "2013-10-02        NaN        NaN        NaN        NaN  \n",
       "2013-10-03        NaN        NaN        NaN        NaN  \n",
       "2013-10-04        NaN        NaN        NaN        NaN  \n",
       "2013-10-05  123.65499        NaN        NaN        NaN  \n",
       "2013-10-06  125.45500  123.65499        NaN        NaN  \n",
       "2013-10-07  108.58483  125.45500  123.65499        NaN  \n",
       "2013-10-08  118.67466  108.58483  125.45500  123.65499  \n",
       "2013-10-09  121.33866  118.67466  108.58483  125.45500  \n",
       "2013-10-10  120.65533  121.33866  118.67466  108.58483  "
      ]
     },
     "execution_count": 84,
     "metadata": {},
     "output_type": "execute_result"
    }
   ],
   "source": [
    "# Make a copy of the Bitcoin historical data with block reward feature\n",
    "bitcoin_prices_windowed = bitcoin_prices_block.copy()\n",
    "\n",
    "# Add windowed columns\n",
    "for i in range(WINDOW_SIZE): # Shift values for each step in WINDOW_SIZE\n",
    "    bitcoin_prices_windowed[f\"Price+{i+1}\"] = bitcoin_prices_windowed[\"Price\"].shift(periods=i+1)\n",
    "bitcoin_prices_windowed.head(10)"
   ]
  },
  {
   "cell_type": "code",
   "execution_count": 85,
   "id": "0028a626",
   "metadata": {},
   "outputs": [
    {
     "data": {
      "text/html": [
       "<div>\n",
       "<style scoped>\n",
       "    .dataframe tbody tr th:only-of-type {\n",
       "        vertical-align: middle;\n",
       "    }\n",
       "\n",
       "    .dataframe tbody tr th {\n",
       "        vertical-align: top;\n",
       "    }\n",
       "\n",
       "    .dataframe thead th {\n",
       "        text-align: right;\n",
       "    }\n",
       "</style>\n",
       "<table border=\"1\" class=\"dataframe\">\n",
       "  <thead>\n",
       "    <tr style=\"text-align: right;\">\n",
       "      <th></th>\n",
       "      <th>block_reward</th>\n",
       "      <th>Price+1</th>\n",
       "      <th>Price+2</th>\n",
       "      <th>Price+3</th>\n",
       "      <th>Price+4</th>\n",
       "      <th>Price+5</th>\n",
       "      <th>Price+6</th>\n",
       "      <th>Price+7</th>\n",
       "    </tr>\n",
       "    <tr>\n",
       "      <th>Date</th>\n",
       "      <th></th>\n",
       "      <th></th>\n",
       "      <th></th>\n",
       "      <th></th>\n",
       "      <th></th>\n",
       "      <th></th>\n",
       "      <th></th>\n",
       "      <th></th>\n",
       "    </tr>\n",
       "  </thead>\n",
       "  <tbody>\n",
       "    <tr>\n",
       "      <th>2013-10-08</th>\n",
       "      <td>25.0</td>\n",
       "      <td>121.794998</td>\n",
       "      <td>120.655327</td>\n",
       "      <td>121.338661</td>\n",
       "      <td>118.674660</td>\n",
       "      <td>108.584831</td>\n",
       "      <td>125.455002</td>\n",
       "      <td>123.654991</td>\n",
       "    </tr>\n",
       "    <tr>\n",
       "      <th>2013-10-09</th>\n",
       "      <td>25.0</td>\n",
       "      <td>123.032997</td>\n",
       "      <td>121.794998</td>\n",
       "      <td>120.655327</td>\n",
       "      <td>121.338661</td>\n",
       "      <td>118.674660</td>\n",
       "      <td>108.584831</td>\n",
       "      <td>125.455002</td>\n",
       "    </tr>\n",
       "    <tr>\n",
       "      <th>2013-10-10</th>\n",
       "      <td>25.0</td>\n",
       "      <td>124.049004</td>\n",
       "      <td>123.032997</td>\n",
       "      <td>121.794998</td>\n",
       "      <td>120.655327</td>\n",
       "      <td>121.338661</td>\n",
       "      <td>118.674660</td>\n",
       "      <td>108.584831</td>\n",
       "    </tr>\n",
       "    <tr>\n",
       "      <th>2013-10-11</th>\n",
       "      <td>25.0</td>\n",
       "      <td>125.961159</td>\n",
       "      <td>124.049004</td>\n",
       "      <td>123.032997</td>\n",
       "      <td>121.794998</td>\n",
       "      <td>120.655327</td>\n",
       "      <td>121.338661</td>\n",
       "      <td>118.674660</td>\n",
       "    </tr>\n",
       "    <tr>\n",
       "      <th>2013-10-12</th>\n",
       "      <td>25.0</td>\n",
       "      <td>125.279663</td>\n",
       "      <td>125.961159</td>\n",
       "      <td>124.049004</td>\n",
       "      <td>123.032997</td>\n",
       "      <td>121.794998</td>\n",
       "      <td>120.655327</td>\n",
       "      <td>121.338661</td>\n",
       "    </tr>\n",
       "  </tbody>\n",
       "</table>\n",
       "</div>"
      ],
      "text/plain": [
       "            block_reward     Price+1     Price+2     Price+3     Price+4  \\\n",
       "Date                                                                       \n",
       "2013-10-08          25.0  121.794998  120.655327  121.338661  118.674660   \n",
       "2013-10-09          25.0  123.032997  121.794998  120.655327  121.338661   \n",
       "2013-10-10          25.0  124.049004  123.032997  121.794998  120.655327   \n",
       "2013-10-11          25.0  125.961159  124.049004  123.032997  121.794998   \n",
       "2013-10-12          25.0  125.279663  125.961159  124.049004  123.032997   \n",
       "\n",
       "               Price+5     Price+6     Price+7  \n",
       "Date                                            \n",
       "2013-10-08  108.584831  125.455002  123.654991  \n",
       "2013-10-09  118.674660  108.584831  125.455002  \n",
       "2013-10-10  121.338661  118.674660  108.584831  \n",
       "2013-10-11  120.655327  121.338661  118.674660  \n",
       "2013-10-12  121.794998  120.655327  121.338661  "
      ]
     },
     "execution_count": 85,
     "metadata": {},
     "output_type": "execute_result"
    }
   ],
   "source": [
    "# Let's create X & y, remove the NaN's and convert to float32 to prevent TensorFlow errors \n",
    "X = bitcoin_prices_windowed.dropna().drop(\"Price\", axis=1).astype(np.float32) \n",
    "y = bitcoin_prices_windowed.dropna()[\"Price\"].astype(np.float32)\n",
    "X.head()"
   ]
  },
  {
   "cell_type": "code",
   "execution_count": 86,
   "id": "ab46f137",
   "metadata": {},
   "outputs": [
    {
     "data": {
      "text/plain": [
       "(2224, 2224, 556, 556)"
      ]
     },
     "execution_count": 86,
     "metadata": {},
     "output_type": "execute_result"
    }
   ],
   "source": [
    "# Make train and test sets\n",
    "split_size = int(len(X) * 0.8)\n",
    "X_train, y_train = X[:split_size], y[:split_size]\n",
    "X_test, y_test = X[split_size:], y[split_size:]\n",
    "len(X_train), len(y_train), len(X_test), len(y_test)"
   ]
  },
  {
   "cell_type": "code",
   "execution_count": null,
   "id": "bab885da",
   "metadata": {},
   "outputs": [],
   "source": []
  },
  {
   "cell_type": "code",
   "execution_count": 87,
   "id": "c8dab83b",
   "metadata": {},
   "outputs": [
    {
     "name": "stdout",
     "output_type": "stream",
     "text": [
      "INFO:tensorflow:Assets written to: model_experiments\\model_6_dense_multivariate\\assets\n"
     ]
    },
    {
     "name": "stderr",
     "output_type": "stream",
     "text": [
      "INFO:tensorflow:Assets written to: model_experiments\\model_6_dense_multivariate\\assets\n"
     ]
    },
    {
     "name": "stdout",
     "output_type": "stream",
     "text": [
      "INFO:tensorflow:Assets written to: model_experiments\\model_6_dense_multivariate\\assets\n"
     ]
    },
    {
     "name": "stderr",
     "output_type": "stream",
     "text": [
      "INFO:tensorflow:Assets written to: model_experiments\\model_6_dense_multivariate\\assets\n"
     ]
    },
    {
     "name": "stdout",
     "output_type": "stream",
     "text": [
      "INFO:tensorflow:Assets written to: model_experiments\\model_6_dense_multivariate\\assets\n"
     ]
    },
    {
     "name": "stderr",
     "output_type": "stream",
     "text": [
      "INFO:tensorflow:Assets written to: model_experiments\\model_6_dense_multivariate\\assets\n"
     ]
    },
    {
     "name": "stdout",
     "output_type": "stream",
     "text": [
      "INFO:tensorflow:Assets written to: model_experiments\\model_6_dense_multivariate\\assets\n"
     ]
    },
    {
     "name": "stderr",
     "output_type": "stream",
     "text": [
      "INFO:tensorflow:Assets written to: model_experiments\\model_6_dense_multivariate\\assets\n"
     ]
    },
    {
     "name": "stdout",
     "output_type": "stream",
     "text": [
      "INFO:tensorflow:Assets written to: model_experiments\\model_6_dense_multivariate\\assets\n"
     ]
    },
    {
     "name": "stderr",
     "output_type": "stream",
     "text": [
      "INFO:tensorflow:Assets written to: model_experiments\\model_6_dense_multivariate\\assets\n"
     ]
    },
    {
     "name": "stdout",
     "output_type": "stream",
     "text": [
      "INFO:tensorflow:Assets written to: model_experiments\\model_6_dense_multivariate\\assets\n"
     ]
    },
    {
     "name": "stderr",
     "output_type": "stream",
     "text": [
      "INFO:tensorflow:Assets written to: model_experiments\\model_6_dense_multivariate\\assets\n"
     ]
    },
    {
     "name": "stdout",
     "output_type": "stream",
     "text": [
      "INFO:tensorflow:Assets written to: model_experiments\\model_6_dense_multivariate\\assets\n"
     ]
    },
    {
     "name": "stderr",
     "output_type": "stream",
     "text": [
      "INFO:tensorflow:Assets written to: model_experiments\\model_6_dense_multivariate\\assets\n"
     ]
    },
    {
     "name": "stdout",
     "output_type": "stream",
     "text": [
      "INFO:tensorflow:Assets written to: model_experiments\\model_6_dense_multivariate\\assets\n"
     ]
    },
    {
     "name": "stderr",
     "output_type": "stream",
     "text": [
      "INFO:tensorflow:Assets written to: model_experiments\\model_6_dense_multivariate\\assets\n"
     ]
    },
    {
     "name": "stdout",
     "output_type": "stream",
     "text": [
      "INFO:tensorflow:Assets written to: model_experiments\\model_6_dense_multivariate\\assets\n"
     ]
    },
    {
     "name": "stderr",
     "output_type": "stream",
     "text": [
      "INFO:tensorflow:Assets written to: model_experiments\\model_6_dense_multivariate\\assets\n"
     ]
    },
    {
     "name": "stdout",
     "output_type": "stream",
     "text": [
      "INFO:tensorflow:Assets written to: model_experiments\\model_6_dense_multivariate\\assets\n"
     ]
    },
    {
     "name": "stderr",
     "output_type": "stream",
     "text": [
      "INFO:tensorflow:Assets written to: model_experiments\\model_6_dense_multivariate\\assets\n"
     ]
    },
    {
     "name": "stdout",
     "output_type": "stream",
     "text": [
      "INFO:tensorflow:Assets written to: model_experiments\\model_6_dense_multivariate\\assets\n"
     ]
    },
    {
     "name": "stderr",
     "output_type": "stream",
     "text": [
      "INFO:tensorflow:Assets written to: model_experiments\\model_6_dense_multivariate\\assets\n"
     ]
    },
    {
     "name": "stdout",
     "output_type": "stream",
     "text": [
      "INFO:tensorflow:Assets written to: model_experiments\\model_6_dense_multivariate\\assets\n"
     ]
    },
    {
     "name": "stderr",
     "output_type": "stream",
     "text": [
      "INFO:tensorflow:Assets written to: model_experiments\\model_6_dense_multivariate\\assets\n"
     ]
    },
    {
     "name": "stdout",
     "output_type": "stream",
     "text": [
      "INFO:tensorflow:Assets written to: model_experiments\\model_6_dense_multivariate\\assets\n"
     ]
    },
    {
     "name": "stderr",
     "output_type": "stream",
     "text": [
      "INFO:tensorflow:Assets written to: model_experiments\\model_6_dense_multivariate\\assets\n"
     ]
    },
    {
     "name": "stdout",
     "output_type": "stream",
     "text": [
      "INFO:tensorflow:Assets written to: model_experiments\\model_6_dense_multivariate\\assets\n"
     ]
    },
    {
     "name": "stderr",
     "output_type": "stream",
     "text": [
      "INFO:tensorflow:Assets written to: model_experiments\\model_6_dense_multivariate\\assets\n"
     ]
    },
    {
     "name": "stdout",
     "output_type": "stream",
     "text": [
      "INFO:tensorflow:Assets written to: model_experiments\\model_6_dense_multivariate\\assets\n"
     ]
    },
    {
     "name": "stderr",
     "output_type": "stream",
     "text": [
      "INFO:tensorflow:Assets written to: model_experiments\\model_6_dense_multivariate\\assets\n"
     ]
    },
    {
     "name": "stdout",
     "output_type": "stream",
     "text": [
      "INFO:tensorflow:Assets written to: model_experiments\\model_6_dense_multivariate\\assets\n"
     ]
    },
    {
     "name": "stderr",
     "output_type": "stream",
     "text": [
      "INFO:tensorflow:Assets written to: model_experiments\\model_6_dense_multivariate\\assets\n"
     ]
    },
    {
     "name": "stdout",
     "output_type": "stream",
     "text": [
      "INFO:tensorflow:Assets written to: model_experiments\\model_6_dense_multivariate\\assets\n"
     ]
    },
    {
     "name": "stderr",
     "output_type": "stream",
     "text": [
      "INFO:tensorflow:Assets written to: model_experiments\\model_6_dense_multivariate\\assets\n"
     ]
    },
    {
     "name": "stdout",
     "output_type": "stream",
     "text": [
      "INFO:tensorflow:Assets written to: model_experiments\\model_6_dense_multivariate\\assets\n"
     ]
    },
    {
     "name": "stderr",
     "output_type": "stream",
     "text": [
      "INFO:tensorflow:Assets written to: model_experiments\\model_6_dense_multivariate\\assets\n"
     ]
    },
    {
     "name": "stdout",
     "output_type": "stream",
     "text": [
      "INFO:tensorflow:Assets written to: model_experiments\\model_6_dense_multivariate\\assets\n"
     ]
    },
    {
     "name": "stderr",
     "output_type": "stream",
     "text": [
      "INFO:tensorflow:Assets written to: model_experiments\\model_6_dense_multivariate\\assets\n"
     ]
    },
    {
     "name": "stdout",
     "output_type": "stream",
     "text": [
      "INFO:tensorflow:Assets written to: model_experiments\\model_6_dense_multivariate\\assets\n"
     ]
    },
    {
     "name": "stderr",
     "output_type": "stream",
     "text": [
      "INFO:tensorflow:Assets written to: model_experiments\\model_6_dense_multivariate\\assets\n"
     ]
    },
    {
     "name": "stdout",
     "output_type": "stream",
     "text": [
      "INFO:tensorflow:Assets written to: model_experiments\\model_6_dense_multivariate\\assets\n"
     ]
    },
    {
     "name": "stderr",
     "output_type": "stream",
     "text": [
      "INFO:tensorflow:Assets written to: model_experiments\\model_6_dense_multivariate\\assets\n"
     ]
    },
    {
     "name": "stdout",
     "output_type": "stream",
     "text": [
      "INFO:tensorflow:Assets written to: model_experiments\\model_6_dense_multivariate\\assets\n"
     ]
    },
    {
     "name": "stderr",
     "output_type": "stream",
     "text": [
      "INFO:tensorflow:Assets written to: model_experiments\\model_6_dense_multivariate\\assets\n"
     ]
    },
    {
     "name": "stdout",
     "output_type": "stream",
     "text": [
      "INFO:tensorflow:Assets written to: model_experiments\\model_6_dense_multivariate\\assets\n"
     ]
    },
    {
     "name": "stderr",
     "output_type": "stream",
     "text": [
      "INFO:tensorflow:Assets written to: model_experiments\\model_6_dense_multivariate\\assets\n"
     ]
    },
    {
     "name": "stdout",
     "output_type": "stream",
     "text": [
      "INFO:tensorflow:Assets written to: model_experiments\\model_6_dense_multivariate\\assets\n"
     ]
    },
    {
     "name": "stderr",
     "output_type": "stream",
     "text": [
      "INFO:tensorflow:Assets written to: model_experiments\\model_6_dense_multivariate\\assets\n"
     ]
    },
    {
     "name": "stdout",
     "output_type": "stream",
     "text": [
      "INFO:tensorflow:Assets written to: model_experiments\\model_6_dense_multivariate\\assets\n"
     ]
    },
    {
     "name": "stderr",
     "output_type": "stream",
     "text": [
      "INFO:tensorflow:Assets written to: model_experiments\\model_6_dense_multivariate\\assets\n"
     ]
    },
    {
     "name": "stdout",
     "output_type": "stream",
     "text": [
      "INFO:tensorflow:Assets written to: model_experiments\\model_6_dense_multivariate\\assets\n"
     ]
    },
    {
     "name": "stderr",
     "output_type": "stream",
     "text": [
      "INFO:tensorflow:Assets written to: model_experiments\\model_6_dense_multivariate\\assets\n"
     ]
    },
    {
     "name": "stdout",
     "output_type": "stream",
     "text": [
      "INFO:tensorflow:Assets written to: model_experiments\\model_6_dense_multivariate\\assets\n"
     ]
    },
    {
     "name": "stderr",
     "output_type": "stream",
     "text": [
      "INFO:tensorflow:Assets written to: model_experiments\\model_6_dense_multivariate\\assets\n"
     ]
    },
    {
     "name": "stdout",
     "output_type": "stream",
     "text": [
      "INFO:tensorflow:Assets written to: model_experiments\\model_6_dense_multivariate\\assets\n"
     ]
    },
    {
     "name": "stderr",
     "output_type": "stream",
     "text": [
      "INFO:tensorflow:Assets written to: model_experiments\\model_6_dense_multivariate\\assets\n"
     ]
    },
    {
     "name": "stdout",
     "output_type": "stream",
     "text": [
      "INFO:tensorflow:Assets written to: model_experiments\\model_6_dense_multivariate\\assets\n"
     ]
    },
    {
     "name": "stderr",
     "output_type": "stream",
     "text": [
      "INFO:tensorflow:Assets written to: model_experiments\\model_6_dense_multivariate\\assets\n"
     ]
    },
    {
     "name": "stdout",
     "output_type": "stream",
     "text": [
      "INFO:tensorflow:Assets written to: model_experiments\\model_6_dense_multivariate\\assets\n"
     ]
    },
    {
     "name": "stderr",
     "output_type": "stream",
     "text": [
      "INFO:tensorflow:Assets written to: model_experiments\\model_6_dense_multivariate\\assets\n"
     ]
    },
    {
     "name": "stdout",
     "output_type": "stream",
     "text": [
      "INFO:tensorflow:Assets written to: model_experiments\\model_6_dense_multivariate\\assets\n"
     ]
    },
    {
     "name": "stderr",
     "output_type": "stream",
     "text": [
      "INFO:tensorflow:Assets written to: model_experiments\\model_6_dense_multivariate\\assets\n"
     ]
    },
    {
     "name": "stdout",
     "output_type": "stream",
     "text": [
      "INFO:tensorflow:Assets written to: model_experiments\\model_6_dense_multivariate\\assets\n"
     ]
    },
    {
     "name": "stderr",
     "output_type": "stream",
     "text": [
      "INFO:tensorflow:Assets written to: model_experiments\\model_6_dense_multivariate\\assets\n"
     ]
    },
    {
     "name": "stdout",
     "output_type": "stream",
     "text": [
      "INFO:tensorflow:Assets written to: model_experiments\\model_6_dense_multivariate\\assets\n"
     ]
    },
    {
     "name": "stderr",
     "output_type": "stream",
     "text": [
      "INFO:tensorflow:Assets written to: model_experiments\\model_6_dense_multivariate\\assets\n"
     ]
    },
    {
     "name": "stdout",
     "output_type": "stream",
     "text": [
      "INFO:tensorflow:Assets written to: model_experiments\\model_6_dense_multivariate\\assets\n"
     ]
    },
    {
     "name": "stderr",
     "output_type": "stream",
     "text": [
      "INFO:tensorflow:Assets written to: model_experiments\\model_6_dense_multivariate\\assets\n"
     ]
    },
    {
     "name": "stdout",
     "output_type": "stream",
     "text": [
      "INFO:tensorflow:Assets written to: model_experiments\\model_6_dense_multivariate\\assets\n"
     ]
    },
    {
     "name": "stderr",
     "output_type": "stream",
     "text": [
      "INFO:tensorflow:Assets written to: model_experiments\\model_6_dense_multivariate\\assets\n"
     ]
    },
    {
     "name": "stdout",
     "output_type": "stream",
     "text": [
      "INFO:tensorflow:Assets written to: model_experiments\\model_6_dense_multivariate\\assets\n"
     ]
    },
    {
     "name": "stderr",
     "output_type": "stream",
     "text": [
      "INFO:tensorflow:Assets written to: model_experiments\\model_6_dense_multivariate\\assets\n"
     ]
    },
    {
     "name": "stdout",
     "output_type": "stream",
     "text": [
      "INFO:tensorflow:Assets written to: model_experiments\\model_6_dense_multivariate\\assets\n"
     ]
    },
    {
     "name": "stderr",
     "output_type": "stream",
     "text": [
      "INFO:tensorflow:Assets written to: model_experiments\\model_6_dense_multivariate\\assets\n"
     ]
    },
    {
     "name": "stdout",
     "output_type": "stream",
     "text": [
      "INFO:tensorflow:Assets written to: model_experiments\\model_6_dense_multivariate\\assets\n"
     ]
    },
    {
     "name": "stderr",
     "output_type": "stream",
     "text": [
      "INFO:tensorflow:Assets written to: model_experiments\\model_6_dense_multivariate\\assets\n"
     ]
    },
    {
     "name": "stdout",
     "output_type": "stream",
     "text": [
      "INFO:tensorflow:Assets written to: model_experiments\\model_6_dense_multivariate\\assets\n"
     ]
    },
    {
     "name": "stderr",
     "output_type": "stream",
     "text": [
      "INFO:tensorflow:Assets written to: model_experiments\\model_6_dense_multivariate\\assets\n"
     ]
    },
    {
     "name": "stdout",
     "output_type": "stream",
     "text": [
      "INFO:tensorflow:Assets written to: model_experiments\\model_6_dense_multivariate\\assets\n"
     ]
    },
    {
     "name": "stderr",
     "output_type": "stream",
     "text": [
      "INFO:tensorflow:Assets written to: model_experiments\\model_6_dense_multivariate\\assets\n"
     ]
    },
    {
     "name": "stdout",
     "output_type": "stream",
     "text": [
      "INFO:tensorflow:Assets written to: model_experiments\\model_6_dense_multivariate\\assets\n"
     ]
    },
    {
     "name": "stderr",
     "output_type": "stream",
     "text": [
      "INFO:tensorflow:Assets written to: model_experiments\\model_6_dense_multivariate\\assets\n"
     ]
    },
    {
     "name": "stdout",
     "output_type": "stream",
     "text": [
      "INFO:tensorflow:Assets written to: model_experiments\\model_6_dense_multivariate\\assets\n"
     ]
    },
    {
     "name": "stderr",
     "output_type": "stream",
     "text": [
      "INFO:tensorflow:Assets written to: model_experiments\\model_6_dense_multivariate\\assets\n"
     ]
    },
    {
     "data": {
      "text/plain": [
       "<keras.callbacks.History at 0x22d3a66c670>"
      ]
     },
     "execution_count": 87,
     "metadata": {},
     "output_type": "execute_result"
    }
   ],
   "source": [
    "tf.random.set_seed(42)\n",
    "\n",
    "# Make multivariate time series model\n",
    "model_6 = tf.keras.Sequential([\n",
    "  layers.Dense(128, activation=\"relu\"),\n",
    "  # layers.Dense(128, activation=\"relu\"), # adding an extra layer here should lead to beating the naive model\n",
    "  layers.Dense(HORIZON)\n",
    "], name=\"model_6_dense_multivariate\")\n",
    "\n",
    "# Compile\n",
    "model_6.compile(loss=\"mae\",\n",
    "                optimizer=tf.keras.optimizers.Adam())\n",
    "\n",
    "# Fit\n",
    "model_6.fit(X_train, y_train,\n",
    "            epochs=100,\n",
    "            batch_size=128,\n",
    "            verbose=0, # only print 1 line per epoch\n",
    "            validation_data=(X_test, y_test),\n",
    "            callbacks=[create_model_checkpoint(model_name=model_6.name)])"
   ]
  },
  {
   "cell_type": "code",
   "execution_count": 88,
   "id": "b184fec1",
   "metadata": {},
   "outputs": [
    {
     "name": "stdout",
     "output_type": "stream",
     "text": [
      "18/18 [==============================] - 0s 2ms/step - loss: 568.4503\n"
     ]
    },
    {
     "data": {
      "text/plain": [
       "568.4503173828125"
      ]
     },
     "execution_count": 88,
     "metadata": {},
     "output_type": "execute_result"
    }
   ],
   "source": [
    "# Make sure best model is loaded and evaluate\n",
    "model_6 = tf.keras.models.load_model(\"model_experiments/model_6_dense_multivariate\")\n",
    "model_6.evaluate(X_test, y_test)"
   ]
  },
  {
   "cell_type": "code",
   "execution_count": 89,
   "id": "13c16ab3",
   "metadata": {},
   "outputs": [
    {
     "data": {
      "text/plain": [
       "<tf.Tensor: shape=(10,), dtype=float32, numpy=\n",
       "array([8854.9375, 8783.561 , 9061.753 , 8759.416 , 8737.171 , 8784.179 ,\n",
       "       8680.541 , 8514.698 , 8481.642 , 8540.749 ], dtype=float32)>"
      ]
     },
     "execution_count": 89,
     "metadata": {},
     "output_type": "execute_result"
    }
   ],
   "source": [
    "# Make predictions on multivariate data\n",
    "model_6_preds = tf.squeeze(model_6.predict(X_test))\n",
    "model_6_preds[:10]"
   ]
  },
  {
   "cell_type": "code",
   "execution_count": 90,
   "id": "55d286ed",
   "metadata": {},
   "outputs": [
    {
     "data": {
      "text/plain": [
       "{'mae': 568.4503,\n",
       " 'mse': 1166160.1,\n",
       " 'rmse': 1079.8889,\n",
       " 'mape': 2.5497797,\n",
       " 'mase': 0.9986098}"
      ]
     },
     "execution_count": 90,
     "metadata": {},
     "output_type": "execute_result"
    }
   ],
   "source": [
    "# Evaluate preds\n",
    "model_6_results = evaluate_preds(y_true=y_test,\n",
    "                                 y_pred=model_6_preds)\n",
    "model_6_results"
   ]
  },
  {
   "cell_type": "code",
   "execution_count": 91,
   "id": "60262aaa",
   "metadata": {},
   "outputs": [
    {
     "data": {
      "text/plain": [
       "{'mae': 568.5499,\n",
       " 'mse': 1172587.9,\n",
       " 'rmse': 1082.861,\n",
       " 'mape': 2.5492291,\n",
       " 'mase': 0.9987845467588513}"
      ]
     },
     "execution_count": 91,
     "metadata": {},
     "output_type": "execute_result"
    }
   ],
   "source": [
    "model_1_results"
   ]
  },
  {
   "cell_type": "code",
   "execution_count": 92,
   "id": "854462c9",
   "metadata": {},
   "outputs": [
    {
     "data": {
      "text/plain": [
       "{'mae': 567.9802273457542,\n",
       " 'mse': 1147547.125023896,\n",
       " 'rmse': 1071.2362601330744,\n",
       " 'mape': 2.516524929982267,\n",
       " 'mase': 0.9995699939182626}"
      ]
     },
     "execution_count": 92,
     "metadata": {},
     "output_type": "execute_result"
    }
   ],
   "source": [
    "naive_results"
   ]
  },
  {
   "cell_type": "code",
   "execution_count": 96,
   "id": "9572848f",
   "metadata": {},
   "outputs": [
    {
     "data": {
      "text/html": [
       "<div>\n",
       "<style scoped>\n",
       "    .dataframe tbody tr th:only-of-type {\n",
       "        vertical-align: middle;\n",
       "    }\n",
       "\n",
       "    .dataframe tbody tr th {\n",
       "        vertical-align: top;\n",
       "    }\n",
       "\n",
       "    .dataframe thead th {\n",
       "        text-align: right;\n",
       "    }\n",
       "</style>\n",
       "<table border=\"1\" class=\"dataframe\">\n",
       "  <thead>\n",
       "    <tr style=\"text-align: right;\">\n",
       "      <th></th>\n",
       "      <th>mae</th>\n",
       "      <th>mse</th>\n",
       "      <th>rmse</th>\n",
       "      <th>mape</th>\n",
       "      <th>mase</th>\n",
       "    </tr>\n",
       "  </thead>\n",
       "  <tbody>\n",
       "    <tr>\n",
       "      <th>naive_model</th>\n",
       "      <td>567.980227</td>\n",
       "      <td>1.147547e+06</td>\n",
       "      <td>1071.236260</td>\n",
       "      <td>2.516525</td>\n",
       "      <td>0.999570</td>\n",
       "    </tr>\n",
       "    <tr>\n",
       "      <th>model_1_dense_w7_h1</th>\n",
       "      <td>568.549927</td>\n",
       "      <td>1.172588e+06</td>\n",
       "      <td>1082.860962</td>\n",
       "      <td>2.549229</td>\n",
       "      <td>0.998785</td>\n",
       "    </tr>\n",
       "    <tr>\n",
       "      <th>model_2_dense_w30_h1</th>\n",
       "      <td>658.029114</td>\n",
       "      <td>1.417082e+06</td>\n",
       "      <td>1190.412476</td>\n",
       "      <td>3.039736</td>\n",
       "      <td>1.150241</td>\n",
       "    </tr>\n",
       "    <tr>\n",
       "      <th>model_3_dense_w30_h7</th>\n",
       "      <td>1317.801880</td>\n",
       "      <td>5.712460e+06</td>\n",
       "      <td>1499.331421</td>\n",
       "      <td>5.803435</td>\n",
       "      <td>2.344954</td>\n",
       "    </tr>\n",
       "    <tr>\n",
       "      <th>model_4_CONV1D</th>\n",
       "      <td>624.189209</td>\n",
       "      <td>1.271775e+06</td>\n",
       "      <td>1127.730103</td>\n",
       "      <td>2.830450</td>\n",
       "      <td>1.096528</td>\n",
       "    </tr>\n",
       "    <tr>\n",
       "      <th>model_5_LSTM</th>\n",
       "      <td>597.898254</td>\n",
       "      <td>1.276846e+06</td>\n",
       "      <td>1129.975952</td>\n",
       "      <td>2.692820</td>\n",
       "      <td>1.050342</td>\n",
       "    </tr>\n",
       "    <tr>\n",
       "      <th>model_6_multivariate</th>\n",
       "      <td>568.450317</td>\n",
       "      <td>1.166160e+06</td>\n",
       "      <td>1079.888916</td>\n",
       "      <td>2.549780</td>\n",
       "      <td>0.998610</td>\n",
       "    </tr>\n",
       "  </tbody>\n",
       "</table>\n",
       "</div>"
      ],
      "text/plain": [
       "                              mae           mse         rmse      mape  \\\n",
       "naive_model            567.980227  1.147547e+06  1071.236260  2.516525   \n",
       "model_1_dense_w7_h1    568.549927  1.172588e+06  1082.860962  2.549229   \n",
       "model_2_dense_w30_h1   658.029114  1.417082e+06  1190.412476  3.039736   \n",
       "model_3_dense_w30_h7  1317.801880  5.712460e+06  1499.331421  5.803435   \n",
       "model_4_CONV1D         624.189209  1.271775e+06  1127.730103  2.830450   \n",
       "model_5_LSTM           597.898254  1.276846e+06  1129.975952  2.692820   \n",
       "model_6_multivariate   568.450317  1.166160e+06  1079.888916  2.549780   \n",
       "\n",
       "                          mase  \n",
       "naive_model           0.999570  \n",
       "model_1_dense_w7_h1   0.998785  \n",
       "model_2_dense_w30_h1  1.150241  \n",
       "model_3_dense_w30_h7  2.344954  \n",
       "model_4_CONV1D        1.096528  \n",
       "model_5_LSTM          1.050342  \n",
       "model_6_multivariate  0.998610  "
      ]
     },
     "execution_count": 96,
     "metadata": {},
     "output_type": "execute_result"
    }
   ],
   "source": [
    "# Compare different model results (w = window, h = horizon, e.g. w=7 means a window size of 7)\n",
    "model_results = pd.DataFrame({\"naive_model\": naive_results,\n",
    "                              \"model_1_dense_w7_h1\": model_1_results,\n",
    "                              \"model_2_dense_w30_h1\": model_2_results,\n",
    "                              \"model_3_dense_w30_h7\": model_3_results,\n",
    "                              \"model_4_CONV1D\": model_4_results,\n",
    "                              \"model_5_LSTM\": model_5_results,\n",
    "                              \"model_6_multivariate\": model_6_results}).T\n",
    "model_results"
   ]
  },
  {
   "cell_type": "code",
   "execution_count": 97,
   "id": "ef1187aa",
   "metadata": {},
   "outputs": [
    {
     "data": {
      "image/png": "[encoded data removed]",
      "text/plain": [
       "<Figure size 720x504 with 1 Axes>"
      ]
     },
     "metadata": {
      "needs_background": "light"
     },
     "output_type": "display_data"
    }
   ],
   "source": [
    "# Sort model results by MAE and plot them\n",
    "model_results[[\"mae\"]].sort_values(by=\"mae\").plot(figsize=(10, 7), kind=\"bar\");"
   ]
  },
  {
   "cell_type": "code",
   "execution_count": null,
   "id": "1f6dcd97",
   "metadata": {},
   "outputs": [],
   "source": []
  }
 ],
 "metadata": {
  "kernelspec": {
   "display_name": "Python 3 (ipykernel)",
   "language": "python",
   "name": "python3"
  },
  "language_info": {
   "codemirror_mode": {
    "name": "ipython",
    "version": 3
   },
   "file_extension": ".py",
   "mimetype": "text/x-python",
   "name": "python",
   "nbconvert_exporter": "python",
   "pygments_lexer": "ipython3",
   "version": "3.9.7"
  }
 },
 "nbformat": 4,
 "nbformat_minor": 5
}
